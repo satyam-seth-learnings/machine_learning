{
 "cells": [
  {
   "cell_type": "code",
   "execution_count": 36,
   "metadata": {},
   "outputs": [
    {
     "name": "stdout",
     "output_type": "stream",
     "text": [
      "        Name  Salary Country\n",
      "0      Rahul   40000   India\n",
      "1       Ravi   32000     USA\n",
      "2    Saurabh   45000   Italy\n",
      "3     Mahesh   54000   India\n",
      "4    Rishabh   72000   India\n",
      "5      Rajat   62000     USA\n",
      "6   Abhishek   92000   Italy\n",
      "7      Jatin   55000   India\n",
      "8     Gaurav   35000   Italy\n",
      "9      Ritik   48000     USA\n",
      "10      Mani   34000   India\n",
      "11      Neha   32100     USA\n",
      "12     Naman   35600   Italy\n",
      "13   Pradeep   43800   Italy\n"
     ]
    }
   ],
   "source": [
    "# Read the p1.csv file in a dataframe variable and calculate the following:\n",
    "import pandas as pd\n",
    "df=pd.read_csv('p1.csv')\n",
    "print(df)"
   ]
  },
  {
   "cell_type": "code",
   "execution_count": 23,
   "metadata": {},
   "outputs": [
    {
     "name": "stdout",
     "output_type": "stream",
     "text": [
      "48607.142857142855\n"
     ]
    }
   ],
   "source": [
    "# a. Mean salary\n",
    "print(df['Salary'].mean())"
   ]
  },
  {
   "cell_type": "code",
   "execution_count": 24,
   "metadata": {},
   "outputs": [
    {
     "name": "stdout",
     "output_type": "stream",
     "text": [
      "680500\n"
     ]
    }
   ],
   "source": [
    "# b. Total sum of salaries\n",
    "print(df['Salary'].sum())"
   ]
  },
  {
   "cell_type": "code",
   "execution_count": 25,
   "metadata": {},
   "outputs": [
    {
     "name": "stdout",
     "output_type": "stream",
     "text": [
      "92000\n"
     ]
    }
   ],
   "source": [
    "# c. Maximum salary\n",
    "print(df['Salary'].max())"
   ]
  },
  {
   "cell_type": "code",
   "execution_count": 29,
   "metadata": {},
   "outputs": [
    {
     "name": "stdout",
     "output_type": "stream",
     "text": [
      "32000\n"
     ]
    }
   ],
   "source": [
    "# d. Minimum salary\n",
    "print(df['Salary'].min())"
   ]
  },
  {
   "cell_type": "code",
   "execution_count": 30,
   "metadata": {},
   "outputs": [
    {
     "name": "stdout",
     "output_type": "stream",
     "text": [
      "43800    1\n",
      "55000    1\n",
      "62000    1\n",
      "35600    1\n",
      "48000    1\n",
      "54000    1\n",
      "35000    1\n",
      "92000    1\n",
      "34000    1\n",
      "72000    1\n",
      "45000    1\n",
      "32100    1\n",
      "32000    1\n",
      "40000    1\n",
      "Name: Salary, dtype: int64\n"
     ]
    }
   ],
   "source": [
    "# e. Count of salaries\n",
    "print(df['Salary'].value_counts())"
   ]
  },
  {
   "cell_type": "code",
   "execution_count": 31,
   "metadata": {},
   "outputs": [
    {
     "name": "stdout",
     "output_type": "stream",
     "text": [
      "44400.0\n"
     ]
    }
   ],
   "source": [
    "# f. Median salary\n",
    "print(df['Salary'].median())"
   ]
  },
  {
   "cell_type": "code",
   "execution_count": 32,
   "metadata": {},
   "outputs": [
    {
     "name": "stdout",
     "output_type": "stream",
     "text": [
      "17333.935781302804\n"
     ]
    }
   ],
   "source": [
    "# g. Standard deviation of salaries\n",
    "print(df['Salary'].std())"
   ]
  },
  {
   "cell_type": "code",
   "execution_count": 33,
   "metadata": {},
   "outputs": [
    {
     "name": "stdout",
     "output_type": "stream",
     "text": [
      "(14, 3)\n"
     ]
    }
   ],
   "source": [
    "# h. Count the no. of rows and no. of columns in the data frame.\n",
    "print(df.shape)"
   ]
  },
  {
   "cell_type": "code",
   "execution_count": 37,
   "metadata": {},
   "outputs": [
    {
     "name": "stdout",
     "output_type": "stream",
     "text": [
      "        Name  Salary Country\n",
      "0      Rahul   40000   India\n",
      "1       Ravi   32000     USA\n",
      "2    Saurabh   45000   Italy\n",
      "3     Mahesh   54000   India\n",
      "4    Rishabh   72000   India\n",
      "5      Rajat   62000     USA\n",
      "6   Abhishek   92000   Italy\n",
      "7      Jatin   55000   India\n",
      "8     Gaurav   35000   Italy\n",
      "9      Ritik   48000     USA\n",
      "10      Mani   34000   India\n",
      "11      Neha   32100     USA\n",
      "12     Naman   35600   Italy\n",
      "13   Pradeep   43800   Italy\n",
      "14    Satyam  123145   India\n"
     ]
    }
   ],
   "source": [
    "# i. append a new row at the end of the dataframe.\n",
    "new_row=pd.DataFrame([['Satyam',123145,'India']],columns=['Name','Salary','Country'])\n",
    "df=df.append(new_row,ignore_index=True)\n",
    "print(df)"
   ]
  },
  {
   "cell_type": "code",
   "execution_count": 39,
   "metadata": {},
   "outputs": [
    {
     "name": "stdout",
     "output_type": "stream",
     "text": [
      "        Name  Salary Country Department\n",
      "0      Rahul   40000   India         IT\n",
      "1       Ravi   32000     USA         CS\n",
      "2    Saurabh   45000   Italy        ECE\n",
      "3     Mahesh   54000   India         CS\n",
      "4    Rishabh   72000   India         EE\n",
      "5      Rajat   62000     USA         CE\n",
      "6   Abhishek   92000   Italy         IT\n",
      "7      Jatin   55000   India         ME\n",
      "8     Gaurav   35000   Italy         IT\n",
      "9      Ritik   48000     USA         CE\n",
      "10      Mani   34000   India        ECE\n",
      "11      Neha   32100     USA         ME\n",
      "12     Naman   35600   Italy        CSE\n",
      "13   Pradeep   43800   Italy         CE\n",
      "14    Satyam  123145   India        NaN\n"
     ]
    }
   ],
   "source": [
    "# j. insert a new column named department and fill new values.\n",
    "df['Department']=pd.Series(['IT','CS','ECE','CS','EE','CE','IT','ME','IT','CE','ECE','ME','CSE','CE'])\n",
    "print(df)"
   ]
  }
 ],
 "metadata": {
  "kernelspec": {
   "display_name": "Python 3",
   "language": "python",
   "name": "python3"
  },
  "language_info": {
   "codemirror_mode": {
    "name": "ipython",
    "version": 3
   },
   "file_extension": ".py",
   "mimetype": "text/x-python",
   "name": "python",
   "nbconvert_exporter": "python",
   "pygments_lexer": "ipython3",
   "version": "3.7.0"
  }
 },
 "nbformat": 4,
 "nbformat_minor": 2
}
