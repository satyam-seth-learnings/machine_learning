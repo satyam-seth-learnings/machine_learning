{
 "cells": [
  {
   "cell_type": "code",
   "execution_count": 1,
   "metadata": {},
   "outputs": [],
   "source": [
    "# 1. Create a data frame:\n",
    "# {'Name': ['Ankit', 'Amit', 'Aishwarya', 'Priyanka', 'Priya', 'Shaurya' ],\n",
    "# 'Age': [21, 19, 20, 16, 17, 21],\n",
    "# 'Stream': ['Math', 'Commerce', 'Science', 'Math', Commerce,\n",
    "# 'Science'],\n",
    "# 'Percentage': [88, 92, 95, 70, 65, 78]}\n"
   ]
  },
  {
   "cell_type": "code",
   "execution_count": 51,
   "metadata": {},
   "outputs": [
    {
     "name": "stdout",
     "output_type": "stream",
     "text": [
      "        Name  Age    Stream  Percentage\n",
      "0      Ankit   21      Math          88\n",
      "1       Amit   19  Commerce          92\n",
      "2  Aishwarya   20   Science          95\n",
      "3   Priyanka   16      Math          70\n",
      "4      Priya   17  Commerce          65\n",
      "5    Shaurya   21   Science          78\n",
      "6      Sahil   23  Commerce          88\n",
      "        Name  Age    Stream  Percentage\n",
      "0      Ankit   21      Math          88\n",
      "1       Amit   19  Commerce          92\n",
      "2  Aishwarya   20   Science          95\n",
      "6      Sahil   23  Commerce          88\n",
      "        Name  Age    Stream  Percentage\n",
      "1       Amit   19  Commerce          92\n",
      "2  Aishwarya   20   Science          95\n",
      "4      Priya   17  Commerce          65\n",
      "5    Shaurya   21   Science          78\n",
      "6      Sahil   23  Commerce          88\n",
      "        Name  Age    Stream  Percentage\n",
      "0      Ankit   21      Math          88\n",
      "1       Amit   19  Commerce          92\n",
      "2  Aishwarya   20   Science          95\n",
      "5    Shaurya   21   Science          78\n",
      "6      Sahil   23  Commerce          88\n",
      "137\n"
     ]
    }
   ],
   "source": [
    "import pandas as pd\n",
    "data={\n",
    "    'Name': ['Ankit', 'Amit', 'Aishwarya', 'Priyanka', 'Priya', 'Shaurya' ],\n",
    "    'Age': [21, 19, 20, 16, 17, 21],\n",
    "    'Stream': ['Math', 'Commerce', 'Science', 'Math', 'Commerce','Science'],\n",
    "    'Percentage': [88, 92, 95, 70, 65, 78]\n",
    "}\n",
    "df=pd.DataFrame(data)\n",
    "# print(df)\n",
    "new_data={\n",
    "    'Name':'Sahil',\n",
    "    'Age':23,\n",
    "    'Stream':'Commerce',\n",
    "    'Percentage':88}\n",
    "df=df.append(new_data,ignore_index=True)\n",
    "print(df)\n",
    "print(df[df.Percentage>80])\n",
    "print(df[(df.Stream == 'Commerce') | (df.Stream == 'Science')])\n",
    "print(df[df.Age>18])\n",
    "print(df.Age.sum())"
   ]
  },
  {
   "cell_type": "code",
   "execution_count": 52,
   "metadata": {},
   "outputs": [],
   "source": [
    "# 2. Get the first 3 rows of above DataFrame."
   ]
  },
  {
   "cell_type": "code",
   "execution_count": 53,
   "metadata": {},
   "outputs": [
    {
     "name": "stdout",
     "output_type": "stream",
     "text": [
      "        Name  Age    Stream  Percentage\n",
      "0      Ankit   21      Math          88\n",
      "1       Amit   19  Commerce          92\n",
      "2  Aishwarya   20   Science          95\n"
     ]
    }
   ],
   "source": [
    "print(df.head(3))"
   ]
  },
  {
   "cell_type": "code",
   "execution_count": 57,
   "metadata": {},
   "outputs": [],
   "source": [
    "# Write a Pandas program to count the number of rows and columns of a DataFrame."
   ]
  },
  {
   "cell_type": "code",
   "execution_count": 60,
   "metadata": {},
   "outputs": [
    {
     "name": "stdout",
     "output_type": "stream",
     "text": [
      "(7, 4)\n"
     ]
    }
   ],
   "source": [
    "print(df.shape)"
   ]
  },
  {
   "cell_type": "code",
   "execution_count": 59,
   "metadata": {},
   "outputs": [],
   "source": [
    "# 4. Print mean of Age and Percentage."
   ]
  },
  {
   "cell_type": "code",
   "execution_count": 62,
   "metadata": {},
   "outputs": [
    {
     "name": "stdout",
     "output_type": "stream",
     "text": [
      "19.571428571428573\n",
      "82.28571428571429\n"
     ]
    }
   ],
   "source": [
    "print(df.Age.mean())\n",
    "print(df.Percentage.mean())"
   ]
  },
  {
   "cell_type": "code",
   "execution_count": 64,
   "metadata": {},
   "outputs": [],
   "source": [
    "# 5. Print Minimum age"
   ]
  },
  {
   "cell_type": "code",
   "execution_count": 65,
   "metadata": {},
   "outputs": [
    {
     "name": "stdout",
     "output_type": "stream",
     "text": [
      "16\n"
     ]
    }
   ],
   "source": [
    "print(df.Age.min())"
   ]
  }
 ],
 "metadata": {
  "kernelspec": {
   "display_name": "Python 3",
   "language": "python",
   "name": "python3"
  },
  "language_info": {
   "codemirror_mode": {
    "name": "ipython",
    "version": 3
   },
   "file_extension": ".py",
   "mimetype": "text/x-python",
   "name": "python",
   "nbconvert_exporter": "python",
   "pygments_lexer": "ipython3",
   "version": "3.7.0"
  }
 },
 "nbformat": 4,
 "nbformat_minor": 2
}
