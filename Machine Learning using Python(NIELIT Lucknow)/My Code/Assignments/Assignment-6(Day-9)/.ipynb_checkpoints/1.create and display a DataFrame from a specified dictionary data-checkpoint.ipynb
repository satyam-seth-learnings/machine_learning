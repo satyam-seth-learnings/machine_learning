{
 "cells": [
  {
   "cell_type": "code",
   "execution_count": null,
   "metadata": {},
   "outputs": [],
   "source": [
    "# 1. Write a Pandas program to create and display a DataFrame from a specified dictionary data which has the index labels. \n",
    "# Sample Python dictionary data and list labels:\n",
    "# exam_data = {'name': ['Ankita', 'Dia', 'Kapil', 'Jayesh', 'Esha', 'Mayank', 'Ravi', 'Lata', 'Kamal', 'Jatin'],\n",
    "# 'score': [12.5, 9, 16.5, 15, 9, 20, 14.5, 17.5, 8, 19],\n",
    "# 'attempts': [1, 3, 2, 3, 2, 3, 1, 1, 2, 1],\n",
    "# 'qualify': ['yes', 'no', 'yes', 'no', 'no', 'yes', 'yes', 'no', 'no', 'yes']}"
   ]
  },
  {
   "cell_type": "code",
   "execution_count": 2,
   "metadata": {},
   "outputs": [
    {
     "name": "stdout",
     "output_type": "stream",
     "text": [
      "     name  score  attempts qualify\n",
      "0  Ankita   12.5         1     yes\n",
      "1     Dia    9.0         3      no\n",
      "2   Kapil   16.5         2     yes\n",
      "3  Jayesh   15.0         3      no\n",
      "4    Esha    9.0         2      no\n",
      "5  Mayank   20.0         3     yes\n",
      "6    Ravi   14.5         1     yes\n",
      "7    Lata   17.5         1      no\n",
      "8   Kamal    8.0         2      no\n",
      "9   Jatin   19.0         1     yes\n"
     ]
    }
   ],
   "source": [
    "import pandas as pd\n",
    "exam_data = {\n",
    "    'name': ['Ankita', 'Dia', 'Kapil', 'Jayesh', 'Esha', 'Mayank', 'Ravi', 'Lata', 'Kamal', 'Jatin'],\n",
    "    'score': [12.5, 9, 16.5, 15, 9, 20, 14.5, 17.5, 8, 19],\n",
    "    'attempts': [1, 3, 2, 3, 2, 3, 1, 1, 2, 1],\n",
    "    'qualify': ['yes', 'no', 'yes', 'no', 'no', 'yes', 'yes', 'no', 'no', 'yes']\n",
    "}\n",
    "df=pd.DataFrame(exam_data)\n",
    "print(df)"
   ]
  }
 ],
 "metadata": {
  "kernelspec": {
   "display_name": "Python 3",
   "language": "python",
   "name": "python3"
  },
  "language_info": {
   "codemirror_mode": {
    "name": "ipython",
    "version": 3
   },
   "file_extension": ".py",
   "mimetype": "text/x-python",
   "name": "python",
   "nbconvert_exporter": "python",
   "pygments_lexer": "ipython3",
   "version": "3.7.0"
  }
 },
 "nbformat": 4,
 "nbformat_minor": 2
}
