{
 "cells": [
  {
   "cell_type": "code",
   "execution_count": 1,
   "metadata": {},
   "outputs": [],
   "source": [
    "# Create a new data frame with three columns – Product_Name, Cost, Sales.\n",
    "# a. \tAdd 10 values in data frame.\n",
    "# b. \tAdd a new column named quantity with 10 values.\n",
    "# c.  \tAdd a new column named: Profit and total_profit and fill values.\n",
    "# d. \tInsert a new column named location after Product_Name column with 10 cities.\n",
    "# (New Delhi, Lucknow, Kolkata, Lucknow, New Delhi, Bengaluru, Chennai, Chennai, Kolkata, Bengaluru)"
   ]
  },
  {
   "cell_type": "code",
   "execution_count": 29,
   "metadata": {},
   "outputs": [
    {
     "name": "stdout",
     "output_type": "stream",
     "text": [
      "  Products_Name  Cost Sales\n",
      "0          P101   101    s1\n",
      "1          P102   102    s2\n",
      "2          P103   103    s3\n",
      "3          P104   104    s4\n",
      "4          P105   105    s5\n",
      "5          P106   106    s6\n",
      "6          P107   107    s7\n",
      "7          P108   108    s8\n",
      "8          P109   109    s9\n",
      "9          P110   110   s10\n",
      "  Products_Name  Cost Sales Quantity\n",
      "0          P101   101    s1       q1\n",
      "1          P102   102    s2       q2\n",
      "2          P103   103    s3       q3\n",
      "3          P104   104    s4       q4\n",
      "4          P105   105    s5       q5\n",
      "5          P106   106    s6       q6\n",
      "6          P107   107    s7       q7\n",
      "7          P108   108    s8       q8\n",
      "8          P109   109    s9       q9\n",
      "9          P110   110   s10      q10\n",
      "  Products_Name  Cost Sales Quantity  Profit  Total_Profit\n",
      "0          P101   101    s1       q1    10.0           100\n",
      "1          P102   102    s2       q2    20.0           200\n",
      "2          P103   103    s3       q3    30.0           300\n",
      "3          P104   104    s4       q4    40.0           400\n",
      "4          P105   105    s5       q5    50.0           500\n",
      "5          P106   106    s6       q6    60.0           600\n",
      "6          P107   107    s7       q7    70.0           700\n",
      "7          P108   108    s8       q8    80.0           800\n",
      "8          P109   109    s9       q9    90.0           900\n",
      "9          P110   110   s10      q10   100.0          1000\n",
      "  Products_Name   Location  Cost Sales Quantity  Profit  Total_Profit\n",
      "0          P101  New Delhi   101    s1       q1    10.0           100\n",
      "1          P102    Lucknow   102    s2       q2    20.0           200\n",
      "2          P103    Kolkata   103    s3       q3    30.0           300\n",
      "3          P104    Lucknow   104    s4       q4    40.0           400\n",
      "4          P105  New Delhi   105    s5       q5    50.0           500\n",
      "5          P106  Bengaluru   106    s6       q6    60.0           600\n",
      "6          P107    Chennai   107    s7       q7    70.0           700\n",
      "7          P108    Chennai   108    s8       q8    80.0           800\n",
      "8          P109    Kolkata   109    s9       q9    90.0           900\n",
      "9          P110  Bengaluru   110   s10      q10   100.0          1000\n"
     ]
    }
   ],
   "source": [
    "import pandas as pd\n",
    "data={'Products_Name':['P101','P102','P103','P104','P105','P106','P107','P108','P109','P110'],\n",
    "        'Cost':[101,102,103,104,105,106,107,108,109,110],\n",
    "        'Sales':['s1','s2','s3','s4','s5','s6','s7','s8','s9','s10']}\n",
    "df=pd.DataFrame(data)\n",
    "print(df)\n",
    "df['Quantity']=['q1','q2','q3','q4','q5','q6','q7','q8','q9','q10']\n",
    "print(df)\n",
    "df['Profit']=[10,20,30.,40,50,60,70,80,90,100]\n",
    "df['Total_Profit']=[100,200,300,400,500,600,700,800,900,1000]\n",
    "print(df)\n",
    "locations=('New Delhi', 'Lucknow', 'Kolkata', 'Lucknow', 'New Delhi', 'Bengaluru', 'Chennai', 'Chennai', 'Kolkata', 'Bengaluru')\n",
    "df.insert(1,'Location',locations)\n",
    "print(df)"
   ]
  }
 ],
 "metadata": {
  "kernelspec": {
   "display_name": "Python 3",
   "language": "python",
   "name": "python3"
  },
  "language_info": {
   "codemirror_mode": {
    "name": "ipython",
    "version": 3
   },
   "file_extension": ".py",
   "mimetype": "text/x-python",
   "name": "python",
   "nbconvert_exporter": "python",
   "pygments_lexer": "ipython3",
   "version": "3.7.0"
  }
 },
 "nbformat": 4,
 "nbformat_minor": 2
}
