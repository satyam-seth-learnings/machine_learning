{
 "cells": [
  {
   "cell_type": "code",
   "execution_count": null,
   "metadata": {},
   "outputs": [],
   "source": [
    "# Create a data frame using dictionary.\n",
    "# a. \tDictionary (‘id’:[P101,P102,P103,P104,P105], ‘Price’:[256, 340, 540, 260, 470])\n",
    "# b. \tPrint the price of product id – p102.\n",
    "# c.  \tPrint values of Price column.\n",
    "# d. Rename the column id to Product_Id and Price to Base_Price."
   ]
  },
  {
   "cell_type": "code",
   "execution_count": 33,
   "metadata": {},
   "outputs": [
    {
     "name": "stdout",
     "output_type": "stream",
     "text": [
      "1    340\n",
      "Name: Price, dtype: int64\n",
      "0    256\n",
      "1    340\n",
      "2    540\n",
      "3    260\n",
      "4    470\n",
      "Name: Price, dtype: int64\n",
      "  Product_Id  Base_Price\n",
      "0       P101         256\n",
      "1       P102         340\n",
      "2       P103         540\n",
      "3       P104         260\n",
      "4       P105         470\n"
     ]
    }
   ],
   "source": [
    "import pandas as pd\n",
    "data={'id':['P101','P102','P103','P104','P105'],'Price':[256, 340, 540, 260, 470]}\n",
    "df=pd.DataFrame(data)\n",
    "print(df.loc[df['id']=='P102', 'Price'])\n",
    "print(df['Price'])\n",
    "df.rename(columns={'id':'Product_Id','Price':'Base_Price'},inplace=True)\n",
    "print(df)"
   ]
  }
 ],
 "metadata": {
  "kernelspec": {
   "display_name": "Python 3",
   "language": "python",
   "name": "python3"
  },
  "language_info": {
   "codemirror_mode": {
    "name": "ipython",
    "version": 3
   },
   "file_extension": ".py",
   "mimetype": "text/x-python",
   "name": "python",
   "nbconvert_exporter": "python",
   "pygments_lexer": "ipython3",
   "version": "3.7.0"
  }
 },
 "nbformat": 4,
 "nbformat_minor": 2
}
