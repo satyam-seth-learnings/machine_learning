{
 "cells": [
  {
   "cell_type": "code",
   "execution_count": null,
   "metadata": {},
   "outputs": [],
   "source": [
    "#Write a Python program to create and display a series of data using Pandas module. *\n",
    "\n",
    "import pandas as pd\n",
    "s=pd.Series([10,20,30,40,50])\n",
    "print(s)"
   ]
  },
  {
   "cell_type": "code",
   "execution_count": null,
   "metadata": {},
   "outputs": [],
   "source": [
    "#Create a pandas series of 10 elements and specify their index as 101 to 110 *\n",
    "\n",
    "#data=[i for i in range(10,101,10)] #working \n",
    "#s=pd.Series(data,index=[j for j in range(101,111)]) #working\n",
    "\n",
    "data=[1,2,3,4,5,6,7,8,9,10]\n",
    "s=pd.Series(data,index=[101,102,103,104,105,106,107,108,109,110])\n",
    "\n",
    "print(s)"
   ]
  },
  {
   "cell_type": "code",
   "execution_count": null,
   "metadata": {},
   "outputs": [],
   "source": [
    "#Print bottom 5 elements of the series created in question 2. *\n",
    "\n",
    "print(s.tail())"
   ]
  },
  {
   "cell_type": "code",
   "execution_count": null,
   "metadata": {},
   "outputs": [],
   "source": [
    "#Insert 3 new elements in above series on index 111, 112 and 113. *\n",
    "\n",
    "s2=pd.Series([11,22,33],index=[111,112,113])\n",
    "s=s.append(s2)\n",
    "print(s)\n"
   ]
  },
  {
   "cell_type": "code",
   "execution_count": null,
   "metadata": {},
   "outputs": [],
   "source": [
    "#Delete the elements at index- 103, 104,107,111 in above list.\n",
    "\n",
    "s=s.drop(index=[103,104,107,111])\n",
    "print(s)"
   ]
  },
  {
   "cell_type": "code",
   "execution_count": null,
   "metadata": {},
   "outputs": [],
   "source": []
  }
 ],
 "metadata": {
  "kernelspec": {
   "display_name": "Python 3",
   "language": "python",
   "name": "python3"
  },
  "language_info": {
   "codemirror_mode": {
    "name": "ipython",
    "version": 3
   },
   "file_extension": ".py",
   "mimetype": "text/x-python",
   "name": "python",
   "nbconvert_exporter": "python",
   "pygments_lexer": "ipython3",
   "version": "3.7.3"
  }
 },
 "nbformat": 4,
 "nbformat_minor": 4
}
