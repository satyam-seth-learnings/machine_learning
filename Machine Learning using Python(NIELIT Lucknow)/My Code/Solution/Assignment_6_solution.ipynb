{
 "cells": [
  {
   "cell_type": "code",
   "execution_count": null,
   "metadata": {},
   "outputs": [],
   "source": [
    "Assignment 6"
   ]
  },
  {
   "cell_type": "code",
   "execution_count": null,
   "metadata": {},
   "outputs": [],
   "source": [
    "\"\"\"\n",
    "Q1. Write a Pandas program to create and display a DataFrame from a specified dictionary data which has the index labels. Sample Python dictionary data and list labels:\n",
    "a. exam_data = {'name': ['Ankita', 'Dia', 'Kapil', 'Jayesh', 'Esha', 'Mayank', Ravi, 'Lata', 'Kamal', 'Jatin'],\n",
    "b. 'score': [12.5, 9, 16.5, 15, 9, 20, 14.5, 17.5, 8, 19],\n",
    "c. 'attempts': [1, 3, 2, 3, 2, 3, 1, 1, 2, 1],\n",
    "d. 'qualify': ['yes', 'no', 'yes', 'no', 'no', 'yes', 'yes', 'no', 'no', 'yes']}\n",
    "\n",
    "\"\"\"\n",
    "import pandas as pd\n",
    "\n",
    "exam_data={'name': ['Ankita', 'Dia', 'Kapil', 'Jayesh', 'Esha', 'Mayank', 'Ravi', 'Lata', 'Kamal', 'Jatin'],\n",
    "           'score': [12.5, 9, 16.5, 15, 9, 20, 14.5, 17.5, 8, 19],\n",
    "           'attempts': [1, 3, 2, 3, 2, 3, 1, 1, 2, 1],\n",
    "           'qualify': ['yes', 'no', 'yes', 'no', 'no', 'yes', 'yes', 'no', 'no', 'yes']}\n",
    "\n",
    "df=pd.DataFrame(exam_data)\n",
    "df\n",
    "\n"
   ]
  },
  {
   "cell_type": "code",
   "execution_count": null,
   "metadata": {},
   "outputs": [],
   "source": [
    "'''\n",
    "Q2. Create a data frame using dictionary.\n",
    "a. Dictionary (‘id’:[P101,P102,P103,P104,P105], ‘Price’:[256, 340, 540, 260, 470])\n",
    "\n",
    "'''\n",
    "\n",
    "sale_data={'id':['P101','P102','P103','P104','P105'], 'Price':[256, 340, 540, 260, 470]}\n",
    "new_df=pd.DataFrame(sale_data)\n",
    "new_df"
   ]
  },
  {
   "cell_type": "code",
   "execution_count": null,
   "metadata": {},
   "outputs": [],
   "source": [
    "#Q2. (b) \tPrint the price of product id – p102.\n",
    "\n",
    "print('Price of product id – p102:',new_df['Price'][1])"
   ]
  },
  {
   "cell_type": "code",
   "execution_count": null,
   "metadata": {},
   "outputs": [],
   "source": [
    "#Q2 (c) Print values of price column.\n",
    "print('Values of Price Column:')\n",
    "print(new_df['Price'])"
   ]
  },
  {
   "cell_type": "code",
   "execution_count": null,
   "metadata": {},
   "outputs": [],
   "source": [
    "# Q2 (d) Rename the column id to Product_Id and Price to Base_Price.\n",
    "\n",
    "new_df.rename(columns={'id':'Product_ID','Price':'Base_Price'}, inplace=True)\n",
    "new_df\n"
   ]
  },
  {
   "cell_type": "code",
   "execution_count": null,
   "metadata": {},
   "outputs": [],
   "source": [
    "'''\n",
    "Q3. Create a new data frame with three columns – Product_Name, Cost, Sales.\n",
    "a. \tAdd 10 values in data frame.\n",
    "'''\n",
    "\n",
    "sale_record={'Product_Name':['P1','P2','P3','P4','P5','P6','P7','P8','P9','P10'],\n",
    "            'Cost':[10,15,20,25,35,40,45,50,55,60],\n",
    "            'Sales':[20,20,30,40,50,60,70,80,90,100]}\n",
    "\n",
    "data=pd.DataFrame(sale_record)\n",
    "data"
   ]
  },
  {
   "cell_type": "code",
   "execution_count": null,
   "metadata": {},
   "outputs": [],
   "source": [
    "#b. \tAdd a new column named quantity with 10 values.\n",
    "data['quantity']=pd.Series([1,3,5,7,9,11,13,15,17,19])\n",
    "data"
   ]
  },
  {
   "cell_type": "code",
   "execution_count": null,
   "metadata": {},
   "outputs": [],
   "source": [
    "#c.  \tAdd a new column named: Profit and total_profit and fill values.\n",
    "\n",
    "#Adding Profit column by substracting the Sales column from Cost column\n",
    "data['Profit']=data['Sales']-data['Cost']\n",
    "\n",
    "#Adding Total_Profit column by multiplying the Profit column with quantity column\n",
    "data['Total_Profit']=data['Profit']*data['quantity']\n",
    "data\n"
   ]
  },
  {
   "cell_type": "code",
   "execution_count": null,
   "metadata": {},
   "outputs": [],
   "source": [
    "'''\n",
    "d. \tInsert a new column named location after Product_Name column with 10 cities.\n",
    "(New Delhi, Lucknow, Kolkata, Lucknow, New Delhi, Bengaluru, Chennai, Chennai, Kolkata, Bengaluru)\n",
    "'''\n",
    "location=['New Delhi', 'Lucknow', 'Kolkata', 'Lucknow', 'New Delhi', 'Bengaluru', 'Chennai', 'Chennai', 'Kolkata', 'Bengaluru']\n",
    "data.insert(1,column='Location',value=location)\n",
    "data\n"
   ]
  },
  {
   "cell_type": "code",
   "execution_count": null,
   "metadata": {},
   "outputs": [],
   "source": []
  }
 ],
 "metadata": {
  "kernelspec": {
   "display_name": "Python 3",
   "language": "python",
   "name": "python3"
  },
  "language_info": {
   "codemirror_mode": {
    "name": "ipython",
    "version": 3
   },
   "file_extension": ".py",
   "mimetype": "text/x-python",
   "name": "python",
   "nbconvert_exporter": "python",
   "pygments_lexer": "ipython3",
   "version": "3.7.3"
  }
 },
 "nbformat": 4,
 "nbformat_minor": 4
}
