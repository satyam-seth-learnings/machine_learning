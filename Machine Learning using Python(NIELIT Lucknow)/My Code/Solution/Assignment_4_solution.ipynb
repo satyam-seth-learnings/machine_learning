{
 "cells": [
  {
   "cell_type": "code",
   "execution_count": null,
   "metadata": {},
   "outputs": [],
   "source": [
    "#Create two array of size (3, 3) and print their sum and multiplication. \n",
    "\n",
    "import numpy as np\n",
    "\n",
    "a=np.array([[10,20,30],[40,50,60],[70,80,90]])\n",
    "b=np.array([[15,25,35],[45,55,65],[75,85,95]])\n",
    "\n",
    "print(\"array a is \\n\",a)\n",
    "print(\"array b is \\n\",b)\n",
    "print(\"Sum of the array is=\\n\",a+b)\n",
    "print(\"Multiplication of the array is=\\n\",a*b)"
   ]
  },
  {
   "cell_type": "code",
   "execution_count": null,
   "metadata": {},
   "outputs": [],
   "source": [
    "#Create an array of size (3, 4) and reshape to (4, 3). *\n",
    "\n",
    "import numpy as np\n",
    "a=np.array([[1,2,3,10],[4,5,6,20],[7,8,9,90]])\n",
    "print(\"the original array is \\n\",a)\n",
    "print(a.shape)\n",
    "a=a.reshape(4,3)\n",
    "print(\"the reshaped array is\\n\",a)"
   ]
  },
  {
   "cell_type": "code",
   "execution_count": null,
   "metadata": {},
   "outputs": [],
   "source": [
    "#Create an array for a given range of elements between 2 to 40 step by 3 *\n",
    "\n",
    "a=np.arange(2,40,3)\n",
    "print(a)"
   ]
  },
  {
   "cell_type": "code",
   "execution_count": null,
   "metadata": {},
   "outputs": [],
   "source": [
    "#Create an evenly spaced numpy array of 10 values between 5 to 35 *\n",
    "\n",
    "import numpy as np\n",
    "a=np.linspace(5,35,10)\n",
    "print(a)"
   ]
  },
  {
   "cell_type": "code",
   "execution_count": null,
   "metadata": {},
   "outputs": [],
   "source": [
    "#Create an array of size 10 and calculate square root and standard deviation. *\n",
    "import numpy as np \n",
    "\n",
    "a=np.array([1,2,3,4,5,6,7,8,9,10]) \n",
    "print(a.size) \n",
    "x=np.sqrt(a) \n",
    "y=np.std(a) \n",
    "\n",
    "print(\"the square root is:\",x) \n",
    "print(\"the standard deviation is\\n\",y)"
   ]
  },
  {
   "cell_type": "code",
   "execution_count": null,
   "metadata": {},
   "outputs": [],
   "source": []
  }
 ],
 "metadata": {
  "kernelspec": {
   "display_name": "Python 3",
   "language": "python",
   "name": "python3"
  },
  "language_info": {
   "codemirror_mode": {
    "name": "ipython",
    "version": 3
   },
   "file_extension": ".py",
   "mimetype": "text/x-python",
   "name": "python",
   "nbconvert_exporter": "python",
   "pygments_lexer": "ipython3",
   "version": "3.7.3"
  }
 },
 "nbformat": 4,
 "nbformat_minor": 4
}
