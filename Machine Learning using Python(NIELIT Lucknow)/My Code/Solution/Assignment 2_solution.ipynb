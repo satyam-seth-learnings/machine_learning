{
 "cells": [
  {
   "cell_type": "code",
   "execution_count": 14,
   "metadata": {},
   "outputs": [
    {
     "name": "stdout",
     "output_type": "stream",
     "text": [
      "enter the radius of a circle to find its AREA and PARAMETER:5\n",
      "area:78.50\n",
      "parameter:31.40\n"
     ]
    }
   ],
   "source": [
    "#Write a Python function to print area and perimeter of a circle. *\n",
    "\n",
    "def area(r):\n",
    "    a=pi*r**2\n",
    "    print(\"area:{0:.2f}\".format(a))\n",
    "    \n",
    "def parameter(r):\n",
    "    p=2*pi*r\n",
    "    print(\"parameter:{0:.2f}\".format(p))\n",
    "\n",
    "radius=float(input(\"enter the radius of a circle to find its AREA and PARAMETER:\"))\n",
    "pi=3.14\n",
    "\n",
    "area(radius)\n",
    "parameter(radius)"
   ]
  },
  {
   "cell_type": "code",
   "execution_count": 3,
   "metadata": {},
   "outputs": [
    {
     "name": "stdout",
     "output_type": "stream",
     "text": [
      "enter the temperature in celcius:35.6\n",
      "temperature in FAHRENHEIT:96.08\n"
     ]
    }
   ],
   "source": [
    "#Write a Python function to convert temperatures from Celsius to Fahrenheit *\n",
    "\n",
    "\n",
    "def fahrenheit(c):\n",
    "    f=c*9/5+32\n",
    "    print(\"temperature in FAHRENHEIT:{0:.2f}\".format(f))\n",
    "    \n",
    "celsius=float(input(\"enter the temperature in celcius:\"))\n",
    "fahrenheit(celsius)"
   ]
  },
  {
   "cell_type": "code",
   "execution_count": 8,
   "metadata": {},
   "outputs": [
    {
     "name": "stdout",
     "output_type": "stream",
     "text": [
      "enter a number to find its FACTORIAL:6\n",
      "factorial: 720\n"
     ]
    }
   ],
   "source": [
    "#Write a Python function to calculate the factorial of a number *\n",
    "\n",
    "def fact(n):\n",
    "    f=1\n",
    "    for i in range(1,n+1):\n",
    "        f=f*i\n",
    "    return f\n",
    "\n",
    "num=int(input(\"enter a number to find its FACTORIAL:\"))\n",
    "result=fact(num)\n",
    "print(\"factorial:\",result)"
   ]
  },
  {
   "cell_type": "code",
   "execution_count": 29,
   "metadata": {},
   "outputs": [
    {
     "name": "stdout",
     "output_type": "stream",
     "text": [
      "enter a number to find its PRIME OR NOT:21\n",
      "21 is not a prime number\n"
     ]
    }
   ],
   "source": [
    "#Write a Python function that takes a number as a parameter and check the number is prime or not. *\n",
    "\n",
    "def prime(num):\n",
    "    for i in range(2, num):\n",
    "        if (num % i) == 0:\n",
    "            print(num, \"is not a prime number\")\n",
    "            break\n",
    "    else:\n",
    "        print(num, \"is a prime number\")\n",
    "        \n",
    "n=int(input(\"enter a number to find its PRIME OR NOT:\"))\n",
    "prime(n)"
   ]
  },
  {
   "cell_type": "code",
   "execution_count": 4,
   "metadata": {},
   "outputs": [
    {
     "name": "stdout",
     "output_type": "stream",
     "text": [
      "Input Salary:5\n",
      "Input Salary:8\n",
      "Input Salary:9\n",
      "Input Salary:4\n",
      "Input Salary:3\n",
      "Average Salary: 5.8\n",
      "Maximum Salary: 9\n",
      "Minimum Salary: 3\n"
     ]
    }
   ],
   "source": [
    "#Write a Python function to calculate the average, maximum and minimum salary of 10 employees. *\n",
    "\n",
    "def salary(l):\n",
    "    avg=sum(l)/len(l)\n",
    "    print(\"Average Salary:\",avg)\n",
    "    print('Maximum Salary:',max(l))\n",
    "    print('Minimum Salary:',min(l))\n",
    "\n",
    "emp=[]\n",
    "for i in range(10):\n",
    "    i=int(input(\"Input Salary:\"))\n",
    "    emp.append(i)\n",
    "salary(emp)"
   ]
  },
  {
   "cell_type": "code",
   "execution_count": 7,
   "metadata": {},
   "outputs": [
    {
     "name": "stdout",
     "output_type": "stream",
     "text": [
      "Input Number:4\n",
      "Input Number:5\n",
      "Input Number:6\n",
      "Input Number:8\n",
      "Input Number:9\n",
      "Original List: [4, 5, 6, 8, 9]\n",
      "Square Of Every number of the list: [16, 25, 36, 64, 81]\n"
     ]
    }
   ],
   "source": [
    "#Write a Python function using lambda and map to calculate the square of each number in a list. *\n",
    "data=[]\n",
    "for i in range(5):\n",
    "    i=int(input(\"Input Number:\"))\n",
    "    data.append(i)\n",
    "\n",
    "print(\"Original List:\",data)\n",
    "square_nums = list(map(lambda x: x ** 2, data))\n",
    "print(\"Square Of Every number of the list:\",square_nums)"
   ]
  },
  {
   "cell_type": "code",
   "execution_count": 14,
   "metadata": {},
   "outputs": [
    {
     "name": "stdout",
     "output_type": "stream",
     "text": [
      "Sum of square of all members of a list: 222\n",
      "222\n"
     ]
    }
   ],
   "source": [
    "#Using a lambda and map function, calculate the sum of square of all numbers of a list. *\n",
    "\n",
    "#square is calculated previously in square_nums\n",
    "total=sum(square_nums)\n",
    "print(\"Sum of square of all members of a list:\",total)\n",
    "\n",
    "#or\n",
    "t=sum(map(lambda x: x**2,data))\n",
    "print(t)\n"
   ]
  },
  {
   "cell_type": "code",
   "execution_count": 17,
   "metadata": {},
   "outputs": [
    {
     "name": "stdout",
     "output_type": "stream",
     "text": [
      "Cube of each member: [64, 125, 216, 512, 729]\n",
      "Minimum element from resultant list: 64\n",
      "Maximum element from resultant list: 729\n"
     ]
    }
   ],
   "source": [
    "#Using lambda and map calculate the cube of all numbers of a list \n",
    "#and find minimum element and maximum element from the resultant list. *\n",
    "\n",
    "cube_data = list(map(lambda x: x ** 3,data))\n",
    "print(\"Cube of each member:\",cube_data)\n",
    "\n",
    "print(\"Minimum element from resultant list:\",min(cube_data))\n",
    "print(\"Maximum element from resultant list:\",max(cube_data))"
   ]
  },
  {
   "cell_type": "code",
   "execution_count": 18,
   "metadata": {},
   "outputs": [
    {
     "name": "stdout",
     "output_type": "stream",
     "text": [
      "average of sum of cube of all numbers of Data: 329.2\n"
     ]
    }
   ],
   "source": [
    "#Calculate average of sum of cube of all numbers of a list by using lambda and map. \n",
    "\n",
    "average_cube=sum(cube_data)/len(data)\n",
    "print(\"average of sum of cube of all numbers of Data:\",average_cube)"
   ]
  },
  {
   "cell_type": "code",
   "execution_count": 1,
   "metadata": {},
   "outputs": [
    {
     "name": "stdout",
     "output_type": "stream",
     "text": [
      "[12, 33, 44, 55]\n"
     ]
    }
   ],
   "source": [
    "#Write a Python function that takes a list and returns a new list with unique elements of the first list. *\n",
    "def unique_list(l):\n",
    "    x = []\n",
    "    for a in l:\n",
    "        if a not in x:\n",
    "            x.append(a)\n",
    "    return x\n",
    "li=[12,33,44,33,55,44]\n",
    "\n",
    "print(unique_list(li)) \n"
   ]
  },
  {
   "cell_type": "code",
   "execution_count": null,
   "metadata": {},
   "outputs": [],
   "source": []
  }
 ],
 "metadata": {
  "kernelspec": {
   "display_name": "Python 3",
   "language": "python",
   "name": "python3"
  },
  "language_info": {
   "codemirror_mode": {
    "name": "ipython",
    "version": 3
   },
   "file_extension": ".py",
   "mimetype": "text/x-python",
   "name": "python",
   "nbconvert_exporter": "python",
   "pygments_lexer": "ipython3",
   "version": "3.7.3"
  }
 },
 "nbformat": 4,
 "nbformat_minor": 4
}
