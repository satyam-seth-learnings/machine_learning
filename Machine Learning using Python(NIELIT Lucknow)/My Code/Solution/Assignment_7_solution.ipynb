{
 "cells": [
  {
   "cell_type": "code",
   "execution_count": null,
   "metadata": {},
   "outputs": [],
   "source": [
    "#Assignment 7"
   ]
  },
  {
   "cell_type": "code",
   "execution_count": null,
   "metadata": {},
   "outputs": [],
   "source": [
    "'''\n",
    "1. Create a data frame:\n",
    "'Name': ['Ankit', 'Amit', 'Aishwarya', 'Priyanka', 'Priya', 'Shaurya' ],\n",
    " 'Age': [21, 19, 20, 16, 17, 21],\n",
    "'Stream': ['Math', 'Commerce', 'Science', 'Math', Commerce, 'Science'],\n",
    " 'Percentage': [88, 92, 95, 70, 65, 78]}\n",
    "'''\n",
    "import pandas as pd\n",
    "\n",
    "d={'Name': ['Ankit', 'Amit', 'Aishwarya', 'Priyanka', 'Priya', 'Shaurya' ],\n",
    "   'Age': [21, 19, 20, 16, 17, 21],\n",
    "   'Stream': ['Math', 'Commerce', 'Science', 'Math', 'Commerce', 'Science'],\n",
    "   'Percentage': [88, 92, 95, 70, 65, 78]}\n",
    "\n",
    "df=pd.DataFrame(d)\n",
    "df\n"
   ]
  },
  {
   "cell_type": "code",
   "execution_count": null,
   "metadata": {},
   "outputs": [],
   "source": [
    "#Insert a new row – Name: Sahil, Age-23, Stream- Commerce, Percentage-88.\n",
    "\n",
    "new_df=pd.DataFrame([['Sahil',23,'Commerce',88]],columns=['Name','Age','Stream','Percentage'])\n",
    "df=df.append(new_df,ignore_index=True)\n",
    "df"
   ]
  },
  {
   "cell_type": "code",
   "execution_count": null,
   "metadata": {},
   "outputs": [],
   "source": [
    "#select rows where percentage is >80\n",
    "\n",
    "print(df.loc[df['Percentage']>80])\n",
    "\n"
   ]
  },
  {
   "cell_type": "code",
   "execution_count": null,
   "metadata": {},
   "outputs": [],
   "source": [
    "#Selecting all the rows from the given dataframe in which ‘Stream’ is Commerce \n",
    "\n",
    "print(df.loc[df['Stream']=='Commerce'])"
   ]
  },
  {
   "cell_type": "code",
   "execution_count": null,
   "metadata": {},
   "outputs": [],
   "source": [
    "#Selecting all the rows from the given dataframe in which ‘Age’ is greater than 18\n",
    "\n",
    "print(df.loc[df['Age']>18])"
   ]
  },
  {
   "cell_type": "code",
   "execution_count": null,
   "metadata": {},
   "outputs": [],
   "source": [
    "#Print sum of age and percentage only\n",
    "\n",
    "print(\"Sum of age\",sum(df['Age']))\n",
    "print(\"Sum of Percentage\",sum(df['Percentage']))"
   ]
  },
  {
   "cell_type": "code",
   "execution_count": null,
   "metadata": {},
   "outputs": [],
   "source": [
    "#Get the first 3 rows of above DataFrame\n",
    "\n",
    "df.head(3)"
   ]
  },
  {
   "cell_type": "code",
   "execution_count": null,
   "metadata": {},
   "outputs": [],
   "source": [
    "#Write a Pandas program to count the number of rows and columns of a DataFrame\n",
    "\n",
    "total_rows=len(df.axes[0])\n",
    "total_cols=len(df.axes[1])\n",
    "\n",
    "print(\"Total rows in df dataframe:\",total_rows)\n",
    "print(\"Total columns in df dataframe:\",total_cols)"
   ]
  },
  {
   "cell_type": "code",
   "execution_count": null,
   "metadata": {},
   "outputs": [],
   "source": [
    "#4. \tPrint mean value of Age and Percentage.\n",
    "\n",
    "import numpy as np\n",
    "\n",
    "mean_age=np.mean(df['Age'])\n",
    "print(\"Mean value of Age:{:.2f}\".format(mean_age))\n",
    "\n",
    "print(\"Mean value of Percentage:{:.2f}\".format(np.mean(df['Percentage'])))\n"
   ]
  },
  {
   "cell_type": "code",
   "execution_count": null,
   "metadata": {},
   "outputs": [],
   "source": [
    "# Find Minimum age\n",
    "\n",
    "print(\"Minimum age:\",min(df['Age']))"
   ]
  },
  {
   "cell_type": "code",
   "execution_count": null,
   "metadata": {},
   "outputs": [],
   "source": []
  }
 ],
 "metadata": {
  "kernelspec": {
   "display_name": "Python 3",
   "language": "python",
   "name": "python3"
  },
  "language_info": {
   "codemirror_mode": {
    "name": "ipython",
    "version": 3
   },
   "file_extension": ".py",
   "mimetype": "text/x-python",
   "name": "python",
   "nbconvert_exporter": "python",
   "pygments_lexer": "ipython3",
   "version": "3.7.3"
  }
 },
 "nbformat": 4,
 "nbformat_minor": 4
}
