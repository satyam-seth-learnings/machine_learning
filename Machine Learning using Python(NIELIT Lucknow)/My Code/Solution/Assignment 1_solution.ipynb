{
 "cells": [
  {
   "cell_type": "code",
   "execution_count": null,
   "metadata": {},
   "outputs": [],
   "source": [
    "Assignment 1"
   ]
  },
  {
   "cell_type": "code",
   "execution_count": null,
   "metadata": {},
   "outputs": [],
   "source": [
    "#1. Write a Python program to input age of three brothers and find youngest *\n",
    "b1=int(input(\"Enter Age of brother=\"))\n",
    "b2=int(input(\"Enter Age of brothr2=\"))\n",
    "b3=int(input(\"Enter Age of brothr2=\"))\n",
    "\n",
    "if(b1<b2 and b1<b3):\n",
    "    print(\"Brother1 is youngest \")\n",
    "elif(b2<b1 and b2<b3):\n",
    "    print(\"Brother 2 is youngest\")\n",
    "else:\n",
    "     print(\"Brother 3 is youngest\")"
   ]
  },
  {
   "cell_type": "code",
   "execution_count": null,
   "metadata": {},
   "outputs": [],
   "source": [
    "#Write a Python program to check whether a number is even or odd. Accept the number from the user. *\n",
    "number=int(input(\"enter a number to check whether it is even or odd:\"))\n",
    "if number%2==0:\n",
    "     print(\"number is EVEN\")\n",
    "else:\n",
    "     print(\"number is ODD\")"
   ]
  },
  {
   "cell_type": "code",
   "execution_count": null,
   "metadata": {},
   "outputs": [],
   "source": [
    "#Write a Python program to check whether a year is leap year or not. *\n",
    "year = int(input(\"Enter Year: \"))\n",
    "if ((year % 4 == 0) and (year % 100 != 0)) or (year % 400 == 0):\n",
    "    print(\"Leap year\")\n",
    "else:\n",
    "    print(\"Not a Leap year\")"
   ]
  },
  {
   "cell_type": "code",
   "execution_count": null,
   "metadata": {},
   "outputs": [],
   "source": [
    "#Write a Python program to swap two numbers and print. *\n",
    "\n",
    "x=int(input(\"Enter the first number:\"))\n",
    "y=int(input(\"Enter the second number:\"))\n",
    "print('Number before swapping')\n",
    "print(\"X=\",x,\"and\", \"Y=\",y)\n",
    "temp=x\n",
    "x=y\n",
    "y=temp\n",
    "\n",
    "print('Number after swapping')\n",
    "print(\"X=\",x,\"and\", \"Y=\",y)"
   ]
  },
  {
   "cell_type": "code",
   "execution_count": null,
   "metadata": {},
   "outputs": [],
   "source": [
    "#Write a Python program to interchange first and last elements in a list. *\n",
    "\n",
    "data=[10,22,34,56,67,78,89]\n",
    "print(\"List Before Exachange:\",data)\n",
    "\n",
    "temp=data[0]\n",
    "data[0]=data[-1]\n",
    "data[-1]=temp\n",
    "\n",
    "print(\"List After Exachange:\",data)"
   ]
  },
  {
   "cell_type": "code",
   "execution_count": null,
   "metadata": {},
   "outputs": [],
   "source": [
    "#Create a list of 10 elements named marks=[78,87,89,98,67,65,45,56,77,89]. \n",
    "#Create another list of 5 elements. Write a Python program to append the new list at the end of the current list.\n",
    "\n",
    "marks=[78,87,89,98,67,65,45,56,77,89]\n",
    "print(\"Original List:\",marks)\n",
    "new_list=[]\n",
    "for i in range(5):\n",
    "    j=int(input(\"Enter Element:\"))\n",
    "    new_list.append(j)\n",
    "marks.extend(new_list)\n",
    "print(\"Updated List:\",marks)"
   ]
  },
  {
   "cell_type": "code",
   "execution_count": null,
   "metadata": {},
   "outputs": [],
   "source": [
    "#Insert new marks at index 7 and 10 and pop last element from the list. *\n",
    "\n",
    "print(\"Original LIst:\",marks)\n",
    "\n",
    "marks.insert(7,99)\n",
    "marks.insert(10,55)\n",
    "\n",
    "print(\"Updated List:\",marks)\n",
    "\n",
    "marks.pop()\n",
    "print(\"List after deletion:\",marks)"
   ]
  },
  {
   "cell_type": "code",
   "execution_count": null,
   "metadata": {},
   "outputs": [],
   "source": [
    "#Write a Python program to remove the mark 98 from the above list. Remove the element at index 8 and 13. *\n",
    "\n",
    "marks.remove(98)\n",
    "marks.pop(8)\n",
    "marks.pop(13)\n",
    "\n",
    "print(\"Updated List:\",marks)"
   ]
  },
  {
   "cell_type": "code",
   "execution_count": null,
   "metadata": {},
   "outputs": [],
   "source": [
    "#Write a Python Program to remove all elements from the list. *\n",
    "\n",
    "marks.clear()\n",
    "marks"
   ]
  },
  {
   "cell_type": "code",
   "execution_count": null,
   "metadata": {},
   "outputs": [],
   "source": []
  }
 ],
 "metadata": {
  "kernelspec": {
   "display_name": "Python 3",
   "language": "python",
   "name": "python3"
  },
  "language_info": {
   "codemirror_mode": {
    "name": "ipython",
    "version": 3
   },
   "file_extension": ".py",
   "mimetype": "text/x-python",
   "name": "python",
   "nbconvert_exporter": "python",
   "pygments_lexer": "ipython3",
   "version": "3.7.3"
  }
 },
 "nbformat": 4,
 "nbformat_minor": 4
}
