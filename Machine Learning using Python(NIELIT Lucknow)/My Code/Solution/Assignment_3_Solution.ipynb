{
 "cells": [
  {
   "cell_type": "code",
   "execution_count": null,
   "metadata": {},
   "outputs": [],
   "source": [
    "Assignment 3\n"
   ]
  },
  {
   "cell_type": "code",
   "execution_count": null,
   "metadata": {},
   "outputs": [],
   "source": [
    " #Write a Python class named Rectangle constructed by a length and width and a method which will compute the area of a rectangle.\n",
    "\n",
    "class rect:\n",
    "    ln=0\n",
    "    br=0\n",
    "    \n",
    "    def area_rect(s):\n",
    "        s.ln=int(input(\"Enter Length of rectange:\"))\n",
    "        s.br=int(input(\"Enter Breadth of rectange:\"))\n",
    "        \n",
    "        a=s.ln*s.br\n",
    "        print(\"Area of rectangle:\",a)\n",
    "\n",
    "r1=rect()\n",
    "r1.area_rect()\n"
   ]
  },
  {
   "cell_type": "code",
   "execution_count": null,
   "metadata": {},
   "outputs": [],
   "source": [
    "#Write a python class to display student’s roll number, Name, marks of 3 subjects using functions. \n",
    "#Also display sum and average of their marks using function\n",
    "\n",
    "class Student_Data:\n",
    "    \n",
    "    def __init__(s):\n",
    "        s.roll_no=int(input(\"enter the roll number:\"))\n",
    "        s.name=input(\"enter the name:\")\n",
    "        s.m1=int(input(\"enter the marks of 1st subject:\"))\n",
    "        s.m2=int(input(\"enter the marks of 2nd subject:\"))\n",
    "        s.m3=int(input(\"enter the marks of 3rd subject:\"))\n",
    "    \n",
    "    def display(s):\n",
    "        print(\"student's name=\",s.name)\n",
    "        print(\"Student's roll number=\",s.roll_no)\n",
    "        print(\"Marks of Subject 1:\",s.m1)\n",
    "        print(\"Marks of Subject 2:\",s.m2)\n",
    "        print(\"Marks of Subject 3:\",s.m3)\n",
    "        \n",
    "    def result(self):\n",
    "        total=self.m1+self.m2+self.m3\n",
    "        avg=total/3\n",
    "        print(\"Total Marks:\",total)\n",
    "        print(\"Percentage of Marks:\",avg)\n",
    "\n",
    "st1=Student_Data()\n",
    "st1.display()\n",
    "st1.result()"
   ]
  },
  {
   "cell_type": "code",
   "execution_count": null,
   "metadata": {},
   "outputs": [],
   "source": [
    "#Write a python program to delete an object's properties. \n",
    "\n",
    "del st1.roll_no\n",
    "\n",
    "#or\n",
    "\n",
    "#delattr(st1,'roll_no')"
   ]
  },
  {
   "cell_type": "code",
   "execution_count": null,
   "metadata": {},
   "outputs": [],
   "source": [
    "#Write a Python class named Circle constructed by a radius and two methods which will compute the area and the perimeter of a circle.\n",
    "\n",
    "class Circle:\n",
    "    pie=3.14\n",
    "    \n",
    "    def __init__(self):\n",
    "        self.r=int(input(\"enter the radius of the circle:\"))\n",
    "    \n",
    "    def area_circle(s):\n",
    "        ar=s.pie*s.r*s.r\n",
    "        print(\"area of a circle:\",ar)\n",
    "        \n",
    "    def perimeter_circle(s):\n",
    "        pr=2*s.pie*s.r\n",
    "        print(\"parameter of a circle:\",pr)\n",
    "\n",
    "c1=Circle()\n",
    "c1.area_circle()\n",
    "c1.perimeter_circle()"
   ]
  },
  {
   "cell_type": "code",
   "execution_count": null,
   "metadata": {},
   "outputs": [],
   "source": [
    "#Write a Python program to create the class named data that has three members – id, name and basic_salary. \n",
    "#Create a new class named calculation that inherits the class data and calculates the HRA, DA and Gross salary using function. \n",
    "#Display the id, name, salary, HRA, DA and gross salary. HRA is 45% of basis salary and DA is 60% of basic salary. \n",
    "#Input the values from the user. *\n",
    "\n",
    "class data:\n",
    "    def __init__(b):\n",
    "        b.id=int(input(\"enter employee id:\"))\n",
    "        b.name=input(\"enter employee name:\")\n",
    "        b.basic_salary=float(input(\"enter the basic salary of the employee:\"))\n",
    "        \n",
    "class calculation(data):\n",
    "    \n",
    "    def calculate(s):\n",
    "        s.hra=s.basic_salary*(45/100)\n",
    "        s.da=s.basic_salary*(60/100)\n",
    "        s.gross=s.basic_salary+s.hra+s.da\n",
    "    \n",
    "    def display(s):\n",
    "        print(\"-----------------Emp Record------------------\")\n",
    "        print(\"Employee ID:\",s.id)\n",
    "        print(\"Employee Name:\",s.name)\n",
    "        print(\"Basic Salary:\",s.basic_salary)\n",
    "        print(\"HRA:\",s.hra)\n",
    "        print(\"DA\",s.da)\n",
    "        print(\"Gross Salary\",s.gross)\n",
    "        \n",
    "c1=calculation()\n",
    "c1.calculate()\n",
    "c1.display()"
   ]
  },
  {
   "cell_type": "code",
   "execution_count": null,
   "metadata": {},
   "outputs": [],
   "source": []
  }
 ],
 "metadata": {
  "kernelspec": {
   "display_name": "Python 3",
   "language": "python",
   "name": "python3"
  },
  "language_info": {
   "codemirror_mode": {
    "name": "ipython",
    "version": 3
   },
   "file_extension": ".py",
   "mimetype": "text/x-python",
   "name": "python",
   "nbconvert_exporter": "python",
   "pygments_lexer": "ipython3",
   "version": "3.7.3"
  }
 },
 "nbformat": 4,
 "nbformat_minor": 2
}
