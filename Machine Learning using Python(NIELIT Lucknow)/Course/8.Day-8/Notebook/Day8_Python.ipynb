{
 "cells": [
  {
   "cell_type": "code",
   "execution_count": 9,
   "metadata": {},
   "outputs": [
    {
     "data": {
      "text/plain": [
       "32"
      ]
     },
     "execution_count": 9,
     "metadata": {},
     "output_type": "execute_result"
    }
   ],
   "source": [
    "# Create a class\n",
    "class data:\n",
    "    id=101 #Data,Attribute,Property,Field\n",
    "    name=\"Abhishek\"\n",
    "    \n",
    "    def display(s): # Methods - s is self referencing object\n",
    "        print(\"ID=\",s.id)\n",
    "        print(\"Name=\",s.name)\n",
    "        \n",
    "    def displaya(s,a): # Methods\n",
    "        print(\"ID=\",s.id)\n",
    "        print(\"Name=\",s.name)\n",
    "        print(\"value of a is:\",a)\n",
    "    \n",
    "    @staticmethod\n",
    "    def sum(a,b): #static method : this kind of method is allowed but with class\n",
    "        c=a+b\n",
    "        return c\n",
    "           \n",
    "    \n",
    "        \n",
    "data.sum(15,17)\n"
   ]
  },
  {
   "cell_type": "code",
   "execution_count": 10,
   "metadata": {},
   "outputs": [
    {
     "name": "stdout",
     "output_type": "stream",
     "text": [
      "Series([], dtype: float64)\n"
     ]
    }
   ],
   "source": [
    "#pandas\n",
    "import pandas as pd\n",
    "s = pd.Series()\n",
    "print(s)\n"
   ]
  },
  {
   "cell_type": "code",
   "execution_count": 14,
   "metadata": {},
   "outputs": [
    {
     "name": "stdout",
     "output_type": "stream",
     "text": [
      "10\n",
      "30\n",
      "[10 20 30 40 50]\n",
      "RangeIndex(start=0, stop=5, step=1)\n",
      "[0, 1, 2, 3, 4]\n"
     ]
    }
   ],
   "source": [
    "S=pd.Series([10,20,30,40,50])\n",
    "print (S[0])\n",
    "print (S[2])\n",
    "print(S.values)\n",
    "print(S.index)\n",
    "print(list(S.index))\n"
   ]
  },
  {
   "cell_type": "code",
   "execution_count": 16,
   "metadata": {},
   "outputs": [
    {
     "name": "stdout",
     "output_type": "stream",
     "text": [
      "100     Ravi\n",
      "101    Sahil\n",
      "102    Rahul\n",
      "103    Ankit\n",
      "dtype: object\n"
     ]
    }
   ],
   "source": [
    "#The index can be specified explicitly. \n",
    "import numpy as np\n",
    "data = np.array(['Ravi','Sahil','Rahul','Ankit'])\n",
    "s = pd.Series(data,index=[100,101,102,103])\n",
    "print(s)"
   ]
  },
  {
   "cell_type": "code",
   "execution_count": 17,
   "metadata": {},
   "outputs": [
    {
     "name": "stdout",
     "output_type": "stream",
     "text": [
      "100     Ravi\n",
      "101    Sahil\n",
      "102    Rahul\n",
      "103    Ankit\n",
      "dtype: object\n"
     ]
    }
   ],
   "source": [
    "s = pd.Series(['Ravi','Sahil','Rahul','Ankit'],index=[100,101,102,103])\n",
    "print(s)"
   ]
  },
  {
   "cell_type": "code",
   "execution_count": 20,
   "metadata": {},
   "outputs": [
    {
     "name": "stdout",
     "output_type": "stream",
     "text": [
      "Ankit\n"
     ]
    }
   ],
   "source": [
    "s = pd.Series(['Ravi','Sahil','Rahul','Ankit'],index=[100,101,102,103])\n",
    "print(s[103])"
   ]
  },
  {
   "cell_type": "code",
   "execution_count": 29,
   "metadata": {},
   "outputs": [
    {
     "name": "stdout",
     "output_type": "stream",
     "text": [
      "b    Sahil\n",
      "c    Rahul\n",
      "d    Ankit\n",
      "dtype: object\n"
     ]
    }
   ],
   "source": [
    "s = pd.Series(['Ravi','Sahil','Rahul','Ankit'],index=['a','b','c','d'])\n",
    "print(s[1:])"
   ]
  },
  {
   "cell_type": "code",
   "execution_count": 30,
   "metadata": {},
   "outputs": [
    {
     "name": "stdout",
     "output_type": "stream",
     "text": [
      "a     Ravi\n",
      "c    Rahul\n",
      "d    Ankit\n",
      "dtype: object\n"
     ]
    }
   ],
   "source": [
    "print(s[['a','c','d']])"
   ]
  },
  {
   "cell_type": "code",
   "execution_count": 32,
   "metadata": {},
   "outputs": [
    {
     "name": "stdout",
     "output_type": "stream",
     "text": [
      "a     Ravi\n",
      "b    Sahil\n",
      "c    Rahul\n",
      "d    Ankit\n",
      "f    Mohan\n",
      "dtype: object\n"
     ]
    }
   ],
   "source": [
    "s['f']=\"Mohan\"\n",
    "print(s)\n"
   ]
  },
  {
   "cell_type": "code",
   "execution_count": 34,
   "metadata": {},
   "outputs": [
    {
     "name": "stdout",
     "output_type": "stream",
     "text": [
      "a     Ravi\n",
      "b    Sahil\n",
      "c    Rahul\n",
      "d    Ankit\n",
      "f    Mohan\n",
      "g        8\n",
      "h        9\n",
      "i       10\n",
      "dtype: object\n"
     ]
    }
   ],
   "source": [
    "new=pd.Series([8,9,10],index=['g','h','i'])\n",
    "s=s.append(new)\n",
    "print(s)\n"
   ]
  },
  {
   "cell_type": "code",
   "execution_count": 35,
   "metadata": {},
   "outputs": [
    {
     "name": "stdout",
     "output_type": "stream",
     "text": [
      "a     Ravi\n",
      "b    Sahil\n",
      "c    Rahul\n",
      "d    Ankit\n",
      "f    Mohan\n",
      "h        9\n",
      "i       10\n",
      "dtype: object\n"
     ]
    }
   ],
   "source": [
    "s=s.drop(['g'])\n",
    "print(s)\n"
   ]
  },
  {
   "cell_type": "code",
   "execution_count": 36,
   "metadata": {},
   "outputs": [
    {
     "name": "stdout",
     "output_type": "stream",
     "text": [
      "Empty DataFrame\n",
      "Columns: []\n",
      "Index: []\n"
     ]
    }
   ],
   "source": [
    "#import the pandas library and aliasing as pd\n",
    "import pandas as pd\n",
    "df = pd.DataFrame()\n",
    "print(df)\n"
   ]
  },
  {
   "cell_type": "code",
   "execution_count": 37,
   "metadata": {},
   "outputs": [
    {
     "name": "stdout",
     "output_type": "stream",
     "text": [
      "   0\n",
      "0  1\n",
      "1  2\n",
      "2  3\n",
      "3  4\n",
      "4  5\n"
     ]
    }
   ],
   "source": [
    "import pandas as pd\n",
    "data = [1,2,3,4,5]\n",
    "df = pd.DataFrame(data)\n",
    "print (df)\n"
   ]
  },
  {
   "cell_type": "code",
   "execution_count": 38,
   "metadata": {},
   "outputs": [
    {
     "name": "stdout",
     "output_type": "stream",
     "text": [
      "    Name  Age\n",
      "0   Ravi   10\n",
      "1  Mohan   12\n",
      "2   Alok   13\n"
     ]
    }
   ],
   "source": [
    "import pandas as pd\n",
    "data = [['Ravi',10],['Mohan',12],['Alok',13]]\n",
    "df=pd.DataFrame(data,columns=['Name','Age'])\n",
    "print(df)\n"
   ]
  },
  {
   "cell_type": "code",
   "execution_count": 39,
   "metadata": {},
   "outputs": [
    {
     "name": "stdout",
     "output_type": "stream",
     "text": [
      "       0   1\n",
      "0   Ravi  10\n",
      "1  Mohan  12\n",
      "2   Alok  13\n"
     ]
    }
   ],
   "source": [
    "import pandas as pd\n",
    "data = [['Ravi',10],['Mohan',12],['Alok',13]]\n",
    "df=pd.DataFrame(data)\n",
    "print(df)\n"
   ]
  },
  {
   "cell_type": "code",
   "execution_count": 42,
   "metadata": {},
   "outputs": [
    {
     "name": "stdout",
     "output_type": "stream",
     "text": [
      "  Item  Price\n",
      "0    A    600\n",
      "1    B    756\n",
      "2    C    587\n",
      "3    D    859\n",
      "4    E    990\n",
      "C\n",
      "0    600\n",
      "1    756\n",
      "2    587\n",
      "3    859\n",
      "4    990\n",
      "Name: Price, dtype: int64\n"
     ]
    }
   ],
   "source": [
    "#Create a DataFrame from Dictionary \n",
    "\n",
    "import pandas as pd\n",
    "d={'Item':[ 'A', 'B', 'C', 'D', 'E'],'Price':[600,756,587,859,990]}\n",
    "frame1=pd.DataFrame(d)\n",
    "print(frame1)\n",
    "print(frame1['Item'][2]) # printing 3rd item\n",
    "print(frame1['Price']) # printing values of Price column\n"
   ]
  },
  {
   "cell_type": "code",
   "execution_count": 44,
   "metadata": {},
   "outputs": [
    {
     "name": "stdout",
     "output_type": "stream",
     "text": [
      "  Item  Price\n",
      "0    A    600\n",
      "1    B    756\n",
      "2    C    587\n",
      "3    D    859\n",
      "4    E    990\n",
      "0    G    500\n",
      "0    G    500\n",
      "1    H    800\n"
     ]
    }
   ],
   "source": [
    "#Adding rows in data frame\n",
    "f2 = pd.DataFrame([['G', 500],['H',800]], columns=['Item','Price'])\n",
    "frame1=frame1.append(f2)\n",
    "print(frame1)\n"
   ]
  },
  {
   "cell_type": "code",
   "execution_count": 45,
   "metadata": {},
   "outputs": [
    {
     "name": "stdout",
     "output_type": "stream",
     "text": [
      "  Products  Base_price\n",
      "0        A         600\n",
      "1        B         756\n",
      "2        C         587\n",
      "3        D         859\n",
      "4        E         990\n",
      "0        G         500\n",
      "0        G         500\n",
      "1        H         800\n"
     ]
    }
   ],
   "source": [
    "frame1.rename(columns={'Item':'Products','Price':'Base_price'}, inplace=True)\n",
    "print(frame1)"
   ]
  },
  {
   "cell_type": "code",
   "execution_count": 47,
   "metadata": {},
   "outputs": [
    {
     "name": "stdout",
     "output_type": "stream",
     "text": [
      "  Item  Price  Unit\n",
      "0    A    600    30\n",
      "1    B    756    50\n",
      "2    C    587    80\n",
      "3    D    859    55\n",
      "4    E    990    90\n"
     ]
    }
   ],
   "source": [
    "# Adding a new column to an existing DataFrame object with column label by passing new series\n",
    "d={'Item':[ 'A', 'B', 'C', 'D', 'E'],'Price':[600,756,587,859,990]}\n",
    "frame1=pd.DataFrame(d)\n",
    "frame1['Unit']=pd.Series([30,50,80,55,90])\n",
    "print(frame1)\n"
   ]
  },
  {
   "cell_type": "code",
   "execution_count": 48,
   "metadata": {},
   "outputs": [
    {
     "name": "stdout",
     "output_type": "stream",
     "text": [
      "  Item  Price  Unit  Total_Price\n",
      "0    A    600    30        18000\n",
      "1    B    756    50        37800\n",
      "2    C    587    80        46960\n",
      "3    D    859    55        47245\n",
      "4    E    990    90        89100\n"
     ]
    }
   ],
   "source": [
    "#Adding a new column using the existing columns in Data Frame\n",
    "frame1['Total_Price']=frame1['Unit']*frame1['Price']\n",
    "print(frame1)\n"
   ]
  },
  {
   "cell_type": "code",
   "execution_count": 49,
   "metadata": {},
   "outputs": [
    {
     "name": "stdout",
     "output_type": "stream",
     "text": [
      "  Item  Price      Place  Unit  Total_Price\n",
      "0    A    600   NewDelhi    30        18000\n",
      "1    B    756     Mumbai    50        37800\n",
      "2    C    587    Chennai    80        46960\n",
      "3    D    859  Hyderabad    55        47245\n",
      "4    E    990    Lucknow    90        89100\n"
     ]
    }
   ],
   "source": [
    "new_val=['NewDelhi','Mumbai','Chennai', 'Hyderabad','Lucknow']\n",
    "frame1.insert(2,column='Place',value=new_val)\n",
    "print(frame1)\n"
   ]
  },
  {
   "cell_type": "code",
   "execution_count": 52,
   "metadata": {},
   "outputs": [
    {
     "name": "stdout",
     "output_type": "stream",
     "text": [
      "  Item  Price     Place  Unit  Total_Price\n",
      "0    A    600  NewDelhi    30        18000\n"
     ]
    }
   ],
   "source": [
    "print(frame1.loc[frame1['Item']=='A']) "
   ]
  },
  {
   "cell_type": "code",
   "execution_count": 51,
   "metadata": {},
   "outputs": [
    {
     "name": "stdout",
     "output_type": "stream",
     "text": [
      "  Item  Price      Place  Unit  Total_Price\n",
      "1    B    756     Mumbai    50        37800\n",
      "3    D    859  Hyderabad    55        47245\n",
      "4    E    990    Lucknow    90        89100\n"
     ]
    }
   ],
   "source": [
    "print(frame1.loc[frame1['Price']>700])\n"
   ]
  },
  {
   "cell_type": "code",
   "execution_count": 54,
   "metadata": {},
   "outputs": [
    {
     "name": "stdout",
     "output_type": "stream",
     "text": [
      "  Item  Price      Place  Unit  Total_Price\n",
      "0    A    600   NewDelhi    30        18000\n",
      "3    D    859  Hyderabad    55        47245\n"
     ]
    }
   ],
   "source": [
    "print(frame1.loc[frame1['Item'].isin(['A','D'])])\n"
   ]
  },
  {
   "cell_type": "code",
   "execution_count": 59,
   "metadata": {},
   "outputs": [
    {
     "name": "stdout",
     "output_type": "stream",
     "text": [
      "  Item  Price      Place  Unit  Total_Price\n",
      "0    A    600   NewDelhi    30        18000\n",
      "1    B    756     Mumbai    50        37800\n",
      "2    C    587    Chennai    80        46960\n",
      "3    D    859  Hyderabad    55        47245\n",
      "4    E    990    Lucknow    90        89100\n",
      "Chennai\n"
     ]
    }
   ],
   "source": [
    "print(frame1)\n",
    "print(frame1.iloc[2,2]) \n"
   ]
  },
  {
   "cell_type": "code",
   "execution_count": 60,
   "metadata": {},
   "outputs": [
    {
     "name": "stdout",
     "output_type": "stream",
     "text": [
      "  Item  Price      Place  Unit  Total_Price\n",
      "0    A    600   NewDelhi    30        18000\n",
      "1    B    756     Mumbai    50        37800\n",
      "2    C    587    Chennai    80        46960\n",
      "3    D    859  Hyderabad    55        47245\n",
      "4    E    990    Lucknow    90        89100\n",
      "0     NewDelhi\n",
      "1       Mumbai\n",
      "2      Chennai\n",
      "3    Hyderabad\n",
      "4      Lucknow\n",
      "Name: Place, dtype: object\n"
     ]
    }
   ],
   "source": [
    "print(frame1)\n",
    "print(frame1.iloc[:,2]) \n"
   ]
  },
  {
   "cell_type": "code",
   "execution_count": 61,
   "metadata": {},
   "outputs": [
    {
     "name": "stdout",
     "output_type": "stream",
     "text": [
      "  Item  Price      Place  Unit  Total_Price\n",
      "0    A    600   NewDelhi    30        18000\n",
      "1    B    756     Mumbai    50        37800\n",
      "2    C    587    Chennai    80        46960\n",
      "3    D    859  Hyderabad    55        47245\n",
      "4    E    990    Lucknow    90        89100\n",
      "Item                 C\n",
      "Price              587\n",
      "Place          Chennai\n",
      "Unit                80\n",
      "Total_Price      46960\n",
      "Name: 2, dtype: object\n"
     ]
    }
   ],
   "source": [
    "print(frame1)\n",
    "print(frame1.iloc[2,:]) \n"
   ]
  },
  {
   "cell_type": "code",
   "execution_count": 67,
   "metadata": {},
   "outputs": [
    {
     "name": "stdout",
     "output_type": "stream",
     "text": [
      "  Item  Price      Place  Unit  Total_Price\n",
      "0    A    600   NewDelhi    30        18000\n",
      "1    B    756     Mumbai    50        37800\n",
      "2    C    587    Chennai    80        46960\n",
      "3    D    859  Hyderabad    55        47245\n",
      "4    E    990    Lucknow    90        89100\n",
      "0     NewDelhi\n",
      "1       Mumbai\n",
      "2      Chennai\n",
      "3    Hyderabad\n",
      "Name: Place, dtype: object\n"
     ]
    }
   ],
   "source": [
    "print(frame1)\n",
    "print(frame1.iloc[:4,2]) \n"
   ]
  },
  {
   "cell_type": "code",
   "execution_count": 70,
   "metadata": {},
   "outputs": [
    {
     "name": "stdout",
     "output_type": "stream",
     "text": [
      "  Item  Price      Place  Unit  Total_Price\n",
      "0    A    600   NewDelhi    30        18000\n",
      "1    B    756     Mumbai    50        37800\n",
      "2    C    587    Chennai    80        46960\n",
      "3    D    859  Hyderabad    55        47245\n",
      "4    E    990    Lucknow    90        89100\n",
      "   Price      Place  Unit\n",
      "0    600   NewDelhi    30\n",
      "1    756     Mumbai    50\n",
      "2    587    Chennai    80\n",
      "3    859  Hyderabad    55\n",
      "4    990    Lucknow    90\n"
     ]
    }
   ],
   "source": [
    "print(frame1)\n",
    "print(frame1.iloc[:,1:4]) "
   ]
  },
  {
   "cell_type": "code",
   "execution_count": 71,
   "metadata": {},
   "outputs": [
    {
     "name": "stdout",
     "output_type": "stream",
     "text": [
      "  Item  Price      Place  Unit  Total_Price\n",
      "1    B    756     Mumbai    50        37800\n",
      "2    C    587    Chennai    80        46960\n",
      "3    D    859  Hyderabad    55        47245\n",
      "4    E    990    Lucknow    90        89100\n"
     ]
    }
   ],
   "source": [
    "# Drop rows with label 0\n",
    "frame1.drop(0,inplace=True) #deletes first row\n",
    "print(frame1)\n",
    "\n"
   ]
  },
  {
   "cell_type": "code",
   "execution_count": 74,
   "metadata": {},
   "outputs": [
    {
     "name": "stdout",
     "output_type": "stream",
     "text": [
      "    Loan_ID Gender Married Dependents     Education Self_Employed  \\\n",
      "0  LP001002   Male      No          0      Graduate            No   \n",
      "1  LP001003   Male     Yes          1      Graduate            No   \n",
      "2  LP001005   Male     Yes          0      Graduate           Yes   \n",
      "3  LP001006   Male     Yes          0  Not Graduate            No   \n",
      "4  LP001008   Male      No          0      Graduate            No   \n",
      "\n",
      "   ApplicantIncome  CoapplicantIncome  LoanAmount  Loan_Amount_Term  \\\n",
      "0             5849                0.0         NaN             360.0   \n",
      "1             4583             1508.0       128.0             360.0   \n",
      "2             3000                0.0        66.0             360.0   \n",
      "3             2583             2358.0       120.0             360.0   \n",
      "4             6000                0.0       141.0             360.0   \n",
      "\n",
      "   Credit_History Property_Area Loan_Status  \n",
      "0             1.0         Urban           Y  \n",
      "1             1.0         Rural           N  \n",
      "2             1.0         Urban           Y  \n",
      "3             1.0         Urban           Y  \n",
      "4             1.0         Urban           Y  \n"
     ]
    }
   ],
   "source": [
    "df=pd.read_csv(\"train.csv\")\n",
    "print(df.head())"
   ]
  },
  {
   "cell_type": "code",
   "execution_count": 75,
   "metadata": {},
   "outputs": [
    {
     "name": "stdout",
     "output_type": "stream",
     "text": [
      "['Loan_ID', 'Gender', 'Married', 'Dependents', 'Education', 'Self_Employed', 'ApplicantIncome', 'CoapplicantIncome', 'LoanAmount', 'Loan_Amount_Term', 'Credit_History', 'Property_Area', 'Loan_Status']\n"
     ]
    }
   ],
   "source": [
    "a=df.columns.tolist()\n",
    "print(a)\n"
   ]
  },
  {
   "cell_type": "code",
   "execution_count": 76,
   "metadata": {},
   "outputs": [
    {
     "name": "stdout",
     "output_type": "stream",
     "text": [
      "Loan_ID               0\n",
      "Gender                9\n",
      "Married               3\n",
      "Dependents           12\n",
      "Education             0\n",
      "Self_Employed        27\n",
      "ApplicantIncome       0\n",
      "CoapplicantIncome     0\n",
      "LoanAmount           18\n",
      "Loan_Amount_Term     14\n",
      "Credit_History       41\n",
      "Property_Area         0\n",
      "Loan_Status           0\n",
      "dtype: int64\n"
     ]
    }
   ],
   "source": [
    "print(df.isnull().sum())"
   ]
  },
  {
   "cell_type": "code",
   "execution_count": 77,
   "metadata": {},
   "outputs": [
    {
     "name": "stdout",
     "output_type": "stream",
     "text": [
      "9\n"
     ]
    }
   ],
   "source": [
    "print(df['Gender'].isnull().sum())"
   ]
  },
  {
   "cell_type": "code",
   "execution_count": 81,
   "metadata": {},
   "outputs": [
    {
     "name": "stdout",
     "output_type": "stream",
     "text": [
      "144.02074688796682\n"
     ]
    }
   ],
   "source": [
    "m=df['LoanAmount'].mean()\n",
    "print(m)\n",
    "df['LoanAmount'].fillna(m, inplace=True)\n"
   ]
  },
  {
   "cell_type": "code",
   "execution_count": 80,
   "metadata": {},
   "outputs": [
    {
     "name": "stdout",
     "output_type": "stream",
     "text": [
      "Loan_ID               0\n",
      "Gender                9\n",
      "Married               3\n",
      "Dependents           12\n",
      "Education             0\n",
      "Self_Employed        27\n",
      "ApplicantIncome       0\n",
      "CoapplicantIncome     0\n",
      "LoanAmount            0\n",
      "Loan_Amount_Term     14\n",
      "Credit_History       41\n",
      "Property_Area         0\n",
      "Loan_Status           0\n",
      "dtype: int64\n"
     ]
    }
   ],
   "source": [
    "print(df.isnull().sum())"
   ]
  },
  {
   "cell_type": "code",
   "execution_count": 82,
   "metadata": {},
   "outputs": [
    {
     "name": "stdout",
     "output_type": "stream",
     "text": [
      "17.0\n"
     ]
    }
   ],
   "source": [
    "m=df['LoanAmount'].min()\n",
    "print(m)"
   ]
  },
  {
   "cell_type": "code",
   "execution_count": 83,
   "metadata": {},
   "outputs": [
    {
     "name": "stdout",
     "output_type": "stream",
     "text": [
      "700.0\n"
     ]
    }
   ],
   "source": [
    "m=df['LoanAmount'].max()\n",
    "print(m)"
   ]
  },
  {
   "cell_type": "code",
   "execution_count": 84,
   "metadata": {},
   "outputs": [
    {
     "data": {
      "text/html": [
       "<div>\n",
       "<style scoped>\n",
       "    .dataframe tbody tr th:only-of-type {\n",
       "        vertical-align: middle;\n",
       "    }\n",
       "\n",
       "    .dataframe tbody tr th {\n",
       "        vertical-align: top;\n",
       "    }\n",
       "\n",
       "    .dataframe thead th {\n",
       "        text-align: right;\n",
       "    }\n",
       "</style>\n",
       "<table border=\"1\" class=\"dataframe\">\n",
       "  <thead>\n",
       "    <tr style=\"text-align: right;\">\n",
       "      <th></th>\n",
       "      <th>ApplicantIncome</th>\n",
       "      <th>CoapplicantIncome</th>\n",
       "      <th>LoanAmount</th>\n",
       "      <th>Loan_Amount_Term</th>\n",
       "      <th>Credit_History</th>\n",
       "    </tr>\n",
       "  </thead>\n",
       "  <tbody>\n",
       "    <tr>\n",
       "      <th>count</th>\n",
       "      <td>500.000000</td>\n",
       "      <td>500.000000</td>\n",
       "      <td>500.000000</td>\n",
       "      <td>486.000000</td>\n",
       "      <td>459.000000</td>\n",
       "    </tr>\n",
       "    <tr>\n",
       "      <th>mean</th>\n",
       "      <td>5493.644000</td>\n",
       "      <td>1506.307840</td>\n",
       "      <td>144.020747</td>\n",
       "      <td>342.543210</td>\n",
       "      <td>0.843137</td>\n",
       "    </tr>\n",
       "    <tr>\n",
       "      <th>std</th>\n",
       "      <td>6515.668972</td>\n",
       "      <td>2134.432188</td>\n",
       "      <td>80.846099</td>\n",
       "      <td>63.834977</td>\n",
       "      <td>0.364068</td>\n",
       "    </tr>\n",
       "    <tr>\n",
       "      <th>min</th>\n",
       "      <td>150.000000</td>\n",
       "      <td>0.000000</td>\n",
       "      <td>17.000000</td>\n",
       "      <td>12.000000</td>\n",
       "      <td>0.000000</td>\n",
       "    </tr>\n",
       "    <tr>\n",
       "      <th>25%</th>\n",
       "      <td>2874.500000</td>\n",
       "      <td>0.000000</td>\n",
       "      <td>100.000000</td>\n",
       "      <td>360.000000</td>\n",
       "      <td>1.000000</td>\n",
       "    </tr>\n",
       "    <tr>\n",
       "      <th>50%</th>\n",
       "      <td>3854.000000</td>\n",
       "      <td>1125.500000</td>\n",
       "      <td>128.000000</td>\n",
       "      <td>360.000000</td>\n",
       "      <td>1.000000</td>\n",
       "    </tr>\n",
       "    <tr>\n",
       "      <th>75%</th>\n",
       "      <td>5764.000000</td>\n",
       "      <td>2253.250000</td>\n",
       "      <td>160.000000</td>\n",
       "      <td>360.000000</td>\n",
       "      <td>1.000000</td>\n",
       "    </tr>\n",
       "    <tr>\n",
       "      <th>max</th>\n",
       "      <td>81000.000000</td>\n",
       "      <td>20000.000000</td>\n",
       "      <td>700.000000</td>\n",
       "      <td>480.000000</td>\n",
       "      <td>1.000000</td>\n",
       "    </tr>\n",
       "  </tbody>\n",
       "</table>\n",
       "</div>"
      ],
      "text/plain": [
       "       ApplicantIncome  CoapplicantIncome  LoanAmount  Loan_Amount_Term  \\\n",
       "count       500.000000         500.000000  500.000000        486.000000   \n",
       "mean       5493.644000        1506.307840  144.020747        342.543210   \n",
       "std        6515.668972        2134.432188   80.846099         63.834977   \n",
       "min         150.000000           0.000000   17.000000         12.000000   \n",
       "25%        2874.500000           0.000000  100.000000        360.000000   \n",
       "50%        3854.000000        1125.500000  128.000000        360.000000   \n",
       "75%        5764.000000        2253.250000  160.000000        360.000000   \n",
       "max       81000.000000       20000.000000  700.000000        480.000000   \n",
       "\n",
       "       Credit_History  \n",
       "count      459.000000  \n",
       "mean         0.843137  \n",
       "std          0.364068  \n",
       "min          0.000000  \n",
       "25%          1.000000  \n",
       "50%          1.000000  \n",
       "75%          1.000000  \n",
       "max          1.000000  "
      ]
     },
     "execution_count": 84,
     "metadata": {},
     "output_type": "execute_result"
    }
   ],
   "source": [
    "df.describe()"
   ]
  },
  {
   "cell_type": "code",
   "execution_count": 85,
   "metadata": {},
   "outputs": [
    {
     "name": "stdout",
     "output_type": "stream",
     "text": [
      "<class 'pandas.core.frame.DataFrame'>\n",
      "RangeIndex: 500 entries, 0 to 499\n",
      "Data columns (total 13 columns):\n",
      "Loan_ID              500 non-null object\n",
      "Gender               491 non-null object\n",
      "Married              497 non-null object\n",
      "Dependents           488 non-null object\n",
      "Education            500 non-null object\n",
      "Self_Employed        473 non-null object\n",
      "ApplicantIncome      500 non-null int64\n",
      "CoapplicantIncome    500 non-null float64\n",
      "LoanAmount           500 non-null float64\n",
      "Loan_Amount_Term     486 non-null float64\n",
      "Credit_History       459 non-null float64\n",
      "Property_Area        500 non-null object\n",
      "Loan_Status          500 non-null object\n",
      "dtypes: float64(4), int64(1), object(8)\n",
      "memory usage: 50.9+ KB\n"
     ]
    }
   ],
   "source": [
    "df.info()"
   ]
  },
  {
   "cell_type": "code",
   "execution_count": null,
   "metadata": {},
   "outputs": [],
   "source": []
  }
 ],
 "metadata": {
  "kernelspec": {
   "display_name": "Python 3",
   "language": "python",
   "name": "python3"
  },
  "language_info": {
   "codemirror_mode": {
    "name": "ipython",
    "version": 3
   },
   "file_extension": ".py",
   "mimetype": "text/x-python",
   "name": "python",
   "nbconvert_exporter": "python",
   "pygments_lexer": "ipython3",
   "version": "3.7.3"
  }
 },
 "nbformat": 4,
 "nbformat_minor": 2
}
