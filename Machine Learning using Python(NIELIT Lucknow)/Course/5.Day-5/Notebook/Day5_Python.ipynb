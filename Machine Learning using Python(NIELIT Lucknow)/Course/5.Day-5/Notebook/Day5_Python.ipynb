{
 "cells": [
  {
   "cell_type": "code",
   "execution_count": null,
   "metadata": {},
   "outputs": [],
   "source": [
    "# Sets\n",
    "Months={\"Jan\",\"Feb\",\"Mar\"} \n",
    "print(Months)"
   ]
  },
  {
   "cell_type": "code",
   "execution_count": null,
   "metadata": {},
   "outputs": [],
   "source": [
    "Days=set([\"Mon\",\"Tue\",\"Wed\",\"Thu\",\"Fri\",\"Sat\",\"Sun\"])\n",
    "print(Days)"
   ]
  },
  {
   "cell_type": "code",
   "execution_count": null,
   "metadata": {},
   "outputs": [],
   "source": [
    "for x in Days:\n",
    "    print(x)"
   ]
  },
  {
   "cell_type": "code",
   "execution_count": null,
   "metadata": {},
   "outputs": [],
   "source": [
    "thisset={\"apple\", \"banana\", \"cherry\"}\n",
    "thisset.add(\"orange\")\n",
    "print(thisset)"
   ]
  },
  {
   "cell_type": "code",
   "execution_count": null,
   "metadata": {},
   "outputs": [],
   "source": [
    "thisset.update([\"mango\",\"grapes\"])\n",
    "print(thisset)"
   ]
  },
  {
   "cell_type": "code",
   "execution_count": null,
   "metadata": {},
   "outputs": [],
   "source": [
    "len(thisset)"
   ]
  },
  {
   "cell_type": "code",
   "execution_count": null,
   "metadata": {},
   "outputs": [],
   "source": [
    "thisset.remove(\"banana\")\n",
    "print(thisset)"
   ]
  },
  {
   "cell_type": "code",
   "execution_count": null,
   "metadata": {},
   "outputs": [],
   "source": [
    "thisset.pop()\n",
    "print(thisset)"
   ]
  },
  {
   "cell_type": "code",
   "execution_count": null,
   "metadata": {},
   "outputs": [],
   "source": [
    "x={\"apple\", \"banana\", \"cherry\"}\n",
    "y={\"orange\", \"apple\", \"grapes\"}\n",
    "\n",
    "z=x.difference(y) #x-y\n",
    "print(z)"
   ]
  },
  {
   "cell_type": "code",
   "execution_count": null,
   "metadata": {},
   "outputs": [],
   "source": [
    "z1=y.difference(x) #y-x\n",
    "print(z1)"
   ]
  },
  {
   "cell_type": "code",
   "execution_count": null,
   "metadata": {},
   "outputs": [],
   "source": [
    "z2=x.symmetric_difference(y)\n",
    "print(z2)"
   ]
  },
  {
   "cell_type": "code",
   "execution_count": null,
   "metadata": {},
   "outputs": [],
   "source": [
    "z3=x.intersection(y)\n",
    "print(z3)"
   ]
  },
  {
   "cell_type": "code",
   "execution_count": null,
   "metadata": {},
   "outputs": [],
   "source": [
    "z4=x.isdisjoint(y)\n",
    "print(z4)"
   ]
  },
  {
   "cell_type": "code",
   "execution_count": null,
   "metadata": {},
   "outputs": [],
   "source": [
    "z5=x.issubset(y)\n",
    "print(z5)"
   ]
  },
  {
   "cell_type": "code",
   "execution_count": null,
   "metadata": {},
   "outputs": [],
   "source": [
    "z6=x.union(y)\n",
    "print(z6)"
   ]
  },
  {
   "cell_type": "code",
   "execution_count": null,
   "metadata": {},
   "outputs": [],
   "source": [
    "#Program to find number of vowels in a string\n",
    "\n",
    "str=input(\"Enter the string:\") #Input Statement\n",
    "\n",
    "#Process Statement: Start\n",
    "vowel=set(\"aeiouAEIOU\")\n",
    "\n",
    "count=0\n",
    "\n",
    "for x in str:\n",
    "    if x in vowel:\n",
    "        count=count+1\n",
    "        \n",
    "#Process Statement: End\n",
    "print(\"No. of Vowels:\", count) # Output Statement\n",
    "print(vowel) # Output Statement\n",
    "        \n",
    "    \n"
   ]
  },
  {
   "cell_type": "code",
   "execution_count": null,
   "metadata": {},
   "outputs": [],
   "source": [
    "def hello_world():\n",
    "    print(\"Hello World!\")\n",
    "\n",
    "hello_world()"
   ]
  },
  {
   "cell_type": "code",
   "execution_count": null,
   "metadata": {},
   "outputs": [],
   "source": [
    "def sum(a,b):\n",
    "    c=a+b\n",
    "    print(\"Sum is:\",c)\n",
    "\n",
    "x=int(input(\"Enter First Number:\"))\n",
    "y=int(input(\"Enter Second Number\"))\n",
    "sum(x,y)"
   ]
  },
  {
   "cell_type": "code",
   "execution_count": null,
   "metadata": {},
   "outputs": [],
   "source": [
    "def sum(a,b):\n",
    "    c=a+b\n",
    "    return c\n",
    "\n",
    "x=int(input(\"Enter First Number:\"))\n",
    "y=int(input(\"Enter Second Number\"))\n",
    "z=sum(x,y)\n",
    "print(z)"
   ]
  },
  {
   "cell_type": "code",
   "execution_count": null,
   "metadata": {},
   "outputs": [],
   "source": [
    "#Program to find number of vowels in a string\n",
    "\n",
    "\n",
    "#Process Statement: Start\n",
    "\n",
    "def vowel_count(str):\n",
    "    vowel=set(\"aeiouAEIOU\")\n",
    "\n",
    "    count=0\n",
    "\n",
    "    for x in str:\n",
    "        if x in vowel:\n",
    "            count=count+1\n",
    "    return count\n",
    "        \n",
    "#Process Statement: End\n",
    "\n",
    "s=input(\"Enter the string:\") #Input Statement\n",
    "z=vowel_count(s)\n",
    "print(\"No. of Vowels:\", z) # Output Statement\n"
   ]
  },
  {
   "cell_type": "code",
   "execution_count": null,
   "metadata": {},
   "outputs": [],
   "source": [
    "#Program to find number of vowels in a string\n",
    "\n",
    "\n",
    "#Process Statement: Start\n",
    "a=5\n",
    "def vowel_count(str):\n",
    "    vowel=set(\"aeiouAEIOU\")\n",
    "\n",
    "    count=0\n",
    "\n",
    "    for x in str:\n",
    "        if x in vowel:\n",
    "            count=count+1\n",
    "    return count\n",
    "        \n",
    "#Process Statement: End\n",
    "\n",
    "\n",
    "z1=vowel_count(\"Shutter\")\n",
    "z2=vowel_count(\"Computer\")\n",
    "print(\"No. of Vowels:\", z1) \n",
    "print(\"No. of Vowels:\", z2)# Output Statement\n"
   ]
  },
  {
   "cell_type": "code",
   "execution_count": null,
   "metadata": {},
   "outputs": [],
   "source": [
    "def simple_interest(p,t,r):  \n",
    "    a=(p*t*r)/100 \n",
    "    return a\n",
    "\n",
    "z=simple_interest(t=2,p=1000,r=10)\n",
    "print(z)\n"
   ]
  },
  {
   "cell_type": "code",
   "execution_count": null,
   "metadata": {},
   "outputs": [],
   "source": [
    "def simple_interest(p,r,t=1):  \n",
    "    a=(p*t*r)/100 \n",
    "    return a\n",
    "\n",
    "z=simple_interest(1000,10)\n",
    "print(z)"
   ]
  },
  {
   "cell_type": "code",
   "execution_count": null,
   "metadata": {},
   "outputs": [],
   "source": [
    "#Variable Length Arguments\n",
    "def printme(*names):  \n",
    "    print(\"printing the passed arguments...\")  \n",
    "    for name in names:  \n",
    "        print(name)  \n",
    "printme(\"apple\", \"banana\")\n"
   ]
  },
  {
   "cell_type": "code",
   "execution_count": null,
   "metadata": {},
   "outputs": [],
   "source": [
    "def adder(*num):\n",
    "    sum = 0\n",
    "    for n in num:\n",
    "        sum = sum + n\n",
    "    print(\"Sum:\",sum)\n",
    "\n",
    "adder(3,5)\n",
    "adder(4,5,6,7)\n",
    "adder(1,2,3,5,6)\n"
   ]
  },
  {
   "cell_type": "code",
   "execution_count": null,
   "metadata": {},
   "outputs": [],
   "source": [
    "#Lambda Function\n",
    "add=lambda x,y: x+y\n",
    "print(\"Addition:\",add(5,6))\n",
    "print(\"Addition:\",add(11,6))\n"
   ]
  },
  {
   "cell_type": "code",
   "execution_count": null,
   "metadata": {},
   "outputs": [],
   "source": [
    "def multiply2(x):\n",
    "    return x * 2\n",
    "\n",
    "\n",
    "list=[1,2,3,4] \n",
    "m=[*map(multiply2, list)]  # Output [2, 4, 6, 8]\n",
    "print((m))\n"
   ]
  },
  {
   "cell_type": "code",
   "execution_count": null,
   "metadata": {},
   "outputs": [],
   "source": [
    "list=[1,2,3,4] \n",
    "m=map(multiply2, list)\n",
    "x=tuple(m) # Output [2, 4, 6, 8]\n",
    "print(x)"
   ]
  },
  {
   "cell_type": "code",
   "execution_count": null,
   "metadata": {},
   "outputs": [],
   "source": []
  }
 ],
 "metadata": {
  "kernelspec": {
   "display_name": "Python 3",
   "language": "python",
   "name": "python3"
  },
  "language_info": {
   "codemirror_mode": {
    "name": "ipython",
    "version": 3
   },
   "file_extension": ".py",
   "mimetype": "text/x-python",
   "name": "python",
   "nbconvert_exporter": "python",
   "pygments_lexer": "ipython3",
   "version": "3.7.3"
  }
 },
 "nbformat": 4,
 "nbformat_minor": 2
}
