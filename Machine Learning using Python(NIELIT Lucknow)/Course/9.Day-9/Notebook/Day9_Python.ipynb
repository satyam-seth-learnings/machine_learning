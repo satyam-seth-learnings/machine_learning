{
 "cells": [
  {
   "cell_type": "code",
   "execution_count": null,
   "metadata": {},
   "outputs": [],
   "source": [
    "#Write a Program to check whether a number is even or odd\n",
    "number=int(input(\"Enter a Number:\"))\n",
    "if(number%2==0):\n",
    "    print(\"Number is Even\")\n",
    "else:\n",
    "    print(\"Number is odd\")\n"
   ]
  },
  {
   "cell_type": "code",
   "execution_count": null,
   "metadata": {},
   "outputs": [],
   "source": [
    "#Write a program to swap two numbers\n",
    "n1=int(input(\"Enter First Number:\"))\n",
    "n2=int(input(\"Enter Second Number:\"))\n",
    "print(n1,n2)\n",
    "temp=n1\n",
    "n1=n2\n",
    "n2=temp\n",
    "print(n1,n2)"
   ]
  },
  {
   "cell_type": "code",
   "execution_count": null,
   "metadata": {},
   "outputs": [],
   "source": [
    "#Write a program to calculate Factorial of a given number\n",
    "n=int(input(\"Enter First Number:\"))\n",
    "p=1\n",
    "for i in range(1,n+1):\n",
    "    p=p*i\n",
    "print(p)\n"
   ]
  },
  {
   "cell_type": "code",
   "execution_count": null,
   "metadata": {},
   "outputs": [],
   "source": [
    "#Write a Program to find whether a given number is prime or not\n",
    "n=int(input(\"Enter First Number:\"))\n",
    "for i in range(2,n):\n",
    "    if(n%i==0):\n",
    "        print(\"It is not a prime number\")\n",
    "        break\n",
    "else:\n",
    "    print(\"It is a prime number\")\n",
    "    \n"
   ]
  },
  {
   "cell_type": "code",
   "execution_count": null,
   "metadata": {},
   "outputs": [],
   "source": [
    "#Write a Program to sum all elements of a list\n",
    "l=[12,23,34,56]\n",
    "sum=0\n",
    "for i in l:\n",
    "    sum=sum+i\n",
    "print(sum)"
   ]
  },
  {
   "cell_type": "code",
   "execution_count": null,
   "metadata": {},
   "outputs": [],
   "source": [
    "#Write a Program to count the number of  elements of a list\n",
    "l=[12,23,34,56]\n",
    "count=0\n",
    "for i in l:\n",
    "    count=count+1\n",
    "print(count)"
   ]
  },
  {
   "cell_type": "code",
   "execution_count": null,
   "metadata": {},
   "outputs": [],
   "source": [
    "#Write a Program to find average or mean of a list data\n",
    "l=[12,23,34,56]\n",
    "sum=0\n",
    "count=0\n",
    "for i in l:\n",
    "    sum=sum+i\n",
    "    count=count+1\n",
    "average=sum/count\n",
    "print(average)"
   ]
  },
  {
   "cell_type": "code",
   "execution_count": null,
   "metadata": {},
   "outputs": [],
   "source": [
    "#Write a Program to interchange first and last element of list\n",
    "l=[12,23,34,56]\n",
    "temp=l[0]\n",
    "l[0]=l[-1]\n",
    "l[-1]=temp\n",
    "print(l)"
   ]
  },
  {
   "cell_type": "code",
   "execution_count": null,
   "metadata": {},
   "outputs": [],
   "source": [
    "#Write a Program to find maximum element of a list\n",
    "l=[12,34,56,23]\n",
    "max=l[0]\n",
    "for i in l:\n",
    "    if(i>max):\n",
    "        max=i\n",
    "print(max)"
   ]
  },
  {
   "cell_type": "code",
   "execution_count": null,
   "metadata": {},
   "outputs": [],
   "source": [
    "#Write a Program to find minimum element of a list\n",
    "l=[12,34,56,23]\n",
    "min=l[0]\n",
    "for i in l:\n",
    "    if(i<min):\n",
    "        min=i\n",
    "print(min)"
   ]
  },
  {
   "cell_type": "code",
   "execution_count": null,
   "metadata": {},
   "outputs": [],
   "source": [
    "#input some data from user and put that into list\n",
    "n=int(input(\"How many data in the list?\"))\n",
    "l=[]\n",
    "for i in range(1,n+1):\n",
    "    x=int(input(\"Enter the data:\"))\n",
    "    l.append(x)\n",
    "    print(l)\n",
    "    "
   ]
  },
  {
   "cell_type": "code",
   "execution_count": null,
   "metadata": {},
   "outputs": [],
   "source": []
  }
 ],
 "metadata": {
  "kernelspec": {
   "display_name": "Python 3",
   "language": "python",
   "name": "python3"
  },
  "language_info": {
   "codemirror_mode": {
    "name": "ipython",
    "version": 3
   },
   "file_extension": ".py",
   "mimetype": "text/x-python",
   "name": "python",
   "nbconvert_exporter": "python",
   "pygments_lexer": "ipython3",
   "version": "3.7.3"
  }
 },
 "nbformat": 4,
 "nbformat_minor": 2
}
