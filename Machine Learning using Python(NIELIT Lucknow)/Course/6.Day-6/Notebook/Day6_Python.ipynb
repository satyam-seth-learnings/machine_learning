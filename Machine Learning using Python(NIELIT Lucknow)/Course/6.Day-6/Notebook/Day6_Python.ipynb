{
 "cells": [
  {
   "cell_type": "code",
   "execution_count": null,
   "metadata": {},
   "outputs": [],
   "source": [
    "# Create a class\n",
    "class data:\n",
    "    id=101 #Data,Attribute,Property,Field\n",
    "    name=\"Abhishek\"\n",
    "    \n",
    "    def display(s): # Methods\n",
    "        print(\"ID=\",s.id)\n",
    "        print(\"Name=\",s.name)\n",
    "    \n",
    "        \n",
    "m=data() # m is an object of data class defined above\n",
    "print(m.id)\n",
    "\n",
    "\n",
    "\n"
   ]
  },
  {
   "cell_type": "code",
   "execution_count": null,
   "metadata": {},
   "outputs": [],
   "source": [
    "# Create a class\n",
    "class data:\n",
    "    id=0 #Data,Attribute,Property,Field\n",
    "    name=\"\"\n",
    "    \n",
    "    def display(self): # Methods\n",
    "        print(\"ID=\",self.id)\n",
    "        print(\"Name=\",self.name)\n",
    "        \n",
    "m1=data() \n",
    "m1.id=303\n",
    "m1.name=\"Ravi\"\n",
    "m2=data()\n",
    "m2.id=203\n",
    "m2.name=\"Mohan\"\n",
    "print(m1.name)\n",
    "print(m2.name)\n",
    "m1.display()\n"
   ]
  },
  {
   "cell_type": "code",
   "execution_count": null,
   "metadata": {},
   "outputs": [],
   "source": [
    "# Create a constructor\n",
    "class data:\n",
    "    id=0 #Data,Attribute,Property,Field\n",
    "    name=\"\"\n",
    "    \n",
    "    def __init__(a,i,n):\n",
    "        a.id=i\n",
    "        a.name=n\n",
    "        print(\"Object is created\")\n",
    "\n",
    "    def display(self): # Methods\n",
    "        print(\"ID=\",self.id)\n",
    "        print(\"Name=\",self.name)\n",
    "        \n",
    "m1=data(303,\"Ravi\")#Calling a Constructor i=303, n= \"Ravi\"\n",
    "m2=data(203,\"Mohan\")\n",
    "m2.name=\"Alok\"\n",
    "m1.display()\n",
    "m2.display()\n",
    "del m2\n",
    "m2.display()\n"
   ]
  },
  {
   "cell_type": "code",
   "execution_count": null,
   "metadata": {},
   "outputs": [],
   "source": [
    "#Multiple Inheritance\n",
    "class Calculation1:\n",
    "  def Summation(self,a,b):\n",
    "    return a+b;\n",
    "\n",
    "class Calculation2:\n",
    "  def Multiplication(self,a,b):\n",
    "    return a*b;\n",
    "\n",
    "class Derived(Calculation1,Calculation2):\n",
    "  def Divide(self,a,b):\n",
    "    return a/b;\n",
    "\n",
    "\n",
    "d=Derived()\n",
    "print(d.Summation(10,20))\n",
    "print(d.Multiplication(10,20))\n",
    "print(d.Divide(10,20))\n"
   ]
  },
  {
   "cell_type": "code",
   "execution_count": null,
   "metadata": {},
   "outputs": [],
   "source": [
    "#Multilevel Inheritance\n",
    "\n",
    "class Animal:  \n",
    "        def speak(self):  \n",
    "            print(\"Animal Speaking\")  \n",
    "class Dog(Animal):  \n",
    "        def bark(self):  \n",
    "            print(\"dog barking\")  \n",
    "class DogChild(Dog):  \n",
    "        def eat(self):  \n",
    "            print(\"Eating bread...\")  \n",
    "d = DogChild()  \n",
    "d.bark()  \n",
    "d.speak()  \n",
    "d.eat() \n",
    "dog=Dog()\n",
    "dog.bark()\n",
    "dog.speak()\n",
    "dog.eat() # Error\n"
   ]
  },
  {
   "cell_type": "code",
   "execution_count": null,
   "metadata": {},
   "outputs": [],
   "source": [
    "#Method Overloading\n",
    "\n",
    "class Human:\n",
    "      def sayHello(self, name=None):\n",
    "          if name is not None:\n",
    "             print('Hello ' + name)\n",
    "          else:\n",
    "             print('Hello ')\n",
    "\n",
    "\n",
    "obj = Human()\n",
    "obj.sayHello()\n",
    "obj.sayHello('Ravi')\n"
   ]
  },
  {
   "cell_type": "code",
   "execution_count": null,
   "metadata": {},
   "outputs": [],
   "source": [
    "#Method Overriding\n",
    "class Animal:\n",
    "    def speak(self):\n",
    "        print(\"speaking\")\n",
    "class Dog(Animal):\n",
    "    def speak(self):\n",
    "        print(\"Barking\")\n",
    "d=Dog()\n",
    "d.speak() \n",
    "a=Animal()\n",
    "a.speak()"
   ]
  },
  {
   "cell_type": "code",
   "execution_count": null,
   "metadata": {},
   "outputs": [],
   "source": []
  }
 ],
 "metadata": {
  "kernelspec": {
   "display_name": "Python 3",
   "language": "python",
   "name": "python3"
  },
  "language_info": {
   "codemirror_mode": {
    "name": "ipython",
    "version": 3
   },
   "file_extension": ".py",
   "mimetype": "text/x-python",
   "name": "python",
   "nbconvert_exporter": "python",
   "pygments_lexer": "ipython3",
   "version": "3.7.0"
  }
 },
 "nbformat": 4,
 "nbformat_minor": 2
}
