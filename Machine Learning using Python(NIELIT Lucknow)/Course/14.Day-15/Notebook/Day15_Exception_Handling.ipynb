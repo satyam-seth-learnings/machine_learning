{
 "cells": [
  {
   "cell_type": "code",
   "execution_count": 16,
   "metadata": {},
   "outputs": [
    {
     "name": "stdout",
     "output_type": "stream",
     "text": [
      "Enter number1:12\n",
      "Enter number2:3\n",
      "Division: 4.0\n",
      "Try block1 is executed successfully\n",
      "This statement is executed\n",
      "This statement is also executed\n"
     ]
    }
   ],
   "source": [
    "# Program for exception handling\n",
    "x=int(input(\"Enter number1:\"))\n",
    "y=int(input(\"Enter number2:\"))\n",
    "\n",
    "try:\n",
    "    z=x/y\n",
    "    print(\"Division:\",z)\n",
    "\n",
    "except:\n",
    "    print(\"Divide by zero error\")\n",
    "\n",
    "\n",
    "print(\"This statement is executed\")\n",
    "print(\"This statement is also executed\")"
   ]
  },
  {
   "cell_type": "code",
   "execution_count": 17,
   "metadata": {},
   "outputs": [
    {
     "name": "stdout",
     "output_type": "stream",
     "text": [
      "Enter number1:12\n",
      "Enter number2:5\n",
      "Division: 2.4\n",
      "Try block1 is executed successfully\n",
      "This statement is executed\n",
      "This statement is also executed\n"
     ]
    }
   ],
   "source": [
    "# Program for exception handling using specific exception named-'ArithmeticError'\n",
    "x=int(input(\"Enter number1:\"))\n",
    "y=int(input(\"Enter number2:\"))\n",
    "\n",
    "try:\n",
    "    z=x/y\n",
    "    print(\"Division:\",z)\n",
    "\n",
    "except (ArithmeticError):\n",
    "    print(\"Arithmetic Error\")\n",
    "\n",
    "#we can also specify else block with try block. \n",
    "else:\n",
    "    print(\"Try block1 is executed successfully\")\n",
    "\n",
    "print(\"This statement is executed\")\n",
    "print(\"This statement is also executed\")\n"
   ]
  },
  {
   "cell_type": "code",
   "execution_count": 19,
   "metadata": {},
   "outputs": [
    {
     "name": "stdout",
     "output_type": "stream",
     "text": [
      "Enter number1:10\n",
      "Enter number2:0\n",
      "Arithmetic Error\n",
      "Finally block always executed\n",
      "Statement after try block\n"
     ]
    }
   ],
   "source": [
    "# Program for exception handling\n",
    "x=int(input(\"Enter number1:\"))\n",
    "y=int(input(\"Enter number2:\"))\n",
    "\n",
    "try:\n",
    "    z=x/y\n",
    "    print(\"Division:\",z)\n",
    "\n",
    "except (ArithmeticError):\n",
    "    print(\"Arithmetic Error\")\n",
    "\n",
    "else:\n",
    "    print(\"Try block1 is executed successfully\")\n",
    "\n",
    "#giving finally block with try....except...else\n",
    "finally:\n",
    "    print(\"Finally block always executed\")\n",
    "    \n",
    "print(\"Statement after try block\")"
   ]
  },
  {
   "cell_type": "code",
   "execution_count": 21,
   "metadata": {},
   "outputs": [
    {
     "name": "stdout",
     "output_type": "stream",
     "text": [
      "Enter the age?17\n",
      "The age is not valid\n",
      "Statement after try...except block\n"
     ]
    }
   ],
   "source": [
    "#raising user defined exception\n",
    "\n",
    "try:  \n",
    "    age = int(input(\"Enter the age?\"))  \n",
    "    if age<18:  \n",
    "        raise ValueError;  \n",
    "    else:  \n",
    "        print(\"the age is valid\")  \n",
    "except ValueError:  \n",
    "    print(\"The age is not valid\") \n",
    "\n",
    "print('Statement after try...except block')\n"
   ]
  },
  {
   "cell_type": "code",
   "execution_count": null,
   "metadata": {},
   "outputs": [],
   "source": []
  }
 ],
 "metadata": {
  "kernelspec": {
   "display_name": "Python 3",
   "language": "python",
   "name": "python3"
  },
  "language_info": {
   "codemirror_mode": {
    "name": "ipython",
    "version": 3
   },
   "file_extension": ".py",
   "mimetype": "text/x-python",
   "name": "python",
   "nbconvert_exporter": "python",
   "pygments_lexer": "ipython3",
   "version": "3.7.3"
  }
 },
 "nbformat": 4,
 "nbformat_minor": 2
}
