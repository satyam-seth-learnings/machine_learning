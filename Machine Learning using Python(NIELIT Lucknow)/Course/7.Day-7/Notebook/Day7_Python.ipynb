{
 "cells": [
  {
   "cell_type": "code",
   "execution_count": 3,
   "metadata": {},
   "outputs": [
    {
     "name": "stdout",
     "output_type": "stream",
     "text": [
      "Hello, Ravi\n",
      "35\n"
     ]
    }
   ],
   "source": [
    "import mymodule\n",
    "mymodule.greeting(\"Ravi\")\n",
    "mymodule.sum(23,12)"
   ]
  },
  {
   "cell_type": "code",
   "execution_count": 4,
   "metadata": {},
   "outputs": [
    {
     "name": "stdout",
     "output_type": "stream",
     "text": [
      "Hello, Mohan\n",
      "32\n"
     ]
    }
   ],
   "source": [
    "import mymodule as my # standard notation to access any module in python\n",
    "my.greeting(\"Mohan\")\n",
    "my.sum(20,12)"
   ]
  },
  {
   "cell_type": "code",
   "execution_count": 5,
   "metadata": {},
   "outputs": [
    {
     "name": "stdout",
     "output_type": "stream",
     "text": [
      "Hello, Alok\n",
      "30\n"
     ]
    }
   ],
   "source": [
    "from mymodule import *\n",
    "greeting(\"Alok\")\n",
    "sum(10,20)"
   ]
  },
  {
   "cell_type": "code",
   "execution_count": 6,
   "metadata": {},
   "outputs": [
    {
     "name": "stdout",
     "output_type": "stream",
     "text": [
      "Hello, Alok\n",
      "30\n"
     ]
    }
   ],
   "source": [
    "from mymodule import *\n",
    "greeting(\"Alok\")\n",
    "sum(10,20)"
   ]
  },
  {
   "cell_type": "code",
   "execution_count": 7,
   "metadata": {},
   "outputs": [
    {
     "name": "stdout",
     "output_type": "stream",
     "text": [
      "[10 20 30]\n"
     ]
    }
   ],
   "source": [
    "#NUMPY Array\n",
    "import numpy as np\n",
    "a=np.array([10,20,30])\n",
    "print(a)"
   ]
  },
  {
   "cell_type": "code",
   "execution_count": 8,
   "metadata": {},
   "outputs": [
    {
     "name": "stdout",
     "output_type": "stream",
     "text": [
      "int32\n"
     ]
    }
   ],
   "source": [
    "print(a.dtype)"
   ]
  },
  {
   "cell_type": "code",
   "execution_count": 10,
   "metadata": {},
   "outputs": [
    {
     "name": "stdout",
     "output_type": "stream",
     "text": [
      "(3,)\n"
     ]
    }
   ],
   "source": [
    "print(a.shape)"
   ]
  },
  {
   "cell_type": "code",
   "execution_count": 11,
   "metadata": {},
   "outputs": [
    {
     "name": "stdout",
     "output_type": "stream",
     "text": [
      "3\n"
     ]
    }
   ],
   "source": [
    "print(a.size)"
   ]
  },
  {
   "cell_type": "code",
   "execution_count": 13,
   "metadata": {},
   "outputs": [
    {
     "name": "stdout",
     "output_type": "stream",
     "text": [
      "[[1 2]\n",
      " [3 4]\n",
      " [5 6]]\n"
     ]
    }
   ],
   "source": [
    "b=np.array([[1,2],[3,4],[5,6]])\n",
    "print(b)"
   ]
  },
  {
   "cell_type": "code",
   "execution_count": 14,
   "metadata": {},
   "outputs": [
    {
     "name": "stdout",
     "output_type": "stream",
     "text": [
      "(3, 2)\n"
     ]
    }
   ],
   "source": [
    "print(b.shape)"
   ]
  },
  {
   "cell_type": "code",
   "execution_count": 15,
   "metadata": {},
   "outputs": [
    {
     "name": "stdout",
     "output_type": "stream",
     "text": [
      "6\n"
     ]
    }
   ],
   "source": [
    "print(b.size)"
   ]
  },
  {
   "cell_type": "code",
   "execution_count": 16,
   "metadata": {},
   "outputs": [
    {
     "name": "stdout",
     "output_type": "stream",
     "text": [
      "[[1 2 3]\n",
      " [4 5 6]]\n"
     ]
    }
   ],
   "source": [
    "b=b.reshape(2,3)\n",
    "print(b)"
   ]
  },
  {
   "cell_type": "code",
   "execution_count": 21,
   "metadata": {},
   "outputs": [
    {
     "name": "stdout",
     "output_type": "stream",
     "text": [
      "[[10 20]\n",
      " [30 40]\n",
      " [50 60]]\n",
      "50\n"
     ]
    }
   ],
   "source": [
    "#Slicing\n",
    "b=np.array([[10,20],[30,40],[50,60]])\n",
    "print(b)\n",
    "print(b[2,0])"
   ]
  },
  {
   "cell_type": "code",
   "execution_count": 23,
   "metadata": {},
   "outputs": [
    {
     "name": "stdout",
     "output_type": "stream",
     "text": [
      "60\n",
      "10\n",
      "210\n"
     ]
    }
   ],
   "source": [
    "#min,max,sum\n",
    "b=np.array([[10,20],[30,40],[50,60]])\n",
    "print(b.max())\n",
    "print(b.min())\n",
    "print(b.sum())"
   ]
  },
  {
   "cell_type": "code",
   "execution_count": 27,
   "metadata": {},
   "outputs": [
    {
     "name": "stdout",
     "output_type": "stream",
     "text": [
      "[[10 20]\n",
      " [30 40]\n",
      " [50 60]]\n",
      "60\n",
      "[50 60]\n",
      "[20 40 60]\n"
     ]
    }
   ],
   "source": [
    "#min,max,sum axis\n",
    "b=np.array([[10,20],[30,40],[50,60]])\n",
    "print(b)\n",
    "print(b.max())\n",
    "print(b.max(axis=0))\n",
    "print(b.max(axis=1))\n"
   ]
  },
  {
   "cell_type": "code",
   "execution_count": 28,
   "metadata": {},
   "outputs": [
    {
     "name": "stdout",
     "output_type": "stream",
     "text": [
      "17.07825127659933\n"
     ]
    }
   ],
   "source": [
    "print(np.std(b))"
   ]
  },
  {
   "cell_type": "code",
   "execution_count": 29,
   "metadata": {},
   "outputs": [
    {
     "name": "stdout",
     "output_type": "stream",
     "text": [
      "[[11 22 60]\n",
      " [50 65 64]]\n"
     ]
    }
   ],
   "source": [
    "a=np.array([[1,2,30],[10,15,4]])\n",
    "b=np.array([[10,20,30],[40,50,60]])\n",
    "print(a+b)"
   ]
  },
  {
   "cell_type": "code",
   "execution_count": 31,
   "metadata": {},
   "outputs": [
    {
     "name": "stdout",
     "output_type": "stream",
     "text": [
      "[[ 1  2]\n",
      " [30 10]\n",
      " [15  4]]\n"
     ]
    }
   ],
   "source": [
    "arr=np.empty((3,2),dtype=int)\n",
    "print(arr)"
   ]
  },
  {
   "cell_type": "code",
   "execution_count": 32,
   "metadata": {},
   "outputs": [
    {
     "name": "stdout",
     "output_type": "stream",
     "text": [
      "[[0 0]\n",
      " [0 0]\n",
      " [0 0]]\n"
     ]
    }
   ],
   "source": [
    "arr=np.zeros((3,2),dtype=int)\n",
    "print(arr)"
   ]
  },
  {
   "cell_type": "code",
   "execution_count": 35,
   "metadata": {},
   "outputs": [
    {
     "name": "stdout",
     "output_type": "stream",
     "text": [
      "[[1 1 1]\n",
      " [1 1 1]\n",
      " [1 1 1]\n",
      " [1 1 1]]\n"
     ]
    }
   ],
   "source": [
    "arr=np.ones((4,3),dtype=int)\n",
    "print(arr)"
   ]
  },
  {
   "cell_type": "code",
   "execution_count": 36,
   "metadata": {},
   "outputs": [
    {
     "name": "stdout",
     "output_type": "stream",
     "text": [
      "<class 'numpy.ndarray'>\n",
      "[1 2 3 4 5 6 7]\n"
     ]
    }
   ],
   "source": [
    "#converting tuple into array\n",
    "i=(1,2,3,4,5,6,7)\n",
    "a=np.asarray(i)\n",
    "print(type(a))\n",
    "print(a)"
   ]
  },
  {
   "cell_type": "code",
   "execution_count": 37,
   "metadata": {},
   "outputs": [
    {
     "name": "stdout",
     "output_type": "stream",
     "text": [
      "<class 'numpy.ndarray'>\n",
      "{'name': 'Ravi', 'City': 'Lucknow', 'College': 'BBD'}\n"
     ]
    }
   ],
   "source": [
    "thisdict={\"name\":\"Ravi\", \"City\":\"Lucknow\",\"College\":\"BBD\"}\n",
    "a=np.asarray(thisdict)\n",
    "print(type(a))\n",
    "print(a)"
   ]
  },
  {
   "cell_type": "code",
   "execution_count": 40,
   "metadata": {},
   "outputs": [
    {
     "name": "stdout",
     "output_type": "stream",
     "text": [
      "[2 5 8]\n"
     ]
    }
   ],
   "source": [
    "#arange(start,stop,step)\n",
    "a=np.arange(2,10,3)\n",
    "print(a)"
   ]
  },
  {
   "cell_type": "code",
   "execution_count": 44,
   "metadata": {},
   "outputs": [
    {
     "name": "stdout",
     "output_type": "stream",
     "text": [
      "[[ 1  2 30]\n",
      " [10 15  4]\n",
      " [50 40 90]]\n",
      "1\n",
      "2\n",
      "30\n",
      "10\n",
      "15\n",
      "4\n",
      "50\n",
      "40\n",
      "90\n",
      "242\n"
     ]
    }
   ],
   "source": [
    "a=np.array([[1,2,30],[10,15,4],[50,40,90]])\n",
    "print(a)\n",
    "sum=0\n",
    "for x in np.nditer(a):\n",
    "    print(x)\n",
    "    sum=sum+x\n",
    "    \n",
    "print(sum)"
   ]
  },
  {
   "cell_type": "code",
   "execution_count": 48,
   "metadata": {},
   "outputs": [
    {
     "name": "stdout",
     "output_type": "stream",
     "text": [
      "[[ 1  2 30]\n",
      " [10 15  4]\n",
      " [50 40 90]]\n",
      "1\n",
      "2\n",
      "30\n",
      "10\n",
      "15\n",
      "4\n",
      "50\n",
      "40\n",
      "90\n"
     ]
    }
   ],
   "source": [
    "# Readind data column wise using order as F\n",
    "a=np.array([[1,2,30],[10,15,4],[50,40,90]])\n",
    "print(a)\n",
    "for x in np.nditer(a,order='F'):\n",
    "    print(x)"
   ]
  },
  {
   "cell_type": "code",
   "execution_count": 49,
   "metadata": {},
   "outputs": [
    {
     "name": "stdout",
     "output_type": "stream",
     "text": [
      "[[ 1.23  2.68 30.46]\n",
      " [10.32 15.45  4.  ]\n",
      " [50.   40.   90.  ]]\n"
     ]
    }
   ],
   "source": [
    "a=np.array([[1.234,2.678,30.456],[10.321,15.45,4],[50,40,90]])\n",
    "print(np.around(a,2))"
   ]
  },
  {
   "cell_type": "code",
   "execution_count": 50,
   "metadata": {},
   "outputs": [
    {
     "name": "stdout",
     "output_type": "stream",
     "text": [
      "[[ 1  2 30]\n",
      " [ 4 10 15]\n",
      " [40 50 90]]\n"
     ]
    }
   ],
   "source": [
    "#Sorting Row wise\n",
    "a=np.array([[1,2,30],[10,15,4],[50,40,90]])\n",
    "print(np.sort(a))"
   ]
  },
  {
   "cell_type": "code",
   "execution_count": 52,
   "metadata": {},
   "outputs": [
    {
     "name": "stdout",
     "output_type": "stream",
     "text": [
      "[[ 1  2 30]\n",
      " [10 15  4]\n",
      " [50 40 90]]\n",
      "[[ 1  2  4]\n",
      " [10 15 30]\n",
      " [50 40 90]]\n"
     ]
    }
   ],
   "source": [
    "#Sorting Column Wise\n",
    "a=np.array([[1,2,30],[10,15,4],[50,40,90]])\n",
    "print(a)\n",
    "print(np.sort(a,0))"
   ]
  },
  {
   "cell_type": "code",
   "execution_count": 53,
   "metadata": {},
   "outputs": [
    {
     "name": "stdout",
     "output_type": "stream",
     "text": [
      "[  2 900  20]\n"
     ]
    }
   ],
   "source": [
    "ap = np.array([2,45,20])  \n",
    "ar=ap\n",
    "ar[1]=900\n",
    "print(ap)\t# will display 2, 900,20\n",
    "\n"
   ]
  },
  {
   "cell_type": "code",
   "execution_count": null,
   "metadata": {},
   "outputs": [],
   "source": []
  }
 ],
 "metadata": {
  "kernelspec": {
   "display_name": "Python 3",
   "language": "python",
   "name": "python3"
  },
  "language_info": {
   "codemirror_mode": {
    "name": "ipython",
    "version": 3
   },
   "file_extension": ".py",
   "mimetype": "text/x-python",
   "name": "python",
   "nbconvert_exporter": "python",
   "pygments_lexer": "ipython3",
   "version": "3.7.3"
  }
 },
 "nbformat": 4,
 "nbformat_minor": 2
}
