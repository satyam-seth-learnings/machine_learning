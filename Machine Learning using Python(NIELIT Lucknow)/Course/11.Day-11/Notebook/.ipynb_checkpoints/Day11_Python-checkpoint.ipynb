{
 "cells": [
  {
   "cell_type": "code",
   "execution_count": 14,
   "metadata": {},
   "outputs": [
    {
     "name": "stdout",
     "output_type": "stream",
     "text": [
      "     Name  Marks  Age\n",
      "0    Ravi   70.0   21\n",
      "1   Mohan   78.0   23\n",
      "2   Shyam   80.0   22\n",
      "3     Icy    NaN   21\n",
      "4  Saumya   90.0   20\n"
     ]
    }
   ],
   "source": [
    "import pandas as pd\n",
    "df=pd.read_csv(\"D:\\\\Big Data Analytics\\\\Online\\\\test.csv\")\n",
    "print(df)"
   ]
  },
  {
   "cell_type": "code",
   "execution_count": 4,
   "metadata": {},
   "outputs": [
    {
     "name": "stdout",
     "output_type": "stream",
     "text": [
      "<class 'pandas.core.frame.DataFrame'>\n",
      "RangeIndex: 5 entries, 0 to 4\n",
      "Data columns (total 3 columns):\n",
      "Name     5 non-null object\n",
      "Marks    4 non-null float64\n",
      "Age      5 non-null int64\n",
      "dtypes: float64(1), int64(1), object(1)\n",
      "memory usage: 200.0+ bytes\n"
     ]
    }
   ],
   "source": [
    "df.info()"
   ]
  },
  {
   "cell_type": "code",
   "execution_count": 15,
   "metadata": {},
   "outputs": [
    {
     "name": "stdout",
     "output_type": "stream",
     "text": [
      "     Name  Marks  Age\n",
      "0    Ravi   70.0   21\n",
      "1   Mohan   78.0   23\n",
      "2   Shyam   80.0   22\n",
      "3     Icy    NaN   21\n",
      "4  Saumya   90.0   20\n",
      "0   Vivek   65.0   23\n",
      "1  Akriti   45.0   21\n"
     ]
    }
   ],
   "source": [
    "#Addition of Rows data\n",
    "df1=pd.DataFrame([['Vivek',65,23],['Akriti',45,21]],columns=['Name','Marks','Age'])\n",
    "df=df.append(df1)\n",
    "print(df)"
   ]
  },
  {
   "cell_type": "code",
   "execution_count": 16,
   "metadata": {},
   "outputs": [
    {
     "name": "stdout",
     "output_type": "stream",
     "text": [
      "     Name  Marks  Age\n",
      "1   Mohan   78.0   23\n",
      "2   Shyam   80.0   22\n",
      "3     Icy    NaN   21\n",
      "4  Saumya   90.0   20\n",
      "1  Akriti   45.0   21\n"
     ]
    }
   ],
   "source": [
    "#Delete Rows\n",
    "df.drop(0,inplace=True)\n",
    "print(df)"
   ]
  },
  {
   "cell_type": "code",
   "execution_count": 17,
   "metadata": {},
   "outputs": [
    {
     "name": "stdout",
     "output_type": "stream",
     "text": [
      "     Name  Marks  Age  Unit\n",
      "1   Mohan   78.0   23    50\n",
      "2   Shyam   80.0   22    80\n",
      "3     Icy    NaN   21    55\n",
      "4  Saumya   90.0   20    90\n",
      "1  Akriti   45.0   21    50\n"
     ]
    }
   ],
   "source": [
    "#Add Column\n",
    "df['Unit']=pd.Series([20,50,80,55,90])\n",
    "print(df)"
   ]
  },
  {
   "cell_type": "code",
   "execution_count": 22,
   "metadata": {},
   "outputs": [
    {
     "name": "stdout",
     "output_type": "stream",
     "text": [
      "     Name  Marks  Age  Unit\n",
      "1   Mohan   78.0   23    50\n",
      "4  Saumya   90.0   20    90\n",
      "1  Akriti   45.0   21    50\n",
      "     Name  Marks  Age  Unit\n",
      "1   Mohan   78.0   23    50\n",
      "3     Icy    NaN   21    55\n",
      "4  Saumya   90.0   20    90\n",
      "1  Akriti   45.0   21    50\n"
     ]
    }
   ],
   "source": [
    "#Delete Rows with inplace explanation\n",
    "df3=df.drop(3,inplace=False)\n",
    "print(df3)\n",
    "print(df)"
   ]
  },
  {
   "cell_type": "code",
   "execution_count": 25,
   "metadata": {},
   "outputs": [
    {
     "name": "stdout",
     "output_type": "stream",
     "text": [
      "     Name  Marks  Age\n",
      "0    Ravi   70.0   21\n",
      "1   Mohan   78.0   23\n",
      "2   Shyam   80.0   22\n",
      "3     Icy    NaN   21\n",
      "4  Saumya   90.0   20\n"
     ]
    }
   ],
   "source": [
    "df=pd.read_csv(\"D:\\\\Big Data Analytics\\\\Online\\\\test.csv\")\n",
    "print(df)"
   ]
  },
  {
   "cell_type": "code",
   "execution_count": 26,
   "metadata": {},
   "outputs": [
    {
     "name": "stdout",
     "output_type": "stream",
     "text": [
      "     Name  Marks     City  Age\n",
      "0    Ravi   70.0  Lucknow   21\n",
      "1   Mohan   78.0   Mumbai   23\n",
      "2   Shyam   80.0    Delhi   22\n",
      "3     Icy    NaN  Lucknow   21\n",
      "4  Saumya   90.0  Lucknow   20\n"
     ]
    }
   ],
   "source": [
    "#Insert Column in Data Frame\n",
    "new_data=['Lucknow','Mumbai','Delhi','Lucknow','Lucknow']\n",
    "df.insert(2,column='City',value=new_data)\n",
    "print(df)"
   ]
  },
  {
   "cell_type": "code",
   "execution_count": 27,
   "metadata": {},
   "outputs": [
    {
     "name": "stdout",
     "output_type": "stream",
     "text": [
      "     Name  Marks  Age\n",
      "0    Ravi   70.0   21\n",
      "1   Mohan   78.0   23\n",
      "2   Shyam   80.0   22\n",
      "3     Icy    NaN   21\n",
      "4  Saumya   90.0   20\n"
     ]
    }
   ],
   "source": [
    "#Delete a Column\n",
    "del df['City']\n",
    "print(df)"
   ]
  },
  {
   "cell_type": "code",
   "execution_count": 37,
   "metadata": {},
   "outputs": [
    {
     "name": "stdout",
     "output_type": "stream",
     "text": [
      "     Name    Marks      Age\n",
      "0    Ravi       70        ?\n",
      "1   Mohan  Missing       23\n",
      "2   Shyam       80  Missing\n",
      "3     Icy  Missing       21\n",
      "4  Saumya       90       20\n",
      "<class 'pandas.core.frame.DataFrame'>\n",
      "RangeIndex: 5 entries, 0 to 4\n",
      "Data columns (total 3 columns):\n",
      "Name     5 non-null object\n",
      "Marks    5 non-null object\n",
      "Age      5 non-null object\n",
      "dtypes: object(3)\n",
      "memory usage: 200.0+ bytes\n"
     ]
    }
   ],
   "source": [
    "df=pd.read_csv(\"D:\\\\Big Data Analytics\\\\Online\\\\test.csv\")\n",
    "print(df)\n",
    "df.info()"
   ]
  },
  {
   "cell_type": "code",
   "execution_count": 63,
   "metadata": {},
   "outputs": [
    {
     "name": "stdout",
     "output_type": "stream",
     "text": [
      "     Name  Marks   Age     City\n",
      "0    Ravi   70.0   NaN  Lucknow\n",
      "1   Mohan    NaN  23.0    Delhi\n",
      "2   Shyam   80.0   NaN      NaN\n",
      "3     Icy    NaN  21.0      NaN\n",
      "4  Saumya   90.0  20.0  Lucknow\n",
      "<class 'pandas.core.frame.DataFrame'>\n",
      "RangeIndex: 5 entries, 0 to 4\n",
      "Data columns (total 4 columns):\n",
      "Name     5 non-null object\n",
      "Marks    3 non-null float64\n",
      "Age      3 non-null float64\n",
      "City     3 non-null object\n",
      "dtypes: float64(2), object(2)\n",
      "memory usage: 240.0+ bytes\n"
     ]
    }
   ],
   "source": [
    "df=pd.read_csv(\"D:\\\\Big Data Analytics\\\\Online\\\\test.csv\",na_values=['Missing','?'])\n",
    "print(df)\n",
    "df.info()"
   ]
  },
  {
   "cell_type": "code",
   "execution_count": 43,
   "metadata": {},
   "outputs": [
    {
     "name": "stdout",
     "output_type": "stream",
     "text": [
      "    Name  Marks    Age\n",
      "0  False  False   True\n",
      "1  False   True  False\n",
      "2  False  False   True\n",
      "3  False   True  False\n",
      "4  False  False  False\n"
     ]
    }
   ],
   "source": [
    "#Checking missing values\n",
    "\n",
    "print(df.isnull())\n"
   ]
  },
  {
   "cell_type": "code",
   "execution_count": 44,
   "metadata": {},
   "outputs": [
    {
     "name": "stdout",
     "output_type": "stream",
     "text": [
      "0    False\n",
      "1     True\n",
      "2    False\n",
      "3     True\n",
      "4    False\n",
      "Name: Marks, dtype: bool\n"
     ]
    }
   ],
   "source": [
    "print(df['Marks'].isnull())"
   ]
  },
  {
   "cell_type": "code",
   "execution_count": 46,
   "metadata": {},
   "outputs": [
    {
     "name": "stdout",
     "output_type": "stream",
     "text": [
      "2\n"
     ]
    }
   ],
   "source": [
    "#Counting Null Values for any column\n",
    "a=df['Marks'].isnull()\n",
    "count=a.sum()\n",
    "print(count)"
   ]
  },
  {
   "cell_type": "code",
   "execution_count": 48,
   "metadata": {},
   "outputs": [
    {
     "name": "stdout",
     "output_type": "stream",
     "text": [
      "2\n"
     ]
    }
   ],
   "source": [
    "print(df['Age'].isnull().sum())"
   ]
  },
  {
   "cell_type": "code",
   "execution_count": 49,
   "metadata": {},
   "outputs": [
    {
     "name": "stdout",
     "output_type": "stream",
     "text": [
      "0\n"
     ]
    }
   ],
   "source": [
    "print(df['Name'].isnull().sum())"
   ]
  },
  {
   "cell_type": "code",
   "execution_count": 53,
   "metadata": {},
   "outputs": [
    {
     "name": "stdout",
     "output_type": "stream",
     "text": [
      "     Name  Marks   Age\n",
      "4  Saumya   90.0  20.0\n"
     ]
    }
   ],
   "source": [
    "#Handling Null Values\n",
    "\n",
    "#Drop all rows which contain null values\n",
    "\n",
    "df.dropna(inplace=True)\n",
    "print(df)"
   ]
  },
  {
   "cell_type": "code",
   "execution_count": 55,
   "metadata": {},
   "outputs": [
    {
     "name": "stdout",
     "output_type": "stream",
     "text": [
      "     Name  Marks   Age\n",
      "0    Ravi   70.0   NaN\n",
      "1   Mohan    NaN  23.0\n",
      "2   Shyam   80.0   NaN\n",
      "3     Icy    NaN  21.0\n",
      "4  Saumya   90.0  20.0\n"
     ]
    }
   ],
   "source": [
    "print(df)"
   ]
  },
  {
   "cell_type": "code",
   "execution_count": 56,
   "metadata": {},
   "outputs": [
    {
     "name": "stdout",
     "output_type": "stream",
     "text": [
      "     Name\n",
      "0    Ravi\n",
      "1   Mohan\n",
      "2   Shyam\n",
      "3     Icy\n",
      "4  Saumya\n"
     ]
    }
   ],
   "source": [
    "df.dropna(axis=1,inplace=True)\n",
    "print(df)"
   ]
  },
  {
   "cell_type": "code",
   "execution_count": 64,
   "metadata": {},
   "outputs": [
    {
     "name": "stdout",
     "output_type": "stream",
     "text": [
      "     Name  Marks   Age     City\n",
      "0    Ravi   70.0   NaN  Lucknow\n",
      "1   Mohan   80.0  23.0    Delhi\n",
      "2   Shyam   80.0   NaN      NaN\n",
      "3     Icy   80.0  21.0      NaN\n",
      "4  Saumya   90.0  20.0  Lucknow\n"
     ]
    }
   ],
   "source": [
    "#for Numerical columns: how to handle Null Values\n",
    "#find the mean of column and replace null value with this mean\n",
    "\n",
    "m=df['Marks'].mean()\n",
    "\n",
    "df['Marks'].fillna(m,inplace=True)\n",
    "\n",
    "print(df)\n"
   ]
  },
  {
   "cell_type": "code",
   "execution_count": 65,
   "metadata": {},
   "outputs": [
    {
     "name": "stdout",
     "output_type": "stream",
     "text": [
      "     Name  Marks        Age     City\n",
      "0    Ravi   70.0  21.333333  Lucknow\n",
      "1   Mohan   80.0  23.000000    Delhi\n",
      "2   Shyam   80.0  21.333333      NaN\n",
      "3     Icy   80.0  21.000000      NaN\n",
      "4  Saumya   90.0  20.000000  Lucknow\n"
     ]
    }
   ],
   "source": [
    "m=df['Age'].mean()\n",
    "\n",
    "df['Age'].fillna(m,inplace=True)\n",
    "\n",
    "print(df)"
   ]
  },
  {
   "cell_type": "code",
   "execution_count": 67,
   "metadata": {},
   "outputs": [
    {
     "name": "stdout",
     "output_type": "stream",
     "text": [
      "     Name  Marks        Age     City\n",
      "0    Ravi   70.0  21.333333  Lucknow\n",
      "1   Mohan   80.0  23.000000    Delhi\n",
      "2   Shyam   80.0  21.333333  Lucknow\n",
      "3     Icy   80.0  21.000000  Lucknow\n",
      "4  Saumya   90.0  20.000000  Lucknow\n"
     ]
    }
   ],
   "source": [
    "#For Categorical values: Count the occurrence/frequency of each value\n",
    "\n",
    "df['City'].value_counts()\n",
    "df['City'].fillna(\"Lucknow\",inplace=True)\n",
    "print(df)"
   ]
  },
  {
   "cell_type": "code",
   "execution_count": 68,
   "metadata": {},
   "outputs": [
    {
     "data": {
      "text/html": [
       "<div>\n",
       "<style scoped>\n",
       "    .dataframe tbody tr th:only-of-type {\n",
       "        vertical-align: middle;\n",
       "    }\n",
       "\n",
       "    .dataframe tbody tr th {\n",
       "        vertical-align: top;\n",
       "    }\n",
       "\n",
       "    .dataframe thead th {\n",
       "        text-align: right;\n",
       "    }\n",
       "</style>\n",
       "<table border=\"1\" class=\"dataframe\">\n",
       "  <thead>\n",
       "    <tr style=\"text-align: right;\">\n",
       "      <th></th>\n",
       "      <th>Marks</th>\n",
       "      <th>Age</th>\n",
       "    </tr>\n",
       "  </thead>\n",
       "  <tbody>\n",
       "    <tr>\n",
       "      <th>count</th>\n",
       "      <td>5.000000</td>\n",
       "      <td>5.000000</td>\n",
       "    </tr>\n",
       "    <tr>\n",
       "      <th>mean</th>\n",
       "      <td>80.000000</td>\n",
       "      <td>21.333333</td>\n",
       "    </tr>\n",
       "    <tr>\n",
       "      <th>std</th>\n",
       "      <td>7.071068</td>\n",
       "      <td>1.080123</td>\n",
       "    </tr>\n",
       "    <tr>\n",
       "      <th>min</th>\n",
       "      <td>70.000000</td>\n",
       "      <td>20.000000</td>\n",
       "    </tr>\n",
       "    <tr>\n",
       "      <th>25%</th>\n",
       "      <td>80.000000</td>\n",
       "      <td>21.000000</td>\n",
       "    </tr>\n",
       "    <tr>\n",
       "      <th>50%</th>\n",
       "      <td>80.000000</td>\n",
       "      <td>21.333333</td>\n",
       "    </tr>\n",
       "    <tr>\n",
       "      <th>75%</th>\n",
       "      <td>80.000000</td>\n",
       "      <td>21.333333</td>\n",
       "    </tr>\n",
       "    <tr>\n",
       "      <th>max</th>\n",
       "      <td>90.000000</td>\n",
       "      <td>23.000000</td>\n",
       "    </tr>\n",
       "  </tbody>\n",
       "</table>\n",
       "</div>"
      ],
      "text/plain": [
       "           Marks        Age\n",
       "count   5.000000   5.000000\n",
       "mean   80.000000  21.333333\n",
       "std     7.071068   1.080123\n",
       "min    70.000000  20.000000\n",
       "25%    80.000000  21.000000\n",
       "50%    80.000000  21.333333\n",
       "75%    80.000000  21.333333\n",
       "max    90.000000  23.000000"
      ]
     },
     "execution_count": 68,
     "metadata": {},
     "output_type": "execute_result"
    }
   ],
   "source": [
    "df.describe()"
   ]
  },
  {
   "cell_type": "code",
   "execution_count": 70,
   "metadata": {},
   "outputs": [
    {
     "name": "stdout",
     "output_type": "stream",
     "text": [
      "80.0\n"
     ]
    }
   ],
   "source": [
    "print(df['Marks'][2])"
   ]
  },
  {
   "cell_type": "code",
   "execution_count": 71,
   "metadata": {},
   "outputs": [
    {
     "name": "stdout",
     "output_type": "stream",
     "text": [
      "   Name  Marks        Age     City\n",
      "0  Ravi   70.0  21.333333  Lucknow\n"
     ]
    }
   ],
   "source": [
    "#Accessing Rows using loc : similar to Database select operation\n",
    "#Provide Condition in Square Bracket\n",
    "\n",
    "a=df.loc[df['Name']=='Ravi']\n",
    "print(a)"
   ]
  },
  {
   "cell_type": "code",
   "execution_count": 72,
   "metadata": {},
   "outputs": [
    {
     "name": "stdout",
     "output_type": "stream",
     "text": [
      "     Name  Marks        Age     City\n",
      "0    Ravi   70.0  21.333333  Lucknow\n",
      "2   Shyam   80.0  21.333333  Lucknow\n",
      "3     Icy   80.0  21.000000  Lucknow\n",
      "4  Saumya   90.0  20.000000  Lucknow\n"
     ]
    }
   ],
   "source": [
    "a=df.loc[df['City']=='Lucknow']\n",
    "print(a)"
   ]
  },
  {
   "cell_type": "code",
   "execution_count": 73,
   "metadata": {},
   "outputs": [
    {
     "name": "stdout",
     "output_type": "stream",
     "text": [
      "    Name  Marks   Age   City\n",
      "1  Mohan   80.0  23.0  Delhi\n"
     ]
    }
   ],
   "source": [
    "a=df.loc[df['Age']>22]\n",
    "print(a)"
   ]
  },
  {
   "cell_type": "code",
   "execution_count": 74,
   "metadata": {},
   "outputs": [
    {
     "name": "stdout",
     "output_type": "stream",
     "text": [
      "     Name  Marks        Age     City\n",
      "0    Ravi   70.0  21.333333  Lucknow\n",
      "2   Shyam   80.0  21.333333  Lucknow\n",
      "3     Icy   80.0  21.000000  Lucknow\n",
      "4  Saumya   90.0  20.000000  Lucknow\n"
     ]
    }
   ],
   "source": [
    "a=df.loc[df['Age']<22]\n",
    "print(a)"
   ]
  },
  {
   "cell_type": "code",
   "execution_count": 75,
   "metadata": {},
   "outputs": [
    {
     "name": "stdout",
     "output_type": "stream",
     "text": [
      "0    Lucknow\n",
      "1      Delhi\n",
      "2    Lucknow\n",
      "3    Lucknow\n",
      "4    Lucknow\n",
      "Name: City, dtype: object\n"
     ]
    }
   ],
   "source": [
    "#Using iloc.......Multiple Rows can be accessed using index\n",
    "# df.iloc[Row_Numbers, Column_Numbers]\n",
    "# start:end or exact index is the way to define Row_Numbers, Column_Numbers\n",
    "# if you write only : , then it means all.....\n",
    "\n",
    "print(df.iloc[:,3])"
   ]
  },
  {
   "cell_type": "code",
   "execution_count": 76,
   "metadata": {},
   "outputs": [
    {
     "name": "stdout",
     "output_type": "stream",
     "text": [
      "0    Lucknow\n",
      "1      Delhi\n",
      "Name: City, dtype: object\n"
     ]
    }
   ],
   "source": [
    "print(df.iloc[:2,3])"
   ]
  },
  {
   "cell_type": "code",
   "execution_count": 77,
   "metadata": {},
   "outputs": [
    {
     "name": "stdout",
     "output_type": "stream",
     "text": [
      "2    Lucknow\n",
      "3    Lucknow\n",
      "4    Lucknow\n",
      "Name: City, dtype: object\n"
     ]
    }
   ],
   "source": [
    "print(df.iloc[2:,3])"
   ]
  },
  {
   "cell_type": "code",
   "execution_count": 78,
   "metadata": {},
   "outputs": [
    {
     "name": "stdout",
     "output_type": "stream",
     "text": [
      "         Age     City\n",
      "2  21.333333  Lucknow\n",
      "3  21.000000  Lucknow\n",
      "4  20.000000  Lucknow\n"
     ]
    }
   ],
   "source": [
    "print(df.iloc[2:,2:])"
   ]
  },
  {
   "cell_type": "code",
   "execution_count": 79,
   "metadata": {},
   "outputs": [
    {
     "name": "stdout",
     "output_type": "stream",
     "text": [
      "21.333333333333332\n"
     ]
    }
   ],
   "source": [
    "print(df.iloc[2,2])"
   ]
  },
  {
   "cell_type": "code",
   "execution_count": 80,
   "metadata": {},
   "outputs": [
    {
     "name": "stdout",
     "output_type": "stream",
     "text": [
      "     Name  Marks        Age     City\n",
      "0    Ravi   70.0  21.333333  Lucknow\n",
      "1   Mohan   80.0  23.000000    Delhi\n",
      "2   Shyam   80.0  21.333333  Lucknow\n",
      "3     Icy   80.0  21.000000  Lucknow\n",
      "4  Saumya   90.0  20.000000  Lucknow\n"
     ]
    }
   ],
   "source": [
    "print(df)"
   ]
  },
  {
   "cell_type": "code",
   "execution_count": 81,
   "metadata": {},
   "outputs": [],
   "source": [
    "df['Name_City']=df['Name']+df['City']"
   ]
  },
  {
   "cell_type": "code",
   "execution_count": 82,
   "metadata": {},
   "outputs": [
    {
     "name": "stdout",
     "output_type": "stream",
     "text": [
      "     Name  Marks        Age     City      Name_City\n",
      "0    Ravi   70.0  21.333333  Lucknow    RaviLucknow\n",
      "1   Mohan   80.0  23.000000    Delhi     MohanDelhi\n",
      "2   Shyam   80.0  21.333333  Lucknow   ShyamLucknow\n",
      "3     Icy   80.0  21.000000  Lucknow     IcyLucknow\n",
      "4  Saumya   90.0  20.000000  Lucknow  SaumyaLucknow\n"
     ]
    }
   ],
   "source": [
    "print(df)"
   ]
  },
  {
   "cell_type": "code",
   "execution_count": null,
   "metadata": {},
   "outputs": [],
   "source": []
  }
 ],
 "metadata": {
  "kernelspec": {
   "display_name": "Python 3",
   "language": "python",
   "name": "python3"
  },
  "language_info": {
   "codemirror_mode": {
    "name": "ipython",
    "version": 3
   },
   "file_extension": ".py",
   "mimetype": "text/x-python",
   "name": "python",
   "nbconvert_exporter": "python",
   "pygments_lexer": "ipython3",
   "version": "3.7.0"
  }
 },
 "nbformat": 4,
 "nbformat_minor": 2
}
