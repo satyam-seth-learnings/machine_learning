{
 "cells": [
  {
   "cell_type": "code",
   "execution_count": null,
   "metadata": {},
   "outputs": [],
   "source": [
    "class mynumber:\n",
    "    n=0\n",
    "    \n",
    "    def __init__(s,n):\n",
    "        s.n=n\n",
    "    \n",
    "    def iseven(s):\n",
    "        if(s.n%2==0):\n",
    "            return 1\n",
    "        else:\n",
    "            return 0\n",
    "    \n",
    "    def factorial(s):\n",
    "        p=1\n",
    "        for i in range(1,s.n+1):\n",
    "            p=p*i\n",
    "        return p\n",
    "\n",
    "    def isprime(s):\n",
    "        for i in range(2,s.n):\n",
    "            if(s.n%i==0):\n",
    "                return False\n",
    "                break\n",
    "        else:\n",
    "            return True\n"
   ]
  },
  {
   "cell_type": "code",
   "execution_count": null,
   "metadata": {},
   "outputs": [],
   "source": []
  }
 ],
 "metadata": {
  "kernelspec": {
   "display_name": "Python 3",
   "language": "python",
   "name": "python3"
  },
  "language_info": {
   "codemirror_mode": {
    "name": "ipython",
    "version": 3
   },
   "file_extension": ".py",
   "mimetype": "text/x-python",
   "name": "python",
   "nbconvert_exporter": "python",
   "pygments_lexer": "ipython3",
   "version": "3.7.3"
  }
 },
 "nbformat": 4,
 "nbformat_minor": 2
}
