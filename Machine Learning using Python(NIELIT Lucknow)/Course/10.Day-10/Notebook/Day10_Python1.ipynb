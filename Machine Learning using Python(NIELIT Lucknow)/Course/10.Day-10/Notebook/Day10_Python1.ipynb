{
 "cells": [
  {
   "cell_type": "code",
   "execution_count": null,
   "metadata": {},
   "outputs": [],
   "source": [
    "#Write a Program to check whether a number is even or odd\n",
    "def iseven(number):\n",
    "    if(number%2==0):\n",
    "        return 1\n",
    "    else:\n",
    "        return 0\n",
    "    \n",
    "n=int(input(\"Enter a Number:\"))\n",
    "a=iseven(n)\n",
    "print(a)"
   ]
  },
  {
   "cell_type": "code",
   "execution_count": null,
   "metadata": {},
   "outputs": [],
   "source": [
    "#Write a program which adds only even numbers of list \n",
    "#by using above function which finds even numbers\n",
    "\n",
    "l=[12,13,14,15,16,17]  #Output: 12+14+16=42\n",
    "sum=0\n",
    "for i in l:\n",
    "    a=iseven(i)\n",
    "    if(a==1):\n",
    "        sum=sum+i\n",
    "print(sum)\n",
    "\n"
   ]
  },
  {
   "cell_type": "code",
   "execution_count": null,
   "metadata": {},
   "outputs": [],
   "source": [
    "#Write a program which adds only odd numbers of list \n",
    "#by using above function which finds even numbers\n",
    "l=[12,13,14,15,16,17]  #Output: 13+15+17=45\n",
    "sum=0\n",
    "for i in l:\n",
    "    a=iseven(i)\n",
    "    if(a==0):\n",
    "        sum=sum+i\n",
    "print(sum)\n",
    "\n"
   ]
  },
  {
   "cell_type": "code",
   "execution_count": null,
   "metadata": {},
   "outputs": [],
   "source": [
    "#Write a function to swap two numbers\n",
    "def swap(n1,n2):\n",
    "    temp=n1\n",
    "    n1=n2\n",
    "    n2=temp\n",
    "    return (n1,n2)\n",
    "\n",
    "number1=int(input(\"Enter First Number:\"))\n",
    "number2=int(input(\"Enter Second Number:\"))\n",
    "print(number1,number2)\n",
    "(number1,number2)=swap(number1,number2)\n",
    "print(number1,number2)"
   ]
  },
  {
   "cell_type": "code",
   "execution_count": null,
   "metadata": {},
   "outputs": [],
   "source": [
    "def addmulti(a,b):\n",
    "    c=a+b\n",
    "    d=a*b\n",
    "    return (c,d)\n",
    "    \n",
    "#Calculate (5*3)-(5+3) using above function\n",
    "(s,p)=addmulti(5,3)\n",
    "print(p-s)\n"
   ]
  },
  {
   "cell_type": "code",
   "execution_count": null,
   "metadata": {},
   "outputs": [],
   "source": [
    "#Write a program to calculate Factorial of a given number \n",
    "#and multiply it by two using factorial function\n",
    "\n",
    "def factorial(n):\n",
    "    p=1\n",
    "    for i in range(1,n+1):\n",
    "        p=p*i\n",
    "    return p\n",
    "\n",
    "n=int(input(\"Enter First Number:\"))\n",
    "fact=factorial(n)\n",
    "d=fact*2\n",
    "print(d)\n"
   ]
  },
  {
   "cell_type": "code",
   "execution_count": null,
   "metadata": {},
   "outputs": [],
   "source": [
    "#Write a Function to find whether a given number is prime or not\n",
    "\n",
    "def isprime(n):\n",
    "    for i in range(2,n):\n",
    "        if(n%i==0):\n",
    "            print(\"It is not a prime number\")\n",
    "            break\n",
    "    else:\n",
    "        print(\"It is a prime number\")\n",
    "    \n",
    "n=int(input(\"Enter First Number:\"))\n",
    "isprime(n)"
   ]
  },
  {
   "cell_type": "code",
   "execution_count": null,
   "metadata": {},
   "outputs": [],
   "source": [
    "#Write a Function to find whether a given number is prime or not\n",
    "\n",
    "def isprime(n):\n",
    "    for i in range(2,n):\n",
    "        if(n%i==0):\n",
    "            return False\n",
    "            break\n",
    "    else:\n",
    "        return True\n",
    "    \n",
    "n=int(input(\"Enter First Number:\"))\n",
    "d=isprime(n)\n",
    "print(d)\n",
    "if(d==0):\n",
    "    print(\"It is not a prime number\")\n",
    "else:\n",
    "    print(\"It is a prime number\")\n"
   ]
  },
  {
   "cell_type": "code",
   "execution_count": null,
   "metadata": {},
   "outputs": [],
   "source": [
    "#Write a function to sum all elements of a list\n",
    "\n",
    "def sum(l):\n",
    "    sum=0\n",
    "    for i in l:\n",
    "        sum=sum+i\n",
    "    return sum\n",
    "    \n",
    "l1=[11,23,34,56]\n",
    "s=sum(l1)\n",
    "print(s)"
   ]
  },
  {
   "cell_type": "code",
   "execution_count": null,
   "metadata": {},
   "outputs": [],
   "source": [
    "#Write a Program to count the number of  elements of a list\n",
    "def count(l):\n",
    "    count=0\n",
    "    for i in l:\n",
    "        count=count+1\n",
    "    return count\n",
    "print(count(l1))"
   ]
  },
  {
   "cell_type": "code",
   "execution_count": null,
   "metadata": {},
   "outputs": [],
   "source": [
    "#Write a Function to find average or mean of a list data\n",
    "def average(l):\n",
    "    sum=0\n",
    "    count=0\n",
    "    for i in l:\n",
    "        sum=sum+i\n",
    "        count=count+1\n",
    "    average=sum/count\n",
    "    return average\n"
   ]
  },
  {
   "cell_type": "code",
   "execution_count": null,
   "metadata": {},
   "outputs": [],
   "source": [
    "#Write a Program to interchange first and last element of list\n",
    "def interchange(l):\n",
    "    temp=l[0]\n",
    "    l[0]=l[-1]\n",
    "    l[-1]=temp\n",
    "    return l"
   ]
  },
  {
   "cell_type": "code",
   "execution_count": null,
   "metadata": {},
   "outputs": [],
   "source": [
    "#Write a Program to find maximum element of a list\n",
    "def max(l):\n",
    "    max=l[0]\n",
    "    for i in l:\n",
    "        if(i>max):\n",
    "            max=i\n",
    "    return max\n",
    "    \n",
    "max(l1)"
   ]
  },
  {
   "cell_type": "code",
   "execution_count": null,
   "metadata": {},
   "outputs": [],
   "source": [
    "#Write a Program to find minimum element of a list\n",
    "def min(l):\n",
    "    min=l[0]\n",
    "    for i in l:\n",
    "        if(i<min):\n",
    "            min=i\n",
    "    return min\n",
    "    \n",
    "min(l1)"
   ]
  },
  {
   "cell_type": "code",
   "execution_count": null,
   "metadata": {},
   "outputs": [],
   "source": [
    "#input some data from user and put that into list\n",
    "n=int(input(\"How many data in the list?\"))\n",
    "l=[]\n",
    "for i in range(1,n+1):\n",
    "    x=int(input(\"Enter the data:\"))\n",
    "    l.append(x)\n",
    "print(l)\n",
    "    "
   ]
  },
  {
   "cell_type": "code",
   "execution_count": null,
   "metadata": {},
   "outputs": [],
   "source": [
    "def concat(a,b):\n",
    "    c=a+b\n",
    "    return c\n",
    "\n",
    "d=concat(\"Hello\",\"World\")\n",
    "print(d)\n"
   ]
  },
  {
   "cell_type": "code",
   "execution_count": 4,
   "metadata": {},
   "outputs": [
    {
     "data": {
      "text/plain": [
       "True"
      ]
     },
     "execution_count": 4,
     "metadata": {},
     "output_type": "execute_result"
    }
   ],
   "source": [
    "#Write a FUNCTION to see whether an item exist in the list or not\n",
    "#for example whether 56 exist in [23,34,45,12], output=FALSE\n",
    "def isitem(l,item):\n",
    "    for x in l:\n",
    "        if(x==item):\n",
    "            return True\n",
    "    return False\n",
    "     \n",
    "isitem([\"Ravi\",\"Mohan\"],\"Ravi\")     "
   ]
  },
  {
   "cell_type": "code",
   "execution_count": 7,
   "metadata": {},
   "outputs": [
    {
     "name": "stdout",
     "output_type": "stream",
     "text": [
      "Enter the data:23\n",
      "Enter the data:12\n",
      "Enter the data:24\n",
      "Enter the data:12\n",
      "Enter the data:11\n",
      "82\n"
     ]
    }
   ],
   "source": [
    "import mymodules.MyListModule as ls #mymodules is a package, MyListModule is a module\n",
    "import mymodules.MyNumberModule as mn\n",
    "x=ls.mylist(5)\n",
    "s=x.sum()\n",
    "print(s)"
   ]
  },
  {
   "cell_type": "code",
   "execution_count": 9,
   "metadata": {},
   "outputs": [
    {
     "name": "stdout",
     "output_type": "stream",
     "text": [
      "Enter the data:10\n",
      "Enter the data:20\n",
      "Enter the data:30\n",
      "Enter the data:40\n",
      "Enter the data:50\n",
      "150\n",
      "295232799039604140847618609643520000000\n"
     ]
    }
   ],
   "source": [
    "import MyAllModule as al\n",
    "x=al.mylist(5)\n",
    "s=x.sum()\n",
    "print(s)\n",
    "y=al.mynumber(34)\n",
    "z=y.factorial()\n",
    "print(z)"
   ]
  },
  {
   "cell_type": "code",
   "execution_count": 11,
   "metadata": {},
   "outputs": [
    {
     "name": "stdout",
     "output_type": "stream",
     "text": [
      "Enter the data:10\n",
      "Enter the data:20\n",
      "Enter the data:30\n",
      "Enter the data:40\n",
      "100\n",
      "120\n"
     ]
    }
   ],
   "source": [
    "#import MyAllModule as al\n",
    "from MyAllModule import *\n",
    "x=mylist(4)\n",
    "s=x.sum()\n",
    "print(s)\n",
    "y=mynumber(5)\n",
    "z=y.factorial()\n",
    "print(z)"
   ]
  },
  {
   "cell_type": "code",
   "execution_count": 13,
   "metadata": {},
   "outputs": [
    {
     "name": "stdout",
     "output_type": "stream",
     "text": [
      "Enter the data:10\n",
      "Enter the data:2\n",
      "Enter the data:3\n",
      "Enter the data:4\n",
      "19\n"
     ]
    }
   ],
   "source": [
    "from MyAllModule import mylist\n",
    "x=mylist(4)\n",
    "s=x.sum()\n",
    "print(s)"
   ]
  },
  {
   "cell_type": "code",
   "execution_count": null,
   "metadata": {},
   "outputs": [],
   "source": []
  }
 ],
 "metadata": {
  "kernelspec": {
   "display_name": "Python 3",
   "language": "python",
   "name": "python3"
  },
  "language_info": {
   "codemirror_mode": {
    "name": "ipython",
    "version": 3
   },
   "file_extension": ".py",
   "mimetype": "text/x-python",
   "name": "python",
   "nbconvert_exporter": "python",
   "pygments_lexer": "ipython3",
   "version": "3.7.3"
  }
 },
 "nbformat": 4,
 "nbformat_minor": 2
}
