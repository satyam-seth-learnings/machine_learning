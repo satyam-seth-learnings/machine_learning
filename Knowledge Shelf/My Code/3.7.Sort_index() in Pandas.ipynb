{
 "cells": [
  {
   "cell_type": "code",
   "execution_count": 6,
   "metadata": {},
   "outputs": [],
   "source": [
    "import pandas as pd"
   ]
  },
  {
   "cell_type": "code",
   "execution_count": 8,
   "metadata": {},
   "outputs": [
    {
     "data": {
      "text/plain": [
       "0                Bulbasaur\n",
       "1                  Ivysaur\n",
       "2                 Venusaur\n",
       "3    VenusaurMega Venusaur\n",
       "Name: Name, dtype: object"
      ]
     },
     "execution_count": 8,
     "metadata": {},
     "output_type": "execute_result"
    }
   ],
   "source": [
    "pokemon=pd.read_csv('3.5.pokemon.csv',usecols=['Name'],squeeze=True)\n",
    "pokemon.head(4)"
   ]
  },
  {
   "cell_type": "code",
   "execution_count": 9,
   "metadata": {},
   "outputs": [
    {
     "data": {
      "text/plain": [
       "794             Zygarde50% Forme\n",
       "695                     Zweilous\n",
       "46                         Zubat\n",
       "631                        Zorua\n",
       "632                      Zoroark\n",
       "286                    Zigzagoon\n",
       "707                       Zekrom\n",
       "582                    Zebstrika\n",
       "157                       Zapdos\n",
       "367                     Zangoose\n",
       "793                      Yveltal\n",
       "520                      Yanmega\n",
       "208                        Yanma\n",
       "623                       Yamask\n",
       "792                      Xerneas\n",
       "192                         Xatu\n",
       "394                       Wynaut\n",
       "288                      Wurmple\n",
       "460          WormadamTrash Cloak\n",
       "459          WormadamSandy Cloak\n",
       "458          WormadamPlant Cloak\n",
       "209                       Wooper\n",
       "586                       Woobat\n",
       "217                    Wobbuffet\n",
       "301                      Wingull\n",
       "45                    Wigglytuff\n",
       "317                      Whismur\n",
       "372                     Whiscash\n",
       "604                   Whirlipede\n",
       "607                   Whimsicott\n",
       "                 ...            \n",
       "182                      Ariados\n",
       "628                     Archeops\n",
       "627                       Archen\n",
       "552                       Arceus\n",
       "64                      Arcanine\n",
       "29                         Arbok\n",
       "379                      Anorith\n",
       "196        AmpharosMega Ampharos\n",
       "195                     Ampharos\n",
       "652                    Amoonguss\n",
       "471                      Ambipom\n",
       "768                       Amaura\n",
       "366          AltariaMega Altaria\n",
       "365                      Altaria\n",
       "655                    Alomomola\n",
       "71         AlakazamMega Alakazam\n",
       "70                      Alakazam\n",
       "205                        Aipom\n",
       "333            AggronMega Aggron\n",
       "332                       Aggron\n",
       "154    AerodactylMega Aerodactyl\n",
       "153                   Aerodactyl\n",
       "751        AegislashShield Forme\n",
       "750         AegislashBlade Forme\n",
       "678                     Accelgor\n",
       "393              AbsolMega Absol\n",
       "392                        Absol\n",
       "68                          Abra\n",
       "511      AbomasnowMega Abomasnow\n",
       "510                    Abomasnow\n",
       "Name: Name, Length: 800, dtype: object"
      ]
     },
     "execution_count": 9,
     "metadata": {},
     "output_type": "execute_result"
    }
   ],
   "source": [
    "pokemon.sort_values(ascending=False)"
   ]
  },
  {
   "cell_type": "code",
   "execution_count": 11,
   "metadata": {},
   "outputs": [
    {
     "data": {
      "text/plain": [
       "794    Zygarde50% Forme\n",
       "695            Zweilous\n",
       "46                Zubat\n",
       "631               Zorua\n",
       "Name: Name, dtype: object"
      ]
     },
     "execution_count": 11,
     "metadata": {},
     "output_type": "execute_result"
    }
   ],
   "source": [
    "pokemon.sort_values(ascending=False,inplace=True)\n",
    "pokemon.head(4)"
   ]
  },
  {
   "cell_type": "code",
   "execution_count": 13,
   "metadata": {},
   "outputs": [
    {
     "data": {
      "text/plain": [
       "0                      Bulbasaur\n",
       "1                        Ivysaur\n",
       "2                       Venusaur\n",
       "3          VenusaurMega Venusaur\n",
       "4                     Charmander\n",
       "5                     Charmeleon\n",
       "6                      Charizard\n",
       "7      CharizardMega Charizard X\n",
       "8      CharizardMega Charizard Y\n",
       "9                       Squirtle\n",
       "10                     Wartortle\n",
       "11                     Blastoise\n",
       "12       BlastoiseMega Blastoise\n",
       "13                      Caterpie\n",
       "14                       Metapod\n",
       "15                    Butterfree\n",
       "16                        Weedle\n",
       "17                        Kakuna\n",
       "18                      Beedrill\n",
       "19         BeedrillMega Beedrill\n",
       "20                        Pidgey\n",
       "21                     Pidgeotto\n",
       "22                       Pidgeot\n",
       "23           PidgeotMega Pidgeot\n",
       "24                       Rattata\n",
       "25                      Raticate\n",
       "26                       Spearow\n",
       "27                        Fearow\n",
       "28                         Ekans\n",
       "29                         Arbok\n",
       "                 ...            \n",
       "770                      Sylveon\n",
       "771                     Hawlucha\n",
       "772                      Dedenne\n",
       "773                      Carbink\n",
       "774                        Goomy\n",
       "775                      Sliggoo\n",
       "776                       Goodra\n",
       "777                       Klefki\n",
       "778                     Phantump\n",
       "779                    Trevenant\n",
       "780        PumpkabooAverage Size\n",
       "781          PumpkabooSmall Size\n",
       "782          PumpkabooLarge Size\n",
       "783          PumpkabooSuper Size\n",
       "784        GourgeistAverage Size\n",
       "785          GourgeistSmall Size\n",
       "786          GourgeistLarge Size\n",
       "787          GourgeistSuper Size\n",
       "788                     Bergmite\n",
       "789                      Avalugg\n",
       "790                       Noibat\n",
       "791                      Noivern\n",
       "792                      Xerneas\n",
       "793                      Yveltal\n",
       "794             Zygarde50% Forme\n",
       "795                      Diancie\n",
       "796          DiancieMega Diancie\n",
       "797          HoopaHoopa Confined\n",
       "798           HoopaHoopa Unbound\n",
       "799                    Volcanion\n",
       "Name: Name, Length: 800, dtype: object"
      ]
     },
     "execution_count": 13,
     "metadata": {},
     "output_type": "execute_result"
    }
   ],
   "source": [
    "pokemon.sort_index()"
   ]
  },
  {
   "cell_type": "code",
   "execution_count": 16,
   "metadata": {},
   "outputs": [
    {
     "data": {
      "text/plain": [
       "799              Volcanion\n",
       "798     HoopaHoopa Unbound\n",
       "797    HoopaHoopa Confined\n",
       "796    DiancieMega Diancie\n",
       "795                Diancie\n",
       "Name: Name, dtype: object"
      ]
     },
     "execution_count": 16,
     "metadata": {},
     "output_type": "execute_result"
    }
   ],
   "source": [
    "pokemon.sort_index(ascending=False)\n",
    "pokemon.head()"
   ]
  },
  {
   "cell_type": "code",
   "execution_count": 15,
   "metadata": {},
   "outputs": [
    {
     "data": {
      "text/plain": [
       "799              Volcanion\n",
       "798     HoopaHoopa Unbound\n",
       "797    HoopaHoopa Confined\n",
       "796    DiancieMega Diancie\n",
       "795                Diancie\n",
       "Name: Name, dtype: object"
      ]
     },
     "execution_count": 15,
     "metadata": {},
     "output_type": "execute_result"
    }
   ],
   "source": [
    "pokemon.sort_index(ascending=False,inplace=True)\n",
    "pokemon.head()"
   ]
  }
 ],
 "metadata": {
  "kernelspec": {
   "display_name": "Python 3",
   "language": "python",
   "name": "python3"
  },
  "language_info": {
   "codemirror_mode": {
    "name": "ipython",
    "version": 3
   },
   "file_extension": ".py",
   "mimetype": "text/x-python",
   "name": "python",
   "nbconvert_exporter": "python",
   "pygments_lexer": "ipython3",
   "version": "3.7.0"
  }
 },
 "nbformat": 4,
 "nbformat_minor": 2
}
