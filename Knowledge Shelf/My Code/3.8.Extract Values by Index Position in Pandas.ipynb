{
 "cells": [
  {
   "cell_type": "code",
   "execution_count": 1,
   "metadata": {},
   "outputs": [],
   "source": [
    "import pandas as pd"
   ]
  },
  {
   "cell_type": "code",
   "execution_count": 3,
   "metadata": {},
   "outputs": [
    {
     "data": {
      "text/plain": [
       "0                Bulbasaur\n",
       "1                  Ivysaur\n",
       "2                 Venusaur\n",
       "3    VenusaurMega Venusaur\n",
       "4               Charmander\n",
       "Name: Name, dtype: object"
      ]
     },
     "execution_count": 3,
     "metadata": {},
     "output_type": "execute_result"
    }
   ],
   "source": [
    "pokemon=pd.read_csv('3.5.pokemon.csv',usecols=['Name'],squeeze=True)\n",
    "pokemon.head()"
   ]
  },
  {
   "cell_type": "code",
   "execution_count": 4,
   "metadata": {},
   "outputs": [
    {
     "data": {
      "text/plain": [
       "'Wartortle'"
      ]
     },
     "execution_count": 4,
     "metadata": {},
     "output_type": "execute_result"
    }
   ],
   "source": [
    "pokemon[10]"
   ]
  },
  {
   "cell_type": "code",
   "execution_count": 5,
   "metadata": {},
   "outputs": [
    {
     "data": {
      "text/plain": [
       "100      Haunter\n",
       "200    Sudowoodo\n",
       "300      Swellow\n",
       "Name: Name, dtype: object"
      ]
     },
     "execution_count": 5,
     "metadata": {},
     "output_type": "execute_result"
    }
   ],
   "source": [
    "pokemon[[100,200,300]]"
   ]
  },
  {
   "cell_type": "code",
   "execution_count": 6,
   "metadata": {},
   "outputs": [
    {
     "data": {
      "text/plain": [
       "50                 Vileplume\n",
       "51                     Paras\n",
       "52                  Parasect\n",
       "53                   Venonat\n",
       "54                  Venomoth\n",
       "55                   Diglett\n",
       "56                   Dugtrio\n",
       "57                    Meowth\n",
       "58                   Persian\n",
       "59                   Psyduck\n",
       "60                   Golduck\n",
       "61                    Mankey\n",
       "62                  Primeape\n",
       "63                 Growlithe\n",
       "64                  Arcanine\n",
       "65                   Poliwag\n",
       "66                 Poliwhirl\n",
       "67                 Poliwrath\n",
       "68                      Abra\n",
       "69                   Kadabra\n",
       "70                  Alakazam\n",
       "71     AlakazamMega Alakazam\n",
       "72                    Machop\n",
       "73                   Machoke\n",
       "74                   Machamp\n",
       "75                Bellsprout\n",
       "76                Weepinbell\n",
       "77                Victreebel\n",
       "78                 Tentacool\n",
       "79                Tentacruel\n",
       "80                   Geodude\n",
       "81                  Graveler\n",
       "82                     Golem\n",
       "83                    Ponyta\n",
       "84                  Rapidash\n",
       "85                  Slowpoke\n",
       "86                   Slowbro\n",
       "87       SlowbroMega Slowbro\n",
       "88                 Magnemite\n",
       "89                  Magneton\n",
       "90                Farfetch'd\n",
       "91                     Doduo\n",
       "92                    Dodrio\n",
       "93                      Seel\n",
       "94                   Dewgong\n",
       "95                    Grimer\n",
       "96                       Muk\n",
       "97                  Shellder\n",
       "98                  Cloyster\n",
       "99                    Gastly\n",
       "100                  Haunter\n",
       "Name: Name, dtype: object"
      ]
     },
     "execution_count": 6,
     "metadata": {},
     "output_type": "execute_result"
    }
   ],
   "source": [
    "pokemon[50:101]"
   ]
  },
  {
   "cell_type": "code",
   "execution_count": 7,
   "metadata": {},
   "outputs": [
    {
     "data": {
      "text/plain": [
       "0                     Bulbasaur\n",
       "1                       Ivysaur\n",
       "2                      Venusaur\n",
       "3         VenusaurMega Venusaur\n",
       "4                    Charmander\n",
       "5                    Charmeleon\n",
       "6                     Charizard\n",
       "7     CharizardMega Charizard X\n",
       "8     CharizardMega Charizard Y\n",
       "9                      Squirtle\n",
       "10                    Wartortle\n",
       "11                    Blastoise\n",
       "12      BlastoiseMega Blastoise\n",
       "13                     Caterpie\n",
       "14                      Metapod\n",
       "15                   Butterfree\n",
       "16                       Weedle\n",
       "17                       Kakuna\n",
       "18                     Beedrill\n",
       "19        BeedrillMega Beedrill\n",
       "20                       Pidgey\n",
       "21                    Pidgeotto\n",
       "22                      Pidgeot\n",
       "23          PidgeotMega Pidgeot\n",
       "24                      Rattata\n",
       "25                     Raticate\n",
       "26                      Spearow\n",
       "27                       Fearow\n",
       "28                        Ekans\n",
       "29                        Arbok\n",
       "30                      Pikachu\n",
       "31                       Raichu\n",
       "32                    Sandshrew\n",
       "33                    Sandslash\n",
       "34                     Nidoran♀\n",
       "35                     Nidorina\n",
       "36                    Nidoqueen\n",
       "37                     Nidoran♂\n",
       "38                     Nidorino\n",
       "39                     Nidoking\n",
       "40                     Clefairy\n",
       "41                     Clefable\n",
       "42                       Vulpix\n",
       "43                    Ninetales\n",
       "44                   Jigglypuff\n",
       "45                   Wigglytuff\n",
       "46                        Zubat\n",
       "47                       Golbat\n",
       "48                       Oddish\n",
       "49                        Gloom\n",
       "50                    Vileplume\n",
       "Name: Name, dtype: object"
      ]
     },
     "execution_count": 7,
     "metadata": {},
     "output_type": "execute_result"
    }
   ],
   "source": [
    "pokemon[:51]"
   ]
  },
  {
   "cell_type": "code",
   "execution_count": 8,
   "metadata": {},
   "outputs": [
    {
     "data": {
      "text/plain": [
       "770                  Sylveon\n",
       "771                 Hawlucha\n",
       "772                  Dedenne\n",
       "773                  Carbink\n",
       "774                    Goomy\n",
       "775                  Sliggoo\n",
       "776                   Goodra\n",
       "777                   Klefki\n",
       "778                 Phantump\n",
       "779                Trevenant\n",
       "780    PumpkabooAverage Size\n",
       "781      PumpkabooSmall Size\n",
       "782      PumpkabooLarge Size\n",
       "783      PumpkabooSuper Size\n",
       "784    GourgeistAverage Size\n",
       "785      GourgeistSmall Size\n",
       "786      GourgeistLarge Size\n",
       "787      GourgeistSuper Size\n",
       "788                 Bergmite\n",
       "789                  Avalugg\n",
       "790                   Noibat\n",
       "791                  Noivern\n",
       "792                  Xerneas\n",
       "793                  Yveltal\n",
       "794         Zygarde50% Forme\n",
       "795                  Diancie\n",
       "796      DiancieMega Diancie\n",
       "797      HoopaHoopa Confined\n",
       "798       HoopaHoopa Unbound\n",
       "799                Volcanion\n",
       "Name: Name, dtype: object"
      ]
     },
     "execution_count": 8,
     "metadata": {},
     "output_type": "execute_result"
    }
   ],
   "source": [
    "pokemon[-30:]"
   ]
  },
  {
   "cell_type": "code",
   "execution_count": 9,
   "metadata": {},
   "outputs": [
    {
     "data": {
      "text/plain": [
       "770                  Sylveon\n",
       "771                 Hawlucha\n",
       "772                  Dedenne\n",
       "773                  Carbink\n",
       "774                    Goomy\n",
       "775                  Sliggoo\n",
       "776                   Goodra\n",
       "777                   Klefki\n",
       "778                 Phantump\n",
       "779                Trevenant\n",
       "780    PumpkabooAverage Size\n",
       "781      PumpkabooSmall Size\n",
       "782      PumpkabooLarge Size\n",
       "783      PumpkabooSuper Size\n",
       "784    GourgeistAverage Size\n",
       "785      GourgeistSmall Size\n",
       "786      GourgeistLarge Size\n",
       "787      GourgeistSuper Size\n",
       "788                 Bergmite\n",
       "789                  Avalugg\n",
       "Name: Name, dtype: object"
      ]
     },
     "execution_count": 9,
     "metadata": {},
     "output_type": "execute_result"
    }
   ],
   "source": [
    "pokemon[-30:-10]"
   ]
  }
 ],
 "metadata": {
  "kernelspec": {
   "display_name": "Python 3",
   "language": "python",
   "name": "python3"
  },
  "language_info": {
   "codemirror_mode": {
    "name": "ipython",
    "version": 3
   },
   "file_extension": ".py",
   "mimetype": "text/x-python",
   "name": "python",
   "nbconvert_exporter": "python",
   "pygments_lexer": "ipython3",
   "version": "3.7.0"
  }
 },
 "nbformat": 4,
 "nbformat_minor": 2
}
