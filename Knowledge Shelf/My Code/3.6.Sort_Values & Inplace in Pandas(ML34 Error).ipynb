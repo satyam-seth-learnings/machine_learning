{
 "cells": [
  {
   "cell_type": "code",
   "execution_count": 3,
   "metadata": {},
   "outputs": [],
   "source": [
    "import pandas as pd"
   ]
  },
  {
   "cell_type": "code",
   "execution_count": 4,
   "metadata": {},
   "outputs": [],
   "source": [
    "pokemon=pd.read_csv('3.5.pokemon.csv',usecols=['Name'],squeeze=True)"
   ]
  },
  {
   "cell_type": "code",
   "execution_count": 5,
   "metadata": {},
   "outputs": [
    {
     "data": {
      "text/plain": [
       "510                    Abomasnow\n",
       "511      AbomasnowMega Abomasnow\n",
       "68                          Abra\n",
       "392                        Absol\n",
       "393              AbsolMega Absol\n",
       "678                     Accelgor\n",
       "750         AegislashBlade Forme\n",
       "751        AegislashShield Forme\n",
       "153                   Aerodactyl\n",
       "154    AerodactylMega Aerodactyl\n",
       "332                       Aggron\n",
       "333            AggronMega Aggron\n",
       "205                        Aipom\n",
       "70                      Alakazam\n",
       "71         AlakazamMega Alakazam\n",
       "655                    Alomomola\n",
       "365                      Altaria\n",
       "366          AltariaMega Altaria\n",
       "768                       Amaura\n",
       "471                      Ambipom\n",
       "652                    Amoonguss\n",
       "195                     Ampharos\n",
       "196        AmpharosMega Ampharos\n",
       "379                      Anorith\n",
       "29                         Arbok\n",
       "64                      Arcanine\n",
       "552                       Arceus\n",
       "627                       Archen\n",
       "628                     Archeops\n",
       "182                      Ariados\n",
       "                 ...            \n",
       "607                   Whimsicott\n",
       "604                   Whirlipede\n",
       "372                     Whiscash\n",
       "317                      Whismur\n",
       "45                    Wigglytuff\n",
       "301                      Wingull\n",
       "217                    Wobbuffet\n",
       "586                       Woobat\n",
       "209                       Wooper\n",
       "458          WormadamPlant Cloak\n",
       "459          WormadamSandy Cloak\n",
       "460          WormadamTrash Cloak\n",
       "288                      Wurmple\n",
       "394                       Wynaut\n",
       "192                         Xatu\n",
       "792                      Xerneas\n",
       "623                       Yamask\n",
       "208                        Yanma\n",
       "520                      Yanmega\n",
       "793                      Yveltal\n",
       "367                     Zangoose\n",
       "157                       Zapdos\n",
       "582                    Zebstrika\n",
       "707                       Zekrom\n",
       "286                    Zigzagoon\n",
       "632                      Zoroark\n",
       "631                        Zorua\n",
       "46                         Zubat\n",
       "695                     Zweilous\n",
       "794             Zygarde50% Forme\n",
       "Name: Name, Length: 800, dtype: object"
      ]
     },
     "execution_count": 5,
     "metadata": {},
     "output_type": "execute_result"
    }
   ],
   "source": [
    "pokemon.sort_values()"
   ]
  },
  {
   "cell_type": "code",
   "execution_count": 6,
   "metadata": {},
   "outputs": [
    {
     "data": {
      "text/plain": [
       "510                    Abomasnow\n",
       "511      AbomasnowMega Abomasnow\n",
       "68                          Abra\n",
       "392                        Absol\n",
       "393              AbsolMega Absol\n",
       "678                     Accelgor\n",
       "750         AegislashBlade Forme\n",
       "751        AegislashShield Forme\n",
       "153                   Aerodactyl\n",
       "154    AerodactylMega Aerodactyl\n",
       "Name: Name, dtype: object"
      ]
     },
     "execution_count": 6,
     "metadata": {},
     "output_type": "execute_result"
    }
   ],
   "source": [
    "pokemon.sort_values().head(10)"
   ]
  },
  {
   "cell_type": "code",
   "execution_count": 7,
   "metadata": {},
   "outputs": [
    {
     "data": {
      "text/plain": [
       "794             Zygarde50% Forme\n",
       "695                     Zweilous\n",
       "46                         Zubat\n",
       "631                        Zorua\n",
       "632                      Zoroark\n",
       "286                    Zigzagoon\n",
       "707                       Zekrom\n",
       "582                    Zebstrika\n",
       "157                       Zapdos\n",
       "367                     Zangoose\n",
       "793                      Yveltal\n",
       "520                      Yanmega\n",
       "208                        Yanma\n",
       "623                       Yamask\n",
       "792                      Xerneas\n",
       "192                         Xatu\n",
       "394                       Wynaut\n",
       "288                      Wurmple\n",
       "460          WormadamTrash Cloak\n",
       "459          WormadamSandy Cloak\n",
       "458          WormadamPlant Cloak\n",
       "209                       Wooper\n",
       "586                       Woobat\n",
       "217                    Wobbuffet\n",
       "301                      Wingull\n",
       "45                    Wigglytuff\n",
       "317                      Whismur\n",
       "372                     Whiscash\n",
       "604                   Whirlipede\n",
       "607                   Whimsicott\n",
       "                 ...            \n",
       "182                      Ariados\n",
       "628                     Archeops\n",
       "627                       Archen\n",
       "552                       Arceus\n",
       "64                      Arcanine\n",
       "29                         Arbok\n",
       "379                      Anorith\n",
       "196        AmpharosMega Ampharos\n",
       "195                     Ampharos\n",
       "652                    Amoonguss\n",
       "471                      Ambipom\n",
       "768                       Amaura\n",
       "366          AltariaMega Altaria\n",
       "365                      Altaria\n",
       "655                    Alomomola\n",
       "71         AlakazamMega Alakazam\n",
       "70                      Alakazam\n",
       "205                        Aipom\n",
       "333            AggronMega Aggron\n",
       "332                       Aggron\n",
       "154    AerodactylMega Aerodactyl\n",
       "153                   Aerodactyl\n",
       "751        AegislashShield Forme\n",
       "750         AegislashBlade Forme\n",
       "678                     Accelgor\n",
       "393              AbsolMega Absol\n",
       "392                        Absol\n",
       "68                          Abra\n",
       "511      AbomasnowMega Abomasnow\n",
       "510                    Abomasnow\n",
       "Name: Name, Length: 800, dtype: object"
      ]
     },
     "execution_count": 7,
     "metadata": {},
     "output_type": "execute_result"
    }
   ],
   "source": [
    "pokemon.sort_values(ascending=False)"
   ]
  },
  {
   "cell_type": "code",
   "execution_count": 8,
   "metadata": {},
   "outputs": [
    {
     "data": {
      "text/plain": [
       "154    AerodactylMega Aerodactyl\n",
       "153                   Aerodactyl\n",
       "751        AegislashShield Forme\n",
       "750         AegislashBlade Forme\n",
       "678                     Accelgor\n",
       "393              AbsolMega Absol\n",
       "392                        Absol\n",
       "68                          Abra\n",
       "511      AbomasnowMega Abomasnow\n",
       "510                    Abomasnow\n",
       "Name: Name, dtype: object"
      ]
     },
     "execution_count": 8,
     "metadata": {},
     "output_type": "execute_result"
    }
   ],
   "source": [
    "pokemon.sort_values(ascending=False).tail(10)"
   ]
  },
  {
   "cell_type": "code",
   "execution_count": 9,
   "metadata": {},
   "outputs": [
    {
     "data": {
      "text/plain": [
       "0        50.12\n",
       "1        54.10\n",
       "2        54.65\n",
       "3        52.38\n",
       "4        52.95\n",
       "5        53.90\n",
       "6        53.02\n",
       "7        50.95\n",
       "8        51.13\n",
       "9        50.07\n",
       "10       50.70\n",
       "11       49.95\n",
       "12       50.74\n",
       "13       51.10\n",
       "14       51.10\n",
       "15       52.61\n",
       "16       53.70\n",
       "17       55.69\n",
       "18       55.94\n",
       "19       56.93\n",
       "20       58.69\n",
       "21       59.62\n",
       "22       58.86\n",
       "23       59.13\n",
       "24       60.35\n",
       "25       59.86\n",
       "26       59.07\n",
       "27       63.37\n",
       "28       65.47\n",
       "29       64.74\n",
       "         ...  \n",
       "2982    675.22\n",
       "2983    668.26\n",
       "2984    680.04\n",
       "2985    684.11\n",
       "2986    692.10\n",
       "2987    699.21\n",
       "2988    694.49\n",
       "2989    697.77\n",
       "2990    695.36\n",
       "2991    705.63\n",
       "2992    715.09\n",
       "2993    720.64\n",
       "2994    716.98\n",
       "2995    720.95\n",
       "2996    719.85\n",
       "2997    733.78\n",
       "2998    736.96\n",
       "2999    741.19\n",
       "3000    738.63\n",
       "3001    742.74\n",
       "3002    739.77\n",
       "3003    738.42\n",
       "3004    741.77\n",
       "3005    745.91\n",
       "3006    768.79\n",
       "3007    772.88\n",
       "3008    771.07\n",
       "3009    773.18\n",
       "3010    771.61\n",
       "3011    782.22\n",
       "Name: Stock Price, Length: 3012, dtype: float64"
      ]
     },
     "execution_count": 9,
     "metadata": {},
     "output_type": "execute_result"
    }
   ],
   "source": [
    "google=pd.read_csv('3.6.Sort_Values & Inplace in Pandas.csv',squeeze=True)\n",
    "google"
   ]
  },
  {
   "cell_type": "code",
   "execution_count": 10,
   "metadata": {},
   "outputs": [
    {
     "data": {
      "text/plain": [
       "11       49.95\n",
       "9        50.07\n",
       "0        50.12\n",
       "10       50.70\n",
       "12       50.74\n",
       "7        50.95\n",
       "14       51.10\n",
       "13       51.10\n",
       "8        51.13\n",
       "3        52.38\n",
       "15       52.61\n",
       "4        52.95\n",
       "6        53.02\n",
       "16       53.70\n",
       "5        53.90\n",
       "1        54.10\n",
       "2        54.65\n",
       "17       55.69\n",
       "18       55.94\n",
       "19       56.93\n",
       "20       58.69\n",
       "22       58.86\n",
       "26       59.07\n",
       "23       59.13\n",
       "21       59.62\n",
       "25       59.86\n",
       "24       60.35\n",
       "27       63.37\n",
       "29       64.74\n",
       "28       65.47\n",
       "         ...  \n",
       "2921    750.53\n",
       "2846    751.61\n",
       "2931    751.72\n",
       "2881    752.00\n",
       "2842    752.54\n",
       "2936    752.67\n",
       "2932    753.20\n",
       "2935    753.93\n",
       "2835    755.98\n",
       "2834    756.60\n",
       "2851    758.09\n",
       "2861    758.88\n",
       "2933    759.00\n",
       "2937    759.14\n",
       "2845    762.37\n",
       "2841    762.38\n",
       "2858    762.51\n",
       "2844    763.25\n",
       "2882    764.65\n",
       "2934    766.61\n",
       "2843    766.81\n",
       "2840    767.04\n",
       "3006    768.79\n",
       "2860    771.00\n",
       "3008    771.07\n",
       "3010    771.61\n",
       "3007    772.88\n",
       "3009    773.18\n",
       "2859    776.60\n",
       "3011    782.22\n",
       "Name: Stock Price, Length: 3012, dtype: float64"
      ]
     },
     "execution_count": 10,
     "metadata": {},
     "output_type": "execute_result"
    }
   ],
   "source": [
    " google.sort_values()"
   ]
  },
  {
   "cell_type": "code",
   "execution_count": 11,
   "metadata": {},
   "outputs": [
    {
     "data": {
      "text/plain": [
       "11       49.95\n",
       "9        50.07\n",
       "0        50.12\n",
       "10       50.70\n",
       "12       50.74\n",
       "7        50.95\n",
       "14       51.10\n",
       "13       51.10\n",
       "8        51.13\n",
       "3        52.38\n",
       "15       52.61\n",
       "4        52.95\n",
       "6        53.02\n",
       "16       53.70\n",
       "5        53.90\n",
       "1        54.10\n",
       "2        54.65\n",
       "17       55.69\n",
       "18       55.94\n",
       "19       56.93\n",
       "20       58.69\n",
       "22       58.86\n",
       "26       59.07\n",
       "23       59.13\n",
       "21       59.62\n",
       "25       59.86\n",
       "24       60.35\n",
       "27       63.37\n",
       "29       64.74\n",
       "28       65.47\n",
       "         ...  \n",
       "2921    750.53\n",
       "2846    751.61\n",
       "2931    751.72\n",
       "2881    752.00\n",
       "2842    752.54\n",
       "2936    752.67\n",
       "2932    753.20\n",
       "2935    753.93\n",
       "2835    755.98\n",
       "2834    756.60\n",
       "2851    758.09\n",
       "2861    758.88\n",
       "2933    759.00\n",
       "2937    759.14\n",
       "2845    762.37\n",
       "2841    762.38\n",
       "2858    762.51\n",
       "2844    763.25\n",
       "2882    764.65\n",
       "2934    766.61\n",
       "2843    766.81\n",
       "2840    767.04\n",
       "3006    768.79\n",
       "2860    771.00\n",
       "3008    771.07\n",
       "3010    771.61\n",
       "3007    772.88\n",
       "3009    773.18\n",
       "2859    776.60\n",
       "3011    782.22\n",
       "Name: Stock Price, Length: 3012, dtype: float64"
      ]
     },
     "execution_count": 11,
     "metadata": {},
     "output_type": "execute_result"
    }
   ],
   "source": [
    "google=google.sort_values()\n",
    "google"
   ]
  },
  {
   "cell_type": "code",
   "execution_count": 12,
   "metadata": {},
   "outputs": [
    {
     "data": {
      "text/plain": [
       "11    49.95\n",
       "9     50.07\n",
       "0     50.12\n",
       "10    50.70\n",
       "12    50.74\n",
       "Name: Stock Price, dtype: float64"
      ]
     },
     "execution_count": 12,
     "metadata": {},
     "output_type": "execute_result"
    }
   ],
   "source": [
    "google.head()"
   ]
  },
  {
   "cell_type": "code",
   "execution_count": 13,
   "metadata": {},
   "outputs": [
    {
     "data": {
      "text/plain": [
       "3011    782.22\n",
       "2859    776.60\n",
       "3009    773.18\n",
       "3007    772.88\n",
       "3010    771.61\n",
       "3008    771.07\n",
       "2860    771.00\n",
       "3006    768.79\n",
       "2840    767.04\n",
       "2843    766.81\n",
       "2934    766.61\n",
       "2882    764.65\n",
       "2844    763.25\n",
       "2858    762.51\n",
       "2841    762.38\n",
       "2845    762.37\n",
       "2937    759.14\n",
       "2933    759.00\n",
       "2861    758.88\n",
       "2851    758.09\n",
       "2834    756.60\n",
       "2835    755.98\n",
       "2935    753.93\n",
       "2932    753.20\n",
       "2936    752.67\n",
       "2842    752.54\n",
       "2881    752.00\n",
       "2931    751.72\n",
       "2846    751.61\n",
       "2921    750.53\n",
       "         ...  \n",
       "28       65.47\n",
       "29       64.74\n",
       "27       63.37\n",
       "24       60.35\n",
       "25       59.86\n",
       "21       59.62\n",
       "23       59.13\n",
       "26       59.07\n",
       "22       58.86\n",
       "20       58.69\n",
       "19       56.93\n",
       "18       55.94\n",
       "17       55.69\n",
       "2        54.65\n",
       "1        54.10\n",
       "5        53.90\n",
       "16       53.70\n",
       "6        53.02\n",
       "4        52.95\n",
       "15       52.61\n",
       "3        52.38\n",
       "8        51.13\n",
       "13       51.10\n",
       "14       51.10\n",
       "7        50.95\n",
       "12       50.74\n",
       "10       50.70\n",
       "0        50.12\n",
       "9        50.07\n",
       "11       49.95\n",
       "Name: Stock Price, Length: 3012, dtype: float64"
      ]
     },
     "execution_count": 13,
     "metadata": {},
     "output_type": "execute_result"
    }
   ],
   "source": [
    "google=google.sort_values(ascending=False)\n",
    "google"
   ]
  },
  {
   "cell_type": "code",
   "execution_count": 25,
   "metadata": {},
   "outputs": [
    {
     "ename": "AttributeError",
     "evalue": "'NoneType' object has no attribute 'sort_values'",
     "output_type": "error",
     "traceback": [
      "\u001b[1;31m---------------------------------------------------------------------------\u001b[0m",
      "\u001b[1;31mAttributeError\u001b[0m                            Traceback (most recent call last)",
      "\u001b[1;32m<ipython-input-25-c62ccf4f6576>\u001b[0m in \u001b[0;36m<module>\u001b[1;34m()\u001b[0m\n\u001b[1;32m----> 1\u001b[1;33m \u001b[0mgoogl\u001b[0m\u001b[1;33m=\u001b[0m\u001b[0mgoogl\u001b[0m\u001b[1;33m.\u001b[0m\u001b[0msort_values\u001b[0m\u001b[1;33m(\u001b[0m\u001b[0mascending\u001b[0m\u001b[1;33m=\u001b[0m\u001b[1;32mFalse\u001b[0m\u001b[1;33m,\u001b[0m\u001b[0minplace\u001b[0m\u001b[1;33m=\u001b[0m\u001b[1;32mTrue\u001b[0m\u001b[1;33m)\u001b[0m\u001b[1;33m\u001b[0m\u001b[0m\n\u001b[0m\u001b[0;32m      2\u001b[0m \u001b[0mgoogl\u001b[0m\u001b[1;33m.\u001b[0m\u001b[0mhead\u001b[0m\u001b[1;33m(\u001b[0m\u001b[1;33m)\u001b[0m\u001b[1;33m\u001b[0m\u001b[0m\n",
      "\u001b[1;31mAttributeError\u001b[0m: 'NoneType' object has no attribute 'sort_values'"
     ]
    }
   ],
   "source": [
    "googl=googl.sort_values(ascending=False,inplace=True)\n",
    "googl.head()"
   ]
  }
 ],
 "metadata": {
  "kernelspec": {
   "display_name": "Python 3",
   "language": "python",
   "name": "python3"
  },
  "language_info": {
   "codemirror_mode": {
    "name": "ipython",
    "version": 3
   },
   "file_extension": ".py",
   "mimetype": "text/x-python",
   "name": "python",
   "nbconvert_exporter": "python",
   "pygments_lexer": "ipython3",
   "version": "3.7.0"
  }
 },
 "nbformat": 4,
 "nbformat_minor": 2
}
