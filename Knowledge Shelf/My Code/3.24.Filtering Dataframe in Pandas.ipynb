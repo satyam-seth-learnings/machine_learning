{
 "cells": [
  {
   "cell_type": "code",
   "execution_count": 1,
   "metadata": {},
   "outputs": [],
   "source": [
    "import pandas as pd"
   ]
  },
  {
   "cell_type": "code",
   "execution_count": 4,
   "metadata": {},
   "outputs": [
    {
     "data": {
      "text/html": [
       "<div>\n",
       "<style scoped>\n",
       "    .dataframe tbody tr th:only-of-type {\n",
       "        vertical-align: middle;\n",
       "    }\n",
       "\n",
       "    .dataframe tbody tr th {\n",
       "        vertical-align: top;\n",
       "    }\n",
       "\n",
       "    .dataframe thead th {\n",
       "        text-align: right;\n",
       "    }\n",
       "</style>\n",
       "<table border=\"1\" class=\"dataframe\">\n",
       "  <thead>\n",
       "    <tr style=\"text-align: right;\">\n",
       "      <th></th>\n",
       "      <th>First Name</th>\n",
       "      <th>Gender</th>\n",
       "      <th>Start Date</th>\n",
       "      <th>Last Login Time</th>\n",
       "      <th>Salary</th>\n",
       "      <th>Bonus %</th>\n",
       "      <th>Senior Management</th>\n",
       "      <th>Team</th>\n",
       "    </tr>\n",
       "  </thead>\n",
       "  <tbody>\n",
       "    <tr>\n",
       "      <th>0</th>\n",
       "      <td>Douglas</td>\n",
       "      <td>Male</td>\n",
       "      <td>8/6/1993</td>\n",
       "      <td>12:42 PM</td>\n",
       "      <td>97308</td>\n",
       "      <td>6.945</td>\n",
       "      <td>True</td>\n",
       "      <td>Marketing</td>\n",
       "    </tr>\n",
       "    <tr>\n",
       "      <th>1</th>\n",
       "      <td>Thomas</td>\n",
       "      <td>Male</td>\n",
       "      <td>3/31/1996</td>\n",
       "      <td>6:53 AM</td>\n",
       "      <td>61933</td>\n",
       "      <td>4.170</td>\n",
       "      <td>True</td>\n",
       "      <td>NaN</td>\n",
       "    </tr>\n",
       "    <tr>\n",
       "      <th>2</th>\n",
       "      <td>Maria</td>\n",
       "      <td>Female</td>\n",
       "      <td>4/23/1993</td>\n",
       "      <td>11:17 AM</td>\n",
       "      <td>130590</td>\n",
       "      <td>11.858</td>\n",
       "      <td>False</td>\n",
       "      <td>Finance</td>\n",
       "    </tr>\n",
       "    <tr>\n",
       "      <th>3</th>\n",
       "      <td>Jerry</td>\n",
       "      <td>Male</td>\n",
       "      <td>3/4/2005</td>\n",
       "      <td>1:00 PM</td>\n",
       "      <td>138705</td>\n",
       "      <td>9.340</td>\n",
       "      <td>True</td>\n",
       "      <td>Finance</td>\n",
       "    </tr>\n",
       "    <tr>\n",
       "      <th>4</th>\n",
       "      <td>Larry</td>\n",
       "      <td>Male</td>\n",
       "      <td>1/24/1998</td>\n",
       "      <td>4:47 PM</td>\n",
       "      <td>101004</td>\n",
       "      <td>1.389</td>\n",
       "      <td>True</td>\n",
       "      <td>Client Services</td>\n",
       "    </tr>\n",
       "  </tbody>\n",
       "</table>\n",
       "</div>"
      ],
      "text/plain": [
       "  First Name  Gender Start Date Last Login Time  Salary  Bonus %  \\\n",
       "0    Douglas    Male   8/6/1993        12:42 PM   97308    6.945   \n",
       "1     Thomas    Male  3/31/1996         6:53 AM   61933    4.170   \n",
       "2      Maria  Female  4/23/1993        11:17 AM  130590   11.858   \n",
       "3      Jerry    Male   3/4/2005         1:00 PM  138705    9.340   \n",
       "4      Larry    Male  1/24/1998         4:47 PM  101004    1.389   \n",
       "\n",
       "  Senior Management             Team  \n",
       "0              True        Marketing  \n",
       "1              True              NaN  \n",
       "2             False          Finance  \n",
       "3              True          Finance  \n",
       "4              True  Client Services  "
      ]
     },
     "execution_count": 4,
     "metadata": {},
     "output_type": "execute_result"
    }
   ],
   "source": [
    "df=pd.read_csv('3.24.employees.csv')\n",
    "df.head()"
   ]
  },
  {
   "cell_type": "code",
   "execution_count": 5,
   "metadata": {},
   "outputs": [
    {
     "name": "stdout",
     "output_type": "stream",
     "text": [
      "<class 'pandas.core.frame.DataFrame'>\n",
      "RangeIndex: 1000 entries, 0 to 999\n",
      "Data columns (total 8 columns):\n",
      "First Name           933 non-null object\n",
      "Gender               855 non-null object\n",
      "Start Date           1000 non-null object\n",
      "Last Login Time      1000 non-null object\n",
      "Salary               1000 non-null int64\n",
      "Bonus %              1000 non-null float64\n",
      "Senior Management    933 non-null object\n",
      "Team                 957 non-null object\n",
      "dtypes: float64(1), int64(1), object(6)\n",
      "memory usage: 62.6+ KB\n"
     ]
    }
   ],
   "source": [
    "df.info()"
   ]
  },
  {
   "cell_type": "code",
   "execution_count": 6,
   "metadata": {},
   "outputs": [
    {
     "data": {
      "text/plain": [
       "0     8/6/1993\n",
       "1    3/31/1996\n",
       "2    4/23/1993\n",
       "3     3/4/2005\n",
       "4    1/24/1998\n",
       "Name: Start Date, dtype: object"
      ]
     },
     "execution_count": 6,
     "metadata": {},
     "output_type": "execute_result"
    }
   ],
   "source": [
    "df['Start Date'].head()"
   ]
  },
  {
   "cell_type": "code",
   "execution_count": 7,
   "metadata": {},
   "outputs": [
    {
     "data": {
      "text/plain": [
       "0     1993-08-06\n",
       "1     1996-03-31\n",
       "2     1993-04-23\n",
       "3     2005-03-04\n",
       "4     1998-01-24\n",
       "5     1987-04-18\n",
       "6     1987-08-17\n",
       "7     2015-07-20\n",
       "8     2005-11-22\n",
       "9     2002-08-08\n",
       "10    1980-08-12\n",
       "11    1997-10-26\n",
       "12    1980-12-01\n",
       "13    2008-01-27\n",
       "14    1999-01-14\n",
       "15    2016-06-05\n",
       "16    2010-09-21\n",
       "17    1986-12-07\n",
       "18    1981-10-23\n",
       "19    2010-07-22\n",
       "20    1995-04-22\n",
       "21    1995-09-05\n",
       "22    2012-03-08\n",
       "23    2012-06-14\n",
       "24    1992-07-01\n",
       "25    2012-10-08\n",
       "26    2000-02-27\n",
       "27    1991-07-11\n",
       "28    1981-11-27\n",
       "29    2005-01-26\n",
       "         ...    \n",
       "970   1988-09-03\n",
       "971   2002-12-30\n",
       "972   2006-07-28\n",
       "973   2013-05-10\n",
       "974   2011-08-30\n",
       "975   1995-04-07\n",
       "976   1992-10-19\n",
       "977   1995-12-04\n",
       "978   1983-01-17\n",
       "979   2013-07-20\n",
       "980   2013-01-26\n",
       "981   1993-01-15\n",
       "982   1982-04-06\n",
       "983   1982-12-23\n",
       "984   2011-10-15\n",
       "985   1983-07-10\n",
       "986   1982-11-26\n",
       "987   2014-12-08\n",
       "988   2004-10-05\n",
       "989   1991-02-10\n",
       "990   1987-07-24\n",
       "991   2002-08-25\n",
       "992   2011-10-16\n",
       "993   1997-05-15\n",
       "994   2013-06-21\n",
       "995   2014-11-23\n",
       "996   1984-01-31\n",
       "997   2013-05-20\n",
       "998   2013-04-20\n",
       "999   2012-05-15\n",
       "Name: Start Date, Length: 1000, dtype: datetime64[ns]"
      ]
     },
     "execution_count": 7,
     "metadata": {},
     "output_type": "execute_result"
    }
   ],
   "source": [
    "pd.to_datetime(df[\"Start Date\"])"
   ]
  },
  {
   "cell_type": "code",
   "execution_count": 10,
   "metadata": {},
   "outputs": [],
   "source": [
    "df['Start Date']=pd.to_datetime(df[\"Start Date\"])"
   ]
  },
  {
   "cell_type": "code",
   "execution_count": 11,
   "metadata": {},
   "outputs": [
    {
     "data": {
      "text/plain": [
       "0    12:42 PM\n",
       "1     6:53 AM\n",
       "2    11:17 AM\n",
       "3     1:00 PM\n",
       "4     4:47 PM\n",
       "Name: Last Login Time, dtype: object"
      ]
     },
     "execution_count": 11,
     "metadata": {},
     "output_type": "execute_result"
    }
   ],
   "source": [
    "df['Last Login Time'].head()"
   ]
  },
  {
   "cell_type": "code",
   "execution_count": 12,
   "metadata": {},
   "outputs": [
    {
     "data": {
      "text/plain": [
       "0     2020-02-05 12:42:00\n",
       "1     2020-02-05 06:53:00\n",
       "2     2020-02-05 11:17:00\n",
       "3     2020-02-05 13:00:00\n",
       "4     2020-02-05 16:47:00\n",
       "5     2020-02-05 01:35:00\n",
       "6     2020-02-05 16:20:00\n",
       "7     2020-02-05 10:43:00\n",
       "8     2020-02-05 06:29:00\n",
       "9     2020-02-05 06:51:00\n",
       "10    2020-02-05 09:01:00\n",
       "11    2020-02-05 15:19:00\n",
       "12    2020-02-05 01:08:00\n",
       "13    2020-02-05 23:40:00\n",
       "14    2020-02-05 07:13:00\n",
       "15    2020-02-05 06:09:00\n",
       "16    2020-02-05 05:56:00\n",
       "17    2020-02-05 19:45:00\n",
       "18    2020-02-05 10:27:00\n",
       "19    2020-02-05 03:48:00\n",
       "20    2020-02-05 19:18:00\n",
       "21    2020-02-05 02:12:00\n",
       "22    2020-02-05 01:58:00\n",
       "23    2020-02-05 16:19:00\n",
       "24    2020-02-05 22:08:00\n",
       "25    2020-02-05 01:12:00\n",
       "26    2020-02-05 07:45:00\n",
       "27    2020-02-05 18:58:00\n",
       "28    2020-02-05 18:30:00\n",
       "29    2020-02-05 22:06:00\n",
       "              ...        \n",
       "970   2020-02-05 20:54:00\n",
       "971   2020-02-05 02:01:00\n",
       "972   2020-02-05 14:49:00\n",
       "973   2020-02-05 23:08:00\n",
       "974   2020-02-05 18:31:00\n",
       "975   2020-02-05 22:05:00\n",
       "976   2020-02-05 05:42:00\n",
       "977   2020-02-05 09:16:00\n",
       "978   2020-02-05 14:23:00\n",
       "979   2020-02-05 06:41:00\n",
       "980   2020-02-05 00:57:00\n",
       "981   2020-02-05 17:19:00\n",
       "982   2020-02-05 10:43:00\n",
       "983   2020-02-05 22:35:00\n",
       "984   2020-02-05 16:53:00\n",
       "985   2020-02-05 20:10:00\n",
       "986   2020-02-05 07:04:00\n",
       "987   2020-02-05 05:08:00\n",
       "988   2020-02-05 09:34:00\n",
       "989   2020-02-05 16:58:00\n",
       "990   2020-02-05 13:35:00\n",
       "991   2020-02-05 05:12:00\n",
       "992   2020-02-05 08:35:00\n",
       "993   2020-02-05 15:53:00\n",
       "994   2020-02-05 17:47:00\n",
       "995   2020-02-05 06:09:00\n",
       "996   2020-02-05 06:30:00\n",
       "997   2020-02-05 12:39:00\n",
       "998   2020-02-05 16:45:00\n",
       "999   2020-02-05 18:24:00\n",
       "Name: Last Login Time, Length: 1000, dtype: datetime64[ns]"
      ]
     },
     "execution_count": 12,
     "metadata": {},
     "output_type": "execute_result"
    }
   ],
   "source": [
    "pd.to_datetime(df['Last Login Time'])"
   ]
  },
  {
   "cell_type": "code",
   "execution_count": 13,
   "metadata": {},
   "outputs": [],
   "source": [
    "df['Last Login Time']=pd.to_datetime(df['Last Login Time'])"
   ]
  },
  {
   "cell_type": "code",
   "execution_count": 18,
   "metadata": {},
   "outputs": [
    {
     "data": {
      "text/plain": [
       "0     True\n",
       "1     True\n",
       "2    False\n",
       "3     True\n",
       "4     True\n",
       "Name: Senior Management, dtype: object"
      ]
     },
     "execution_count": 18,
     "metadata": {},
     "output_type": "execute_result"
    }
   ],
   "source": [
    "df['Senior Management'].head()"
   ]
  },
  {
   "cell_type": "code",
   "execution_count": 19,
   "metadata": {},
   "outputs": [
    {
     "data": {
      "text/plain": [
       "0       True\n",
       "1       True\n",
       "2      False\n",
       "3       True\n",
       "4       True\n",
       "5      False\n",
       "6       True\n",
       "7       True\n",
       "8       True\n",
       "9       True\n",
       "10      True\n",
       "11      True\n",
       "12      True\n",
       "13     False\n",
       "14      True\n",
       "15     False\n",
       "16     False\n",
       "17     False\n",
       "18     False\n",
       "19     False\n",
       "20      True\n",
       "21     False\n",
       "22      True\n",
       "23      True\n",
       "24     False\n",
       "25      True\n",
       "26      True\n",
       "27     False\n",
       "28      True\n",
       "29      True\n",
       "       ...  \n",
       "970     True\n",
       "971     True\n",
       "972     True\n",
       "973    False\n",
       "974     True\n",
       "975    False\n",
       "976     True\n",
       "977    False\n",
       "978    False\n",
       "979     True\n",
       "980     True\n",
       "981    False\n",
       "982     True\n",
       "983    False\n",
       "984    False\n",
       "985    False\n",
       "986    False\n",
       "987     True\n",
       "988    False\n",
       "989    False\n",
       "990     True\n",
       "991     True\n",
       "992     True\n",
       "993     True\n",
       "994     True\n",
       "995    False\n",
       "996    False\n",
       "997    False\n",
       "998    False\n",
       "999     True\n",
       "Name: Senior Management, Length: 1000, dtype: bool"
      ]
     },
     "execution_count": 19,
     "metadata": {},
     "output_type": "execute_result"
    }
   ],
   "source": [
    "df['Senior Management'].astype('bool')"
   ]
  },
  {
   "cell_type": "code",
   "execution_count": 20,
   "metadata": {},
   "outputs": [],
   "source": [
    "df['Senior Management']=df['Senior Management'].astype('bool')"
   ]
  },
  {
   "cell_type": "code",
   "execution_count": 22,
   "metadata": {},
   "outputs": [
    {
     "data": {
      "text/plain": [
       "0      Male\n",
       "1      Male\n",
       "2    Female\n",
       "3      Male\n",
       "4      Male\n",
       "Name: Gender, dtype: object"
      ]
     },
     "execution_count": 22,
     "metadata": {},
     "output_type": "execute_result"
    }
   ],
   "source": [
    "df['Gender'].head()"
   ]
  },
  {
   "cell_type": "code",
   "execution_count": 23,
   "metadata": {},
   "outputs": [],
   "source": [
    "df['Gender']=df['Gender'].astype('category')"
   ]
  },
  {
   "cell_type": "code",
   "execution_count": 24,
   "metadata": {},
   "outputs": [
    {
     "name": "stdout",
     "output_type": "stream",
     "text": [
      "<class 'pandas.core.frame.DataFrame'>\n",
      "RangeIndex: 1000 entries, 0 to 999\n",
      "Data columns (total 8 columns):\n",
      "First Name           933 non-null object\n",
      "Gender               855 non-null category\n",
      "Start Date           1000 non-null datetime64[ns]\n",
      "Last Login Time      1000 non-null datetime64[ns]\n",
      "Salary               1000 non-null int64\n",
      "Bonus %              1000 non-null float64\n",
      "Senior Management    1000 non-null bool\n",
      "Team                 957 non-null object\n",
      "dtypes: bool(1), category(1), datetime64[ns](2), float64(1), int64(1), object(2)\n",
      "memory usage: 49.0+ KB\n"
     ]
    }
   ],
   "source": [
    "df.info()"
   ]
  },
  {
   "cell_type": "code",
   "execution_count": 25,
   "metadata": {},
   "outputs": [
    {
     "data": {
      "text/plain": [
       "0.7877813504823151"
      ]
     },
     "execution_count": 25,
     "metadata": {},
     "output_type": "execute_result"
    }
   ],
   "source": [
    "49.0/62.2"
   ]
  },
  {
   "cell_type": "code",
   "execution_count": 27,
   "metadata": {},
   "outputs": [
    {
     "data": {
      "text/html": [
       "<div>\n",
       "<style scoped>\n",
       "    .dataframe tbody tr th:only-of-type {\n",
       "        vertical-align: middle;\n",
       "    }\n",
       "\n",
       "    .dataframe tbody tr th {\n",
       "        vertical-align: top;\n",
       "    }\n",
       "\n",
       "    .dataframe thead th {\n",
       "        text-align: right;\n",
       "    }\n",
       "</style>\n",
       "<table border=\"1\" class=\"dataframe\">\n",
       "  <thead>\n",
       "    <tr style=\"text-align: right;\">\n",
       "      <th></th>\n",
       "      <th>First Name</th>\n",
       "      <th>Gender</th>\n",
       "      <th>Start Date</th>\n",
       "      <th>Last Login Time</th>\n",
       "      <th>Salary</th>\n",
       "      <th>Bonus %</th>\n",
       "      <th>Senior Management</th>\n",
       "      <th>Team</th>\n",
       "    </tr>\n",
       "  </thead>\n",
       "  <tbody>\n",
       "    <tr>\n",
       "      <th>0</th>\n",
       "      <td>Douglas</td>\n",
       "      <td>Male</td>\n",
       "      <td>1993-08-06</td>\n",
       "      <td>2020-02-05 12:42:00</td>\n",
       "      <td>97308</td>\n",
       "      <td>6.945</td>\n",
       "      <td>True</td>\n",
       "      <td>Marketing</td>\n",
       "    </tr>\n",
       "    <tr>\n",
       "      <th>1</th>\n",
       "      <td>Thomas</td>\n",
       "      <td>Male</td>\n",
       "      <td>1996-03-31</td>\n",
       "      <td>2020-02-05 06:53:00</td>\n",
       "      <td>61933</td>\n",
       "      <td>4.170</td>\n",
       "      <td>True</td>\n",
       "      <td>NaN</td>\n",
       "    </tr>\n",
       "    <tr>\n",
       "      <th>2</th>\n",
       "      <td>Maria</td>\n",
       "      <td>Female</td>\n",
       "      <td>1993-04-23</td>\n",
       "      <td>2020-02-05 11:17:00</td>\n",
       "      <td>130590</td>\n",
       "      <td>11.858</td>\n",
       "      <td>False</td>\n",
       "      <td>Finance</td>\n",
       "    </tr>\n",
       "    <tr>\n",
       "      <th>3</th>\n",
       "      <td>Jerry</td>\n",
       "      <td>Male</td>\n",
       "      <td>2005-03-04</td>\n",
       "      <td>2020-02-05 13:00:00</td>\n",
       "      <td>138705</td>\n",
       "      <td>9.340</td>\n",
       "      <td>True</td>\n",
       "      <td>Finance</td>\n",
       "    </tr>\n",
       "    <tr>\n",
       "      <th>4</th>\n",
       "      <td>Larry</td>\n",
       "      <td>Male</td>\n",
       "      <td>1998-01-24</td>\n",
       "      <td>2020-02-05 16:47:00</td>\n",
       "      <td>101004</td>\n",
       "      <td>1.389</td>\n",
       "      <td>True</td>\n",
       "      <td>Client Services</td>\n",
       "    </tr>\n",
       "  </tbody>\n",
       "</table>\n",
       "</div>"
      ],
      "text/plain": [
       "  First Name  Gender Start Date     Last Login Time  Salary  Bonus %  \\\n",
       "0    Douglas    Male 1993-08-06 2020-02-05 12:42:00   97308    6.945   \n",
       "1     Thomas    Male 1996-03-31 2020-02-05 06:53:00   61933    4.170   \n",
       "2      Maria  Female 1993-04-23 2020-02-05 11:17:00  130590   11.858   \n",
       "3      Jerry    Male 2005-03-04 2020-02-05 13:00:00  138705    9.340   \n",
       "4      Larry    Male 1998-01-24 2020-02-05 16:47:00  101004    1.389   \n",
       "\n",
       "   Senior Management             Team  \n",
       "0               True        Marketing  \n",
       "1               True              NaN  \n",
       "2              False          Finance  \n",
       "3               True          Finance  \n",
       "4               True  Client Services  "
      ]
     },
     "execution_count": 27,
     "metadata": {},
     "output_type": "execute_result"
    }
   ],
   "source": [
    "df=pd.read_csv('3.24.employees.csv',parse_dates=['Start Date','Last Login Time'])\n",
    "df['Senior Management']=df['Senior Management'].astype('bool')\n",
    "df['Gender']=df['Gender'].astype('category')\n",
    "df.head()"
   ]
  },
  {
   "cell_type": "code",
   "execution_count": 28,
   "metadata": {},
   "outputs": [
    {
     "name": "stdout",
     "output_type": "stream",
     "text": [
      "<class 'pandas.core.frame.DataFrame'>\n",
      "RangeIndex: 1000 entries, 0 to 999\n",
      "Data columns (total 8 columns):\n",
      "First Name           933 non-null object\n",
      "Gender               855 non-null category\n",
      "Start Date           1000 non-null datetime64[ns]\n",
      "Last Login Time      1000 non-null datetime64[ns]\n",
      "Salary               1000 non-null int64\n",
      "Bonus %              1000 non-null float64\n",
      "Senior Management    1000 non-null bool\n",
      "Team                 957 non-null object\n",
      "dtypes: bool(1), category(1), datetime64[ns](2), float64(1), int64(1), object(2)\n",
      "memory usage: 49.0+ KB\n"
     ]
    }
   ],
   "source": [
    "df.info()"
   ]
  }
 ],
 "metadata": {
  "kernelspec": {
   "display_name": "Python 3",
   "language": "python",
   "name": "python3"
  },
  "language_info": {
   "codemirror_mode": {
    "name": "ipython",
    "version": 3
   },
   "file_extension": ".py",
   "mimetype": "text/x-python",
   "name": "python",
   "nbconvert_exporter": "python",
   "pygments_lexer": "ipython3",
   "version": "3.7.0"
  }
 },
 "nbformat": 4,
 "nbformat_minor": 2
}
